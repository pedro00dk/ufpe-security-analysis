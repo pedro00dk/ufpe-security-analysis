{
  "nbformat": 4,
  "nbformat_minor": 0,
  "metadata": {
    "colab": {
      "name": "ufpe_sa.ipynb",
      "version": "0.3.2",
      "provenance": [],
      "include_colab_link": true
    },
    "kernelspec": {
      "name": "python3",
      "display_name": "Python 3"
    }
  },
  "cells": [
    {
      "cell_type": "markdown",
      "metadata": {
        "id": "view-in-github",
        "colab_type": "text"
      },
      "source": [
        "<a href=\"https://colab.research.google.com/github/pedro00dk/ufpe-security-analysis/blob/master/ufpe_sa.ipynb\" target=\"_parent\"><img src=\"https://colab.research.google.com/assets/colab-badge.svg\" alt=\"Open In Colab\"/></a>"
      ]
    },
    {
      "metadata": {
        "id": "RtdnypTW1Tqx",
        "colab_type": "text"
      },
      "cell_type": "markdown",
      "source": [
        "# UFPE Security Analysis"
      ]
    },
    {
      "metadata": {
        "id": "AYOC4owg9R48",
        "colab_type": "text"
      },
      "cell_type": "markdown",
      "source": [
        "Fetching github repo to get database file."
      ]
    },
    {
      "metadata": {
        "id": "kQmQq91f0yXH",
        "colab_type": "code",
        "outputId": "49820a20-b7c6-4d0c-d7cc-427d3100272a",
        "colab": {
          "base_uri": "https://localhost:8080/",
          "height": 143
        }
      },
      "cell_type": "code",
      "source": [
        "!rm --recursive --force -- ./ufpe-security-analysis/\n",
        "!git clone -- https://github.com/pedro00dk/ufpe-security-analysis\n",
        "!ls -- ./ufpe-security-analysis/"
      ],
      "execution_count": 1,
      "outputs": [
        {
          "output_type": "stream",
          "text": [
            "Cloning into 'ufpe-security-analysis'...\n",
            "remote: Enumerating objects: 18, done.\u001b[K\n",
            "remote: Counting objects: 100% (18/18), done.\u001b[K\n",
            "remote: Compressing objects: 100% (16/16), done.\u001b[K\n",
            "remote: Total 18 (delta 6), reused 0 (delta 0), pack-reused 0\u001b[K\n",
            "Unpacking objects: 100% (18/18), done.\n",
            " README.md   ufpe_sa.ipynb  'UFPE SSI.xlsx'\n"
          ],
          "name": "stdout"
        }
      ]
    },
    {
      "metadata": {
        "id": "zCiUq6Z79c10",
        "colab_type": "text"
      },
      "cell_type": "markdown",
      "source": [
        "Install necessary tools for loading excel"
      ]
    },
    {
      "metadata": {
        "id": "Y_qiSckS59cO",
        "colab_type": "code",
        "outputId": "d2fea4a3-e463-45b1-cc59-426a105a2ce2",
        "colab": {
          "base_uri": "https://localhost:8080/",
          "height": 107
        }
      },
      "cell_type": "code",
      "source": [
        "!pip install xlrd"
      ],
      "execution_count": 2,
      "outputs": [
        {
          "output_type": "stream",
          "text": [
            "Collecting xlrd\n",
            "\u001b[?25l  Downloading https://files.pythonhosted.org/packages/07/e6/e95c4eec6221bfd8528bcc4ea252a850bffcc4be88ebc367e23a1a84b0bb/xlrd-1.1.0-py2.py3-none-any.whl (108kB)\n",
            "\u001b[K    100% |████████████████████████████████| 112kB 4.2MB/s \n",
            "\u001b[?25hInstalling collected packages: xlrd\n",
            "Successfully installed xlrd-1.1.0\n"
          ],
          "name": "stdout"
        }
      ]
    },
    {
      "metadata": {
        "id": "XXndZFmh4fBi",
        "colab_type": "code",
        "colab": {}
      },
      "cell_type": "code",
      "source": [
        "import numpy as np\n",
        "import pandas as pd\n",
        "import re"
      ],
      "execution_count": 0,
      "outputs": []
    },
    {
      "metadata": {
        "id": "JiZ8q-Wb9nrf",
        "colab_type": "text"
      },
      "cell_type": "markdown",
      "source": [
        "The database consists in an excel file with sheets per year of information. All of these sheets have to be loaded."
      ]
    },
    {
      "metadata": {
        "id": "wqMQeUtB4_9P",
        "colab_type": "code",
        "outputId": "c33ee3ea-add4-4495-87c5-5bf4248aa1b3",
        "colab": {
          "base_uri": "https://localhost:8080/",
          "height": 1018
        }
      },
      "cell_type": "code",
      "source": [
        "xls = pd.ExcelFile('./ufpe-security-analysis/UFPE SSI.xlsx')\n",
        "dfs = xls.parse(sheet_name=xls.sheet_names)\n",
        "\n",
        "[display(y, df.sample(2)) for y, df in dfs.items()]"
      ],
      "execution_count": 20,
      "outputs": [
        {
          "output_type": "display_data",
          "data": {
            "text/plain": [
              "'2008'"
            ]
          },
          "metadata": {
            "tags": []
          }
        },
        {
          "output_type": "display_data",
          "data": {
            "text/html": [
              "<div>\n",
              "<style scoped>\n",
              "    .dataframe tbody tr th:only-of-type {\n",
              "        vertical-align: middle;\n",
              "    }\n",
              "\n",
              "    .dataframe tbody tr th {\n",
              "        vertical-align: top;\n",
              "    }\n",
              "\n",
              "    .dataframe thead th {\n",
              "        text-align: right;\n",
              "    }\n",
              "</style>\n",
              "<table border=\"1\" class=\"dataframe\">\n",
              "  <thead>\n",
              "    <tr style=\"text-align: right;\">\n",
              "      <th></th>\n",
              "      <th>Data</th>\n",
              "      <th>Quadrante</th>\n",
              "      <th>Local</th>\n",
              "      <th>Horário</th>\n",
              "      <th>Tipo</th>\n",
              "      <th>Descrição Sumária</th>\n",
              "      <th>Partes</th>\n",
              "      <th>Medidas</th>\n",
              "    </tr>\n",
              "  </thead>\n",
              "  <tbody>\n",
              "    <tr>\n",
              "      <th>112</th>\n",
              "      <td>03.05.08</td>\n",
              "      <td>Alfa</td>\n",
              "      <td>CEU-MASC</td>\n",
              "      <td>07h30</td>\n",
              "      <td>Furto</td>\n",
              "      <td>Ocorrência 618-dois elementos  entraram na cas...</td>\n",
              "      <td>Emanuel Armando Teixeira</td>\n",
              "      <td>O GTO fez várias incursões, mas sem éxito.</td>\n",
              "    </tr>\n",
              "    <tr>\n",
              "      <th>115</th>\n",
              "      <td>06.05.08</td>\n",
              "      <td>ZLI</td>\n",
              "      <td>Av.  Economista</td>\n",
              "      <td>18h50</td>\n",
              "      <td>Assalto</td>\n",
              "      <td>Ocorrência 624-estudante é assaltada.</td>\n",
              "      <td>Viviane Azevedo Galdino</td>\n",
              "      <td>O GTO fez várias incursões, mas sem éxito.</td>\n",
              "    </tr>\n",
              "  </tbody>\n",
              "</table>\n",
              "</div>"
            ],
            "text/plain": [
              "         Data Quadrante            Local Horário     Tipo  \\\n",
              "112  03.05.08      Alfa         CEU-MASC   07h30    Furto   \n",
              "115  06.05.08       ZLI  Av.  Economista   18h50  Assalto   \n",
              "\n",
              "                                     Descrição Sumária  \\\n",
              "112  Ocorrência 618-dois elementos  entraram na cas...   \n",
              "115              Ocorrência 624-estudante é assaltada.   \n",
              "\n",
              "                       Partes                                     Medidas  \n",
              "112  Emanuel Armando Teixeira  O GTO fez várias incursões, mas sem éxito.  \n",
              "115   Viviane Azevedo Galdino  O GTO fez várias incursões, mas sem éxito.  "
            ]
          },
          "metadata": {
            "tags": []
          }
        },
        {
          "output_type": "display_data",
          "data": {
            "text/plain": [
              "'2009'"
            ]
          },
          "metadata": {
            "tags": []
          }
        },
        {
          "output_type": "display_data",
          "data": {
            "text/html": [
              "<div>\n",
              "<style scoped>\n",
              "    .dataframe tbody tr th:only-of-type {\n",
              "        vertical-align: middle;\n",
              "    }\n",
              "\n",
              "    .dataframe tbody tr th {\n",
              "        vertical-align: top;\n",
              "    }\n",
              "\n",
              "    .dataframe thead th {\n",
              "        text-align: right;\n",
              "    }\n",
              "</style>\n",
              "<table border=\"1\" class=\"dataframe\">\n",
              "  <thead>\n",
              "    <tr style=\"text-align: right;\">\n",
              "      <th></th>\n",
              "      <th>Data</th>\n",
              "      <th>Quadrante</th>\n",
              "      <th>Local</th>\n",
              "      <th>Horário</th>\n",
              "      <th>Tipo</th>\n",
              "      <th>Descrição Sumária</th>\n",
              "      <th>Partes</th>\n",
              "      <th>Medidas</th>\n",
              "    </tr>\n",
              "  </thead>\n",
              "  <tbody>\n",
              "    <tr>\n",
              "      <th>169</th>\n",
              "      <td>31.12.09</td>\n",
              "      <td>Alfa</td>\n",
              "      <td>Reitoria - Externa</td>\n",
              "      <td>21h00</td>\n",
              "      <td>Roubo</td>\n",
              "      <td>Conforme registro, a funcionária que presta se...</td>\n",
              "      <td>GTO</td>\n",
              "      <td>GTO registra.</td>\n",
              "    </tr>\n",
              "    <tr>\n",
              "      <th>84</th>\n",
              "      <td>19.03.09</td>\n",
              "      <td>Beta</td>\n",
              "      <td>Oceanografia</td>\n",
              "      <td>21h40</td>\n",
              "      <td>Registro de ocorrência</td>\n",
              "      <td>Ocorrência 2031 - O alarme foi acionado.</td>\n",
              "      <td>Empresa TKS.</td>\n",
              "      <td>O GTO foi ao local e colocou uma corrente com ...</td>\n",
              "    </tr>\n",
              "  </tbody>\n",
              "</table>\n",
              "</div>"
            ],
            "text/plain": [
              "         Data Quadrante               Local Horário                    Tipo  \\\n",
              "169  31.12.09      Alfa  Reitoria - Externa   21h00                   Roubo   \n",
              "84   19.03.09      Beta        Oceanografia   21h40  Registro de ocorrência   \n",
              "\n",
              "                                     Descrição Sumária        Partes  \\\n",
              "169  Conforme registro, a funcionária que presta se...           GTO   \n",
              "84            Ocorrência 2031 - O alarme foi acionado.  Empresa TKS.   \n",
              "\n",
              "                                               Medidas  \n",
              "169                                      GTO registra.  \n",
              "84   O GTO foi ao local e colocou uma corrente com ...  "
            ]
          },
          "metadata": {
            "tags": []
          }
        },
        {
          "output_type": "display_data",
          "data": {
            "text/plain": [
              "'2011'"
            ]
          },
          "metadata": {
            "tags": []
          }
        },
        {
          "output_type": "display_data",
          "data": {
            "text/html": [
              "<div>\n",
              "<style scoped>\n",
              "    .dataframe tbody tr th:only-of-type {\n",
              "        vertical-align: middle;\n",
              "    }\n",
              "\n",
              "    .dataframe tbody tr th {\n",
              "        vertical-align: top;\n",
              "    }\n",
              "\n",
              "    .dataframe thead th {\n",
              "        text-align: right;\n",
              "    }\n",
              "</style>\n",
              "<table border=\"1\" class=\"dataframe\">\n",
              "  <thead>\n",
              "    <tr style=\"text-align: right;\">\n",
              "      <th></th>\n",
              "      <th>Data</th>\n",
              "      <th>Quadrante</th>\n",
              "      <th>Local</th>\n",
              "      <th>horário</th>\n",
              "      <th>Tipo</th>\n",
              "      <th>Descrição Sumária</th>\n",
              "      <th>Partes</th>\n",
              "      <th>Medidas</th>\n",
              "    </tr>\n",
              "  </thead>\n",
              "  <tbody>\n",
              "    <tr>\n",
              "      <th>176</th>\n",
              "      <td>07.11.11</td>\n",
              "      <td>Gama</td>\n",
              "      <td>Colégio de Aplicação</td>\n",
              "      <td>NaN</td>\n",
              "      <td>Arrombamento de Instalações</td>\n",
              "      <td>ocorrência 3518- foi informado que a quadra co...</td>\n",
              "      <td>Marcelo Soares Tavares</td>\n",
              "      <td>NaN</td>\n",
              "    </tr>\n",
              "    <tr>\n",
              "      <th>131</th>\n",
              "      <td>16.08.11</td>\n",
              "      <td>ZLE</td>\n",
              "      <td>BB - reitoria - Externa</td>\n",
              "      <td>18h30</td>\n",
              "      <td>Roubo (ZLE)</td>\n",
              "      <td>Ocorrencia 3345 - registra declaração de aluna...</td>\n",
              "      <td>NaN</td>\n",
              "      <td>Registrado na CSDP</td>\n",
              "    </tr>\n",
              "  </tbody>\n",
              "</table>\n",
              "</div>"
            ],
            "text/plain": [
              "         Data Quadrante                     Local horário  \\\n",
              "176  07.11.11      Gama      Colégio de Aplicação     NaN   \n",
              "131  16.08.11       ZLE  BB - reitoria - Externa    18h30   \n",
              "\n",
              "                           Tipo   \\\n",
              "176  Arrombamento de Instalações   \n",
              "131                  Roubo (ZLE)   \n",
              "\n",
              "                                     Descrição Sumária  \\\n",
              "176  ocorrência 3518- foi informado que a quadra co...   \n",
              "131  Ocorrencia 3345 - registra declaração de aluna...   \n",
              "\n",
              "                     Partes             Medidas  \n",
              "176  Marcelo Soares Tavares                 NaN  \n",
              "131                     NaN  Registrado na CSDP  "
            ]
          },
          "metadata": {
            "tags": []
          }
        },
        {
          "output_type": "display_data",
          "data": {
            "text/plain": [
              "'2012'"
            ]
          },
          "metadata": {
            "tags": []
          }
        },
        {
          "output_type": "display_data",
          "data": {
            "text/html": [
              "<div>\n",
              "<style scoped>\n",
              "    .dataframe tbody tr th:only-of-type {\n",
              "        vertical-align: middle;\n",
              "    }\n",
              "\n",
              "    .dataframe tbody tr th {\n",
              "        vertical-align: top;\n",
              "    }\n",
              "\n",
              "    .dataframe thead th {\n",
              "        text-align: right;\n",
              "    }\n",
              "</style>\n",
              "<table border=\"1\" class=\"dataframe\">\n",
              "  <thead>\n",
              "    <tr style=\"text-align: right;\">\n",
              "      <th></th>\n",
              "      <th>Data</th>\n",
              "      <th>Quadrante</th>\n",
              "      <th>Local</th>\n",
              "      <th>horário</th>\n",
              "      <th>Tipo</th>\n",
              "      <th>Descrição Sumária</th>\n",
              "      <th>Partes</th>\n",
              "      <th>Medidas</th>\n",
              "    </tr>\n",
              "  </thead>\n",
              "  <tbody>\n",
              "    <tr>\n",
              "      <th>217</th>\n",
              "      <td>17.11.12</td>\n",
              "      <td>ZLE</td>\n",
              "      <td>Giradouro da Reitoria</td>\n",
              "      <td>05h12</td>\n",
              "      <td>Acidente</td>\n",
              "      <td>Ocorrência 4262 - Um vigilante ao transitar de...</td>\n",
              "      <td>José Deibson Xavier</td>\n",
              "      <td>O acidentatado foi levado a UPA</td>\n",
              "    </tr>\n",
              "    <tr>\n",
              "      <th>245</th>\n",
              "      <td>30.12.12</td>\n",
              "      <td>ZLE</td>\n",
              "      <td>Ñinf</td>\n",
              "      <td>12h30</td>\n",
              "      <td>Registro de ocorrência</td>\n",
              "      <td>Ocorrência 4348- A VT 02 foi interceptada por ...</td>\n",
              "      <td>Daniele Quirino, Carlos Vinicius</td>\n",
              "      <td>Os envolvidos foram levados para a GPCA</td>\n",
              "    </tr>\n",
              "  </tbody>\n",
              "</table>\n",
              "</div>"
            ],
            "text/plain": [
              "         Data Quadrante                  Local horário  \\\n",
              "217  17.11.12       ZLE  Giradouro da Reitoria   05h12   \n",
              "245  30.12.12       ZLE                   Ñinf   12h30   \n",
              "\n",
              "                      Tipo   \\\n",
              "217                Acidente   \n",
              "245  Registro de ocorrência   \n",
              "\n",
              "                                     Descrição Sumária  \\\n",
              "217  Ocorrência 4262 - Um vigilante ao transitar de...   \n",
              "245  Ocorrência 4348- A VT 02 foi interceptada por ...   \n",
              "\n",
              "                               Partes                                  Medidas  \n",
              "217               José Deibson Xavier          O acidentatado foi levado a UPA  \n",
              "245  Daniele Quirino, Carlos Vinicius  Os envolvidos foram levados para a GPCA  "
            ]
          },
          "metadata": {
            "tags": []
          }
        },
        {
          "output_type": "display_data",
          "data": {
            "text/plain": [
              "'2013'"
            ]
          },
          "metadata": {
            "tags": []
          }
        },
        {
          "output_type": "display_data",
          "data": {
            "text/html": [
              "<div>\n",
              "<style scoped>\n",
              "    .dataframe tbody tr th:only-of-type {\n",
              "        vertical-align: middle;\n",
              "    }\n",
              "\n",
              "    .dataframe tbody tr th {\n",
              "        vertical-align: top;\n",
              "    }\n",
              "\n",
              "    .dataframe thead th {\n",
              "        text-align: right;\n",
              "    }\n",
              "</style>\n",
              "<table border=\"1\" class=\"dataframe\">\n",
              "  <thead>\n",
              "    <tr style=\"text-align: right;\">\n",
              "      <th></th>\n",
              "      <th>Data</th>\n",
              "      <th>Quadrante</th>\n",
              "      <th>Local</th>\n",
              "      <th>horário</th>\n",
              "      <th>Tipo</th>\n",
              "      <th>Descrição Sumária</th>\n",
              "      <th>Partes</th>\n",
              "      <th>Medidas</th>\n",
              "    </tr>\n",
              "  </thead>\n",
              "  <tbody>\n",
              "    <tr>\n",
              "      <th>175</th>\n",
              "      <td>2013-04-30</td>\n",
              "      <td>Beta</td>\n",
              "      <td>CCEN</td>\n",
              "      <td>10h15</td>\n",
              "      <td>Arrombamento de Veículo</td>\n",
              "      <td>Ocorrência 4890-o veículo PEUGEOT NQA 1650 foi...</td>\n",
              "      <td>Sérgio Rene Pessoa (proprietário do carro)</td>\n",
              "      <td>O GTO orientou a proprietária a prestar queixa...</td>\n",
              "    </tr>\n",
              "    <tr>\n",
              "      <th>226</th>\n",
              "      <td>2013-05-28</td>\n",
              "      <td>Gama</td>\n",
              "      <td>Biblioteca Central</td>\n",
              "      <td>08h45</td>\n",
              "      <td>Carro c/ Vulnerabilidade</td>\n",
              "      <td>Ocorrência 4946-segundo registro o carro SIENA...</td>\n",
              "      <td>Luiz Carlos de França( proprietário)</td>\n",
              "      <td>O GTO entrou em contato como o dono do carro.</td>\n",
              "    </tr>\n",
              "  </tbody>\n",
              "</table>\n",
              "</div>"
            ],
            "text/plain": [
              "          Data Quadrante               Local horário  \\\n",
              "175 2013-04-30      Beta                CCEN   10h15   \n",
              "226 2013-05-28      Gama  Biblioteca Central   08h45   \n",
              "\n",
              "                        Tipo   \\\n",
              "175   Arrombamento de Veículo   \n",
              "226  Carro c/ Vulnerabilidade   \n",
              "\n",
              "                                     Descrição Sumária  \\\n",
              "175  Ocorrência 4890-o veículo PEUGEOT NQA 1650 foi...   \n",
              "226  Ocorrência 4946-segundo registro o carro SIENA...   \n",
              "\n",
              "                                         Partes  \\\n",
              "175  Sérgio Rene Pessoa (proprietário do carro)   \n",
              "226        Luiz Carlos de França( proprietário)   \n",
              "\n",
              "                                               Medidas  \n",
              "175  O GTO orientou a proprietária a prestar queixa...  \n",
              "226      O GTO entrou em contato como o dono do carro.  "
            ]
          },
          "metadata": {
            "tags": []
          }
        },
        {
          "output_type": "display_data",
          "data": {
            "text/plain": [
              "'2014'"
            ]
          },
          "metadata": {
            "tags": []
          }
        },
        {
          "output_type": "display_data",
          "data": {
            "text/html": [
              "<div>\n",
              "<style scoped>\n",
              "    .dataframe tbody tr th:only-of-type {\n",
              "        vertical-align: middle;\n",
              "    }\n",
              "\n",
              "    .dataframe tbody tr th {\n",
              "        vertical-align: top;\n",
              "    }\n",
              "\n",
              "    .dataframe thead th {\n",
              "        text-align: right;\n",
              "    }\n",
              "</style>\n",
              "<table border=\"1\" class=\"dataframe\">\n",
              "  <thead>\n",
              "    <tr style=\"text-align: right;\">\n",
              "      <th></th>\n",
              "      <th>Data</th>\n",
              "      <th>Quadrante</th>\n",
              "      <th>Local</th>\n",
              "      <th>horário</th>\n",
              "      <th>Tipo</th>\n",
              "      <th>Descrição Sumária</th>\n",
              "      <th>Partes</th>\n",
              "      <th>Medidas</th>\n",
              "    </tr>\n",
              "  </thead>\n",
              "  <tbody>\n",
              "    <tr>\n",
              "      <th>243</th>\n",
              "      <td>2014-07-01 00:00:00</td>\n",
              "      <td>Ñ inf</td>\n",
              "      <td>Ñ inf</td>\n",
              "      <td>21h30</td>\n",
              "      <td>Registro de ocorrência</td>\n",
              "      <td>Ocorrência 7640 - segundo registro um indivídu...</td>\n",
              "      <td>Informante: Aldo Soares (vigilante).</td>\n",
              "      <td>A PM esteve no local e o problema foi solucion...</td>\n",
              "    </tr>\n",
              "    <tr>\n",
              "      <th>62</th>\n",
              "      <td>2014-02-20 00:00:00</td>\n",
              "      <td>Alfa</td>\n",
              "      <td>Casa do estudante</td>\n",
              "      <td>Ñ inf</td>\n",
              "      <td>Registro de ocorrência</td>\n",
              "      <td>Ocorrência 7280-segundo registro dois elemento...</td>\n",
              "      <td>Ñ inf</td>\n",
              "      <td>As bicicletas foram conduzidas a COS.</td>\n",
              "    </tr>\n",
              "  </tbody>\n",
              "</table>\n",
              "</div>"
            ],
            "text/plain": [
              "                    Data Quadrante              Local horário  \\\n",
              "243  2014-07-01 00:00:00     Ñ inf              Ñ inf   21h30   \n",
              "62   2014-02-20 00:00:00      Alfa  Casa do estudante   Ñ inf   \n",
              "\n",
              "                      Tipo   \\\n",
              "243  Registro de ocorrência   \n",
              "62   Registro de ocorrência   \n",
              "\n",
              "                                     Descrição Sumária  \\\n",
              "243  Ocorrência 7640 - segundo registro um indivídu...   \n",
              "62   Ocorrência 7280-segundo registro dois elemento...   \n",
              "\n",
              "                                   Partes  \\\n",
              "243  Informante: Aldo Soares (vigilante).   \n",
              "62                                  Ñ inf   \n",
              "\n",
              "                                               Medidas  \n",
              "243  A PM esteve no local e o problema foi solucion...  \n",
              "62               As bicicletas foram conduzidas a COS.  "
            ]
          },
          "metadata": {
            "tags": []
          }
        },
        {
          "output_type": "display_data",
          "data": {
            "text/plain": [
              "'2015'"
            ]
          },
          "metadata": {
            "tags": []
          }
        },
        {
          "output_type": "display_data",
          "data": {
            "text/html": [
              "<div>\n",
              "<style scoped>\n",
              "    .dataframe tbody tr th:only-of-type {\n",
              "        vertical-align: middle;\n",
              "    }\n",
              "\n",
              "    .dataframe tbody tr th {\n",
              "        vertical-align: top;\n",
              "    }\n",
              "\n",
              "    .dataframe thead th {\n",
              "        text-align: right;\n",
              "    }\n",
              "</style>\n",
              "<table border=\"1\" class=\"dataframe\">\n",
              "  <thead>\n",
              "    <tr style=\"text-align: right;\">\n",
              "      <th></th>\n",
              "      <th>Data</th>\n",
              "      <th>Quadrante</th>\n",
              "      <th>Local</th>\n",
              "      <th>horário</th>\n",
              "      <th>Tipo</th>\n",
              "      <th>Descrição Sumária</th>\n",
              "      <th>Partes</th>\n",
              "      <th>Medidas</th>\n",
              "      <th>Unnamed: 8</th>\n",
              "      <th>Unnamed: 9</th>\n",
              "      <th>...</th>\n",
              "      <th>Unnamed: 26</th>\n",
              "      <th>Unnamed: 27</th>\n",
              "      <th>Unnamed: 28</th>\n",
              "      <th>Unnamed: 29</th>\n",
              "      <th>Unnamed: 30</th>\n",
              "      <th>Unnamed: 31</th>\n",
              "      <th>Unnamed: 32</th>\n",
              "      <th>Unnamed: 33</th>\n",
              "      <th>Unnamed: 34</th>\n",
              "      <th>Unnamed: 35</th>\n",
              "    </tr>\n",
              "  </thead>\n",
              "  <tbody>\n",
              "    <tr>\n",
              "      <th>353</th>\n",
              "      <td>2015-09-02</td>\n",
              "      <td>Gama</td>\n",
              "      <td>CAC</td>\n",
              "      <td>08h20</td>\n",
              "      <td>Incêndio</td>\n",
              "      <td>Ocorrência 0495 TURMA \"B\" - segundo registro h...</td>\n",
              "      <td>Informante: Marcone (TKS).</td>\n",
              "      <td>O Corpo de Bombeiros e a elétrica foram aciona...</td>\n",
              "      <td>NaN</td>\n",
              "      <td>NaN</td>\n",
              "      <td>...</td>\n",
              "      <td>NaN</td>\n",
              "      <td>NaN</td>\n",
              "      <td>NaN</td>\n",
              "      <td>NaN</td>\n",
              "      <td>NaN</td>\n",
              "      <td>NaN</td>\n",
              "      <td>NaN</td>\n",
              "      <td>NaN</td>\n",
              "      <td>NaN</td>\n",
              "      <td>NaN</td>\n",
              "    </tr>\n",
              "    <tr>\n",
              "      <th>407</th>\n",
              "      <td>2015-10-29</td>\n",
              "      <td>Gama</td>\n",
              "      <td>Laguinho</td>\n",
              "      <td>14h50</td>\n",
              "      <td>Abordagem</td>\n",
              "      <td>Ocorrência 0625 TURMA “C” - segundo registro t...</td>\n",
              "      <td>Elementos: Bruno Opcionário de Mendonça, Lucas...</td>\n",
              "      <td>Os mesmos prometeram não fazer mais o uso de e...</td>\n",
              "      <td>NaN</td>\n",
              "      <td>NaN</td>\n",
              "      <td>...</td>\n",
              "      <td>NaN</td>\n",
              "      <td>NaN</td>\n",
              "      <td>NaN</td>\n",
              "      <td>NaN</td>\n",
              "      <td>NaN</td>\n",
              "      <td>NaN</td>\n",
              "      <td>NaN</td>\n",
              "      <td>NaN</td>\n",
              "      <td>NaN</td>\n",
              "      <td>NaN</td>\n",
              "    </tr>\n",
              "  </tbody>\n",
              "</table>\n",
              "<p>2 rows × 36 columns</p>\n",
              "</div>"
            ],
            "text/plain": [
              "          Data Quadrante     Local horário      Tipo   \\\n",
              "353 2015-09-02      Gama       CAC   08h20   Incêndio   \n",
              "407 2015-10-29      Gama  Laguinho   14h50  Abordagem   \n",
              "\n",
              "                                     Descrição Sumária  \\\n",
              "353  Ocorrência 0495 TURMA \"B\" - segundo registro h...   \n",
              "407  Ocorrência 0625 TURMA “C” - segundo registro t...   \n",
              "\n",
              "                                                Partes  \\\n",
              "353                         Informante: Marcone (TKS).   \n",
              "407  Elementos: Bruno Opcionário de Mendonça, Lucas...   \n",
              "\n",
              "                                               Medidas  Unnamed: 8  \\\n",
              "353  O Corpo de Bombeiros e a elétrica foram aciona...         NaN   \n",
              "407  Os mesmos prometeram não fazer mais o uso de e...         NaN   \n",
              "\n",
              "     Unnamed: 9     ...       Unnamed: 26  Unnamed: 27  Unnamed: 28  \\\n",
              "353         NaN     ...               NaN          NaN          NaN   \n",
              "407         NaN     ...               NaN          NaN          NaN   \n",
              "\n",
              "     Unnamed: 29  Unnamed: 30  Unnamed: 31  Unnamed: 32  Unnamed: 33  \\\n",
              "353          NaN          NaN          NaN          NaN          NaN   \n",
              "407          NaN          NaN          NaN          NaN          NaN   \n",
              "\n",
              "     Unnamed: 34  Unnamed: 35  \n",
              "353          NaN          NaN  \n",
              "407          NaN          NaN  \n",
              "\n",
              "[2 rows x 36 columns]"
            ]
          },
          "metadata": {
            "tags": []
          }
        },
        {
          "output_type": "execute_result",
          "data": {
            "text/plain": [
              "[None, None, None, None, None, None, None]"
            ]
          },
          "metadata": {
            "tags": []
          },
          "execution_count": 20
        }
      ]
    },
    {
      "metadata": {
        "id": "NSuGE4qW-Fg1",
        "colab_type": "code",
        "outputId": "84803568-18fe-4f8b-faf1-2a7fb6c5a078",
        "colab": {
          "base_uri": "https://localhost:8080/",
          "height": 359
        }
      },
      "cell_type": "code",
      "source": [
        "# lower all columns and remove extra spaces\n",
        "dfs = {\n",
        "    y: df.rename(lambda c: c.lower().strip(), axis='columns')\n",
        "    for y, df in dfs.items()\n",
        "}\n",
        "\n",
        "# drop columns\n",
        "drop_rule = re.compile(r'(?x) descrição \\s sumária | medidas | unnamed.*')\n",
        "dfs = {y: df.drop([c for c in df.columns if drop_rule.match(c) != None], axis='columns') for y, df in dfs.items()}\n",
        "\n",
        "# unify null elements\n",
        "na_rule = re.compile(r'(?i)ñ.*')\n",
        "dfs = {y: df.replace(na_rule.pattern, np.nan, regex=True) for y, df in dfs.items()}\n",
        "\n",
        "# unify date columns, date have different formats along all dataframes, so they have to be processed before concat\n",
        "date_format = {\n",
        "    '2008': '%d.%m.%y',\n",
        "    '2009': '%d.%m.%y',\n",
        "    '2011': '%d.%m.%y',\n",
        "    '2012': '%d.%m.%y',\n",
        "    '2013': '%Y-%m-%d',\n",
        "    '2014': '%Y-%m-%d', #'%Y-%m-%d %h:%m:$s'\n",
        "    '2015': '%Y-%m-%d'\n",
        "}\n",
        "dfs = {\n",
        "    y: df.assign(**{'data': lambda df: pd.to_datetime(df['data'], errors='coerce', format=date_format[y], exact=False)})\n",
        "    for y, df in dfs.items()\n",
        "}\n",
        "\n",
        "# merge dataframes\n",
        "df = pd.concat(dfs, ignore_index=True)\n",
        "df.sample(10)"
      ],
      "execution_count": 34,
      "outputs": [
        {
          "output_type": "execute_result",
          "data": {
            "text/html": [
              "<div>\n",
              "<style scoped>\n",
              "    .dataframe tbody tr th:only-of-type {\n",
              "        vertical-align: middle;\n",
              "    }\n",
              "\n",
              "    .dataframe tbody tr th {\n",
              "        vertical-align: top;\n",
              "    }\n",
              "\n",
              "    .dataframe thead th {\n",
              "        text-align: right;\n",
              "    }\n",
              "</style>\n",
              "<table border=\"1\" class=\"dataframe\">\n",
              "  <thead>\n",
              "    <tr style=\"text-align: right;\">\n",
              "      <th></th>\n",
              "      <th>data</th>\n",
              "      <th>quadrante</th>\n",
              "      <th>local</th>\n",
              "      <th>horário</th>\n",
              "      <th>tipo</th>\n",
              "      <th>partes</th>\n",
              "    </tr>\n",
              "  </thead>\n",
              "  <tbody>\n",
              "    <tr>\n",
              "      <th>1100</th>\n",
              "      <td>2013-06-21</td>\n",
              "      <td>Beta</td>\n",
              "      <td>Estacionamento do CTG</td>\n",
              "      <td>NaN</td>\n",
              "      <td>Carro c/ Vulnerabilidade</td>\n",
              "      <td>NaN</td>\n",
              "    </tr>\n",
              "    <tr>\n",
              "      <th>2056</th>\n",
              "      <td>2015-09-16</td>\n",
              "      <td>Alfa</td>\n",
              "      <td>Reitoria</td>\n",
              "      <td>NaN</td>\n",
              "      <td>Registro de Ocorrência</td>\n",
              "      <td>Proprietário da carteira: Assis de Andrade da ...</td>\n",
              "    </tr>\n",
              "    <tr>\n",
              "      <th>775</th>\n",
              "      <td>2012-09-29</td>\n",
              "      <td>Gama</td>\n",
              "      <td>CAC</td>\n",
              "      <td>15h00</td>\n",
              "      <td>Registro de ocorrência</td>\n",
              "      <td>Camila Tenório</td>\n",
              "    </tr>\n",
              "    <tr>\n",
              "      <th>1370</th>\n",
              "      <td>2014-02-20</td>\n",
              "      <td>Gama</td>\n",
              "      <td>Castelo D'agua</td>\n",
              "      <td>16h30</td>\n",
              "      <td>Registro de ocorrência</td>\n",
              "      <td>Menor Adriano Nunes Barbosa.</td>\n",
              "    </tr>\n",
              "    <tr>\n",
              "      <th>969</th>\n",
              "      <td>2013-04-04</td>\n",
              "      <td>Alfa</td>\n",
              "      <td>Entrada do Campus</td>\n",
              "      <td>09h40</td>\n",
              "      <td>Registro de ocorrência</td>\n",
              "      <td>NaN</td>\n",
              "    </tr>\n",
              "    <tr>\n",
              "      <th>313</th>\n",
              "      <td>2009-05-09</td>\n",
              "      <td>Gama</td>\n",
              "      <td>Química - Lansa</td>\n",
              "      <td>NaN</td>\n",
              "      <td>Roubo</td>\n",
              "      <td>GTO.</td>\n",
              "    </tr>\n",
              "    <tr>\n",
              "      <th>1438</th>\n",
              "      <td>2014-04-17</td>\n",
              "      <td>Alfa</td>\n",
              "      <td>NEFD</td>\n",
              "      <td>02h00</td>\n",
              "      <td>Registro de ocorrência</td>\n",
              "      <td>NaN</td>\n",
              "    </tr>\n",
              "    <tr>\n",
              "      <th>498</th>\n",
              "      <td>2011-07-27</td>\n",
              "      <td>Beta</td>\n",
              "      <td>CCS</td>\n",
              "      <td>04h17</td>\n",
              "      <td>Invasão</td>\n",
              "      <td>NaN</td>\n",
              "    </tr>\n",
              "    <tr>\n",
              "      <th>540</th>\n",
              "      <td>2011-10-10</td>\n",
              "      <td>ZLE</td>\n",
              "      <td>Parada de ônibus prox ao BB</td>\n",
              "      <td>NaN</td>\n",
              "      <td>Roubo (ZLE)</td>\n",
              "      <td>NaN</td>\n",
              "    </tr>\n",
              "    <tr>\n",
              "      <th>799</th>\n",
              "      <td>2012-11-07</td>\n",
              "      <td>NaN</td>\n",
              "      <td>NaN</td>\n",
              "      <td>20h20</td>\n",
              "      <td>Roubo</td>\n",
              "      <td>Douglas Wilton/Ianddrah Kelly Andrade</td>\n",
              "    </tr>\n",
              "  </tbody>\n",
              "</table>\n",
              "</div>"
            ],
            "text/plain": [
              "           data quadrante                        local horário  \\\n",
              "1100 2013-06-21      Beta        Estacionamento do CTG     NaN   \n",
              "2056 2015-09-16      Alfa                     Reitoria     NaN   \n",
              "775  2012-09-29      Gama                          CAC   15h00   \n",
              "1370 2014-02-20      Gama               Castelo D'agua   16h30   \n",
              "969  2013-04-04      Alfa            Entrada do Campus   09h40   \n",
              "313  2009-05-09      Gama              Química - Lansa     NaN   \n",
              "1438 2014-04-17      Alfa                         NEFD   02h00   \n",
              "498  2011-07-27      Beta                          CCS   04h17   \n",
              "540  2011-10-10       ZLE  Parada de ônibus prox ao BB     NaN   \n",
              "799  2012-11-07       NaN                          NaN   20h20   \n",
              "\n",
              "                          tipo  \\\n",
              "1100  Carro c/ Vulnerabilidade   \n",
              "2056    Registro de Ocorrência   \n",
              "775     Registro de ocorrência   \n",
              "1370    Registro de ocorrência   \n",
              "969     Registro de ocorrência   \n",
              "313                      Roubo   \n",
              "1438    Registro de ocorrência   \n",
              "498                    Invasão   \n",
              "540                Roubo (ZLE)   \n",
              "799                      Roubo   \n",
              "\n",
              "                                                 partes  \n",
              "1100                                                NaN  \n",
              "2056  Proprietário da carteira: Assis de Andrade da ...  \n",
              "775                                      Camila Tenório  \n",
              "1370                       Menor Adriano Nunes Barbosa.  \n",
              "969                                                 NaN  \n",
              "313                                                GTO.  \n",
              "1438                                                NaN  \n",
              "498                                                 NaN  \n",
              "540                                                 NaN  \n",
              "799               Douglas Wilton/Ianddrah Kelly Andrade  "
            ]
          },
          "metadata": {
            "tags": []
          },
          "execution_count": 34
        }
      ]
    }
  ]
}