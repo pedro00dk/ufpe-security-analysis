{
  "nbformat": 4,
  "nbformat_minor": 0,
  "metadata": {
    "colab": {
      "name": "ufpe_sa.ipynb",
      "version": "0.3.2",
      "provenance": [],
      "include_colab_link": true
    },
    "kernelspec": {
      "name": "python3",
      "display_name": "Python 3"
    }
  },
  "cells": [
    {
      "cell_type": "markdown",
      "metadata": {
        "id": "view-in-github",
        "colab_type": "text"
      },
      "source": [
        "<a href=\"https://colab.research.google.com/github/pedro00dk/ufpe-security-analysis/blob/master/ufpe_sa.ipynb\" target=\"_parent\"><img src=\"https://colab.research.google.com/assets/colab-badge.svg\" alt=\"Open In Colab\"/></a>"
      ]
    },
    {
      "metadata": {
        "id": "RtdnypTW1Tqx",
        "colab_type": "text"
      },
      "cell_type": "markdown",
      "source": [
        "# UFPE Security Analysis"
      ]
    },
    {
      "metadata": {
        "id": "AYOC4owg9R48",
        "colab_type": "text"
      },
      "cell_type": "markdown",
      "source": [
        "Fetching github repo to get database file."
      ]
    },
    {
      "metadata": {
        "id": "kQmQq91f0yXH",
        "colab_type": "code",
        "colab": {
          "base_uri": "https://localhost:8080/",
          "height": 143
        },
        "outputId": "320a30e5-feea-4817-bb03-2c053659b35c"
      },
      "cell_type": "code",
      "source": [
        "!rm --recursive --force -- ./ufpe-security-analysis/\n",
        "!git clone -- https://github.com/pedro00dk/ufpe-security-analysis\n",
        "!ls -- ./ufpe-security-analysis/"
      ],
      "execution_count": 10,
      "outputs": [
        {
          "output_type": "stream",
          "text": [
            "Cloning into 'ufpe-security-analysis'...\n",
            "remote: Enumerating objects: 9, done.\u001b[K\n",
            "remote: Counting objects:  11% (1/9)   \u001b[K\rremote: Counting objects:  22% (2/9)   \u001b[K\rremote: Counting objects:  33% (3/9)   \u001b[K\rremote: Counting objects:  44% (4/9)   \u001b[K\rremote: Counting objects:  55% (5/9)   \u001b[K\rremote: Counting objects:  66% (6/9)   \u001b[K\rremote: Counting objects:  77% (7/9)   \u001b[K\rremote: Counting objects:  88% (8/9)   \u001b[K\rremote: Counting objects: 100% (9/9)   \u001b[K\rremote: Counting objects: 100% (9/9), done.\u001b[K\n",
            "remote: Compressing objects:  14% (1/7)   \u001b[K\rremote: Compressing objects:  28% (2/7)   \u001b[K\rremote: Compressing objects:  42% (3/7)   \u001b[K\rremote: Compressing objects:  57% (4/7)   \u001b[K\rremote: Compressing objects:  71% (5/7)   \u001b[K\rremote: Compressing objects:  85% (6/7)   \u001b[K\rremote: Compressing objects: 100% (7/7)   \u001b[K\rremote: Compressing objects: 100% (7/7), done.\u001b[K\n",
            "Unpacking objects:  11% (1/9)   \rUnpacking objects:  22% (2/9)   \rUnpacking objects:  33% (3/9)   \rUnpacking objects:  44% (4/9)   \rUnpacking objects:  55% (5/9)   \rremote: Total 9 (delta 1), reused 0 (delta 0), pack-reused 0\u001b[K\n",
            "Unpacking objects:  66% (6/9)   \rUnpacking objects:  77% (7/9)   \rUnpacking objects:  88% (8/9)   \rUnpacking objects: 100% (9/9)   \rUnpacking objects: 100% (9/9), done.\n",
            " README.md   ufpe_sa.ipynb  'UFPE SSI.xlsx'\n"
          ],
          "name": "stdout"
        }
      ]
    },
    {
      "metadata": {
        "id": "zCiUq6Z79c10",
        "colab_type": "text"
      },
      "cell_type": "markdown",
      "source": [
        "Install necessary tools for loading excel"
      ]
    },
    {
      "metadata": {
        "id": "Y_qiSckS59cO",
        "colab_type": "code",
        "colab": {
          "base_uri": "https://localhost:8080/",
          "height": 107
        },
        "outputId": "47f67503-f8e9-44a7-8678-96691b67ddf1"
      },
      "cell_type": "code",
      "source": [
        "!pip install xlrd"
      ],
      "execution_count": 9,
      "outputs": [
        {
          "output_type": "stream",
          "text": [
            "Collecting xlrd\n",
            "\u001b[?25l  Downloading https://files.pythonhosted.org/packages/07/e6/e95c4eec6221bfd8528bcc4ea252a850bffcc4be88ebc367e23a1a84b0bb/xlrd-1.1.0-py2.py3-none-any.whl (108kB)\n",
            "\u001b[K    100% |████████████████████████████████| 112kB 2.7MB/s \n",
            "\u001b[?25hInstalling collected packages: xlrd\n",
            "Successfully installed xlrd-1.1.0\n"
          ],
          "name": "stdout"
        }
      ]
    },
    {
      "metadata": {
        "id": "XXndZFmh4fBi",
        "colab_type": "code",
        "colab": {}
      },
      "cell_type": "code",
      "source": [
        "import pandas as pd\n",
        "import re"
      ],
      "execution_count": 0,
      "outputs": []
    },
    {
      "metadata": {
        "id": "JiZ8q-Wb9nrf",
        "colab_type": "text"
      },
      "cell_type": "markdown",
      "source": [
        "The database consists in an excel file with sheets per year of information. All of these sheets have to be loaded."
      ]
    },
    {
      "metadata": {
        "id": "wqMQeUtB4_9P",
        "colab_type": "code",
        "colab": {
          "base_uri": "https://localhost:8080/",
          "height": 984
        },
        "outputId": "b8ebc678-7d1a-4136-a0c5-796937593c55"
      },
      "cell_type": "code",
      "source": [
        "xls = pd.ExcelFile('./ufpe-security-analysis/UFPE SSI.xlsx')\n",
        "dfs = xls.parse(sheet_name=xls.sheet_names)\n",
        "\n",
        "[display(y, df.sample(2)) for y, df in dfs.items()]"
      ],
      "execution_count": 32,
      "outputs": [
        {
          "output_type": "display_data",
          "data": {
            "text/plain": [
              "'2008'"
            ]
          },
          "metadata": {
            "tags": []
          }
        },
        {
          "output_type": "display_data",
          "data": {
            "text/html": [
              "<div>\n",
              "<style scoped>\n",
              "    .dataframe tbody tr th:only-of-type {\n",
              "        vertical-align: middle;\n",
              "    }\n",
              "\n",
              "    .dataframe tbody tr th {\n",
              "        vertical-align: top;\n",
              "    }\n",
              "\n",
              "    .dataframe thead th {\n",
              "        text-align: right;\n",
              "    }\n",
              "</style>\n",
              "<table border=\"1\" class=\"dataframe\">\n",
              "  <thead>\n",
              "    <tr style=\"text-align: right;\">\n",
              "      <th></th>\n",
              "      <th>Data</th>\n",
              "      <th>Quadrante</th>\n",
              "      <th>Local</th>\n",
              "      <th>Horário</th>\n",
              "      <th>Tipo</th>\n",
              "      <th>Descrição Sumária</th>\n",
              "      <th>Partes</th>\n",
              "      <th>Medidas</th>\n",
              "    </tr>\n",
              "  </thead>\n",
              "  <tbody>\n",
              "    <tr>\n",
              "      <th>138</th>\n",
              "      <td>07.06.08</td>\n",
              "      <td>Alfa</td>\n",
              "      <td>Em frente CEU Masc</td>\n",
              "      <td>02h10</td>\n",
              "      <td>Tentativa de roubo</td>\n",
              "      <td>Ocorrência 685-três elementos tentaram assalta...</td>\n",
              "      <td>Cezar/ vítima</td>\n",
              "      <td>Houve luta. Os lementos evadiram-se.</td>\n",
              "    </tr>\n",
              "    <tr>\n",
              "      <th>101</th>\n",
              "      <td>10.04.08</td>\n",
              "      <td>ZLE</td>\n",
              "      <td>BR101prox.Eros</td>\n",
              "      <td>09h20</td>\n",
              "      <td>Registro de ocorrência</td>\n",
              "      <td>Ocorrência 572-houve um atropelamento</td>\n",
              "      <td>Ñinf</td>\n",
              "      <td>Foi acionado  o Bombeiro.</td>\n",
              "    </tr>\n",
              "  </tbody>\n",
              "</table>\n",
              "</div>"
            ],
            "text/plain": [
              "         Data Quadrante               Local Horário                    Tipo  \\\n",
              "138  07.06.08      Alfa  Em frente CEU Masc   02h10      Tentativa de roubo   \n",
              "101  10.04.08       ZLE      BR101prox.Eros   09h20  Registro de ocorrência   \n",
              "\n",
              "                                     Descrição Sumária         Partes  \\\n",
              "138  Ocorrência 685-três elementos tentaram assalta...  Cezar/ vítima   \n",
              "101              Ocorrência 572-houve um atropelamento           Ñinf   \n",
              "\n",
              "                                  Medidas  \n",
              "138  Houve luta. Os lementos evadiram-se.  \n",
              "101             Foi acionado  o Bombeiro.  "
            ]
          },
          "metadata": {
            "tags": []
          }
        },
        {
          "output_type": "display_data",
          "data": {
            "text/plain": [
              "'2009'"
            ]
          },
          "metadata": {
            "tags": []
          }
        },
        {
          "output_type": "display_data",
          "data": {
            "text/html": [
              "<div>\n",
              "<style scoped>\n",
              "    .dataframe tbody tr th:only-of-type {\n",
              "        vertical-align: middle;\n",
              "    }\n",
              "\n",
              "    .dataframe tbody tr th {\n",
              "        vertical-align: top;\n",
              "    }\n",
              "\n",
              "    .dataframe thead th {\n",
              "        text-align: right;\n",
              "    }\n",
              "</style>\n",
              "<table border=\"1\" class=\"dataframe\">\n",
              "  <thead>\n",
              "    <tr style=\"text-align: right;\">\n",
              "      <th></th>\n",
              "      <th>Data</th>\n",
              "      <th>Quadrante</th>\n",
              "      <th>Local</th>\n",
              "      <th>Horário</th>\n",
              "      <th>Tipo</th>\n",
              "      <th>Descrição Sumária</th>\n",
              "      <th>Partes</th>\n",
              "      <th>Medidas</th>\n",
              "    </tr>\n",
              "  </thead>\n",
              "  <tbody>\n",
              "    <tr>\n",
              "      <th>37</th>\n",
              "      <td>10.02.09</td>\n",
              "      <td>Alfa</td>\n",
              "      <td>Reitoria</td>\n",
              "      <td>19h30</td>\n",
              "      <td>Tentativa de roubo</td>\n",
              "      <td>Ocorrência 1159 - 02 elementos tentando assalt...</td>\n",
              "      <td>Ñ inf</td>\n",
              "      <td>O Copom foi solicitado.</td>\n",
              "    </tr>\n",
              "    <tr>\n",
              "      <th>12</th>\n",
              "      <td>20.01.09</td>\n",
              "      <td>NaN</td>\n",
              "      <td>Ñ inf</td>\n",
              "      <td>Ñ inf</td>\n",
              "      <td>Animal solto</td>\n",
              "      <td>Ocorrência 1118 - Animal de grande porte preju...</td>\n",
              "      <td>Ñ inf</td>\n",
              "      <td>Ñ inf</td>\n",
              "    </tr>\n",
              "  </tbody>\n",
              "</table>\n",
              "</div>"
            ],
            "text/plain": [
              "        Data Quadrante     Local Horário                Tipo  \\\n",
              "37  10.02.09      Alfa  Reitoria   19h30  Tentativa de roubo   \n",
              "12  20.01.09       NaN     Ñ inf   Ñ inf        Animal solto   \n",
              "\n",
              "                                    Descrição Sumária Partes  \\\n",
              "37  Ocorrência 1159 - 02 elementos tentando assalt...  Ñ inf   \n",
              "12  Ocorrência 1118 - Animal de grande porte preju...  Ñ inf   \n",
              "\n",
              "                    Medidas  \n",
              "37  O Copom foi solicitado.  \n",
              "12                    Ñ inf  "
            ]
          },
          "metadata": {
            "tags": []
          }
        },
        {
          "output_type": "display_data",
          "data": {
            "text/plain": [
              "'2011'"
            ]
          },
          "metadata": {
            "tags": []
          }
        },
        {
          "output_type": "display_data",
          "data": {
            "text/html": [
              "<div>\n",
              "<style scoped>\n",
              "    .dataframe tbody tr th:only-of-type {\n",
              "        vertical-align: middle;\n",
              "    }\n",
              "\n",
              "    .dataframe tbody tr th {\n",
              "        vertical-align: top;\n",
              "    }\n",
              "\n",
              "    .dataframe thead th {\n",
              "        text-align: right;\n",
              "    }\n",
              "</style>\n",
              "<table border=\"1\" class=\"dataframe\">\n",
              "  <thead>\n",
              "    <tr style=\"text-align: right;\">\n",
              "      <th></th>\n",
              "      <th>Data</th>\n",
              "      <th>Quadrante</th>\n",
              "      <th>Local</th>\n",
              "      <th>horário</th>\n",
              "      <th>Tipo</th>\n",
              "      <th>Descrição Sumária</th>\n",
              "      <th>Partes</th>\n",
              "      <th>Medidas</th>\n",
              "    </tr>\n",
              "  </thead>\n",
              "  <tbody>\n",
              "    <tr>\n",
              "      <th>138</th>\n",
              "      <td>29.08.11</td>\n",
              "      <td>Gama</td>\n",
              "      <td>CAC</td>\n",
              "      <td>Ñinf</td>\n",
              "      <td>Furto Privado</td>\n",
              "      <td>Ocorrência 3380-mulher teve sua bolsa furtada ...</td>\n",
              "      <td>Cecília Araújo de Azevedo/vítima</td>\n",
              "      <td>Ñinf</td>\n",
              "    </tr>\n",
              "    <tr>\n",
              "      <th>197</th>\n",
              "      <td>11.12.11</td>\n",
              "      <td>Delta</td>\n",
              "      <td>CCS</td>\n",
              "      <td>NaN</td>\n",
              "      <td>Carro c/ Vulnerabilidade</td>\n",
              "      <td>Ocorrência 3585- foi deixado um POLO com o vid...</td>\n",
              "      <td>NaN</td>\n",
              "      <td>NaN</td>\n",
              "    </tr>\n",
              "  </tbody>\n",
              "</table>\n",
              "</div>"
            ],
            "text/plain": [
              "         Data Quadrante Local horário                     Tipo   \\\n",
              "138  29.08.11      Gama   CAC    Ñinf             Furto Privado   \n",
              "197  11.12.11     Delta   CCS     NaN  Carro c/ Vulnerabilidade   \n",
              "\n",
              "                                     Descrição Sumária  \\\n",
              "138  Ocorrência 3380-mulher teve sua bolsa furtada ...   \n",
              "197  Ocorrência 3585- foi deixado um POLO com o vid...   \n",
              "\n",
              "                               Partes Medidas  \n",
              "138  Cecília Araújo de Azevedo/vítima    Ñinf  \n",
              "197                               NaN     NaN  "
            ]
          },
          "metadata": {
            "tags": []
          }
        },
        {
          "output_type": "display_data",
          "data": {
            "text/plain": [
              "'2012'"
            ]
          },
          "metadata": {
            "tags": []
          }
        },
        {
          "output_type": "display_data",
          "data": {
            "text/html": [
              "<div>\n",
              "<style scoped>\n",
              "    .dataframe tbody tr th:only-of-type {\n",
              "        vertical-align: middle;\n",
              "    }\n",
              "\n",
              "    .dataframe tbody tr th {\n",
              "        vertical-align: top;\n",
              "    }\n",
              "\n",
              "    .dataframe thead th {\n",
              "        text-align: right;\n",
              "    }\n",
              "</style>\n",
              "<table border=\"1\" class=\"dataframe\">\n",
              "  <thead>\n",
              "    <tr style=\"text-align: right;\">\n",
              "      <th></th>\n",
              "      <th>Data</th>\n",
              "      <th>Quadrante</th>\n",
              "      <th>Local</th>\n",
              "      <th>horário</th>\n",
              "      <th>Tipo</th>\n",
              "      <th>Descrição Sumária</th>\n",
              "      <th>Partes</th>\n",
              "      <th>Medidas</th>\n",
              "    </tr>\n",
              "  </thead>\n",
              "  <tbody>\n",
              "    <tr>\n",
              "      <th>125</th>\n",
              "      <td>01.07.12</td>\n",
              "      <td>Alfa/Beta</td>\n",
              "      <td>Bloqueio de saída</td>\n",
              "      <td>17h30</td>\n",
              "      <td>Dano Patrimonio</td>\n",
              "      <td>Ocorrência  3986 - os seguranças da TKS quebro...</td>\n",
              "      <td>ñ inf</td>\n",
              "      <td>Ñinf</td>\n",
              "    </tr>\n",
              "    <tr>\n",
              "      <th>26</th>\n",
              "      <td>16.03.12</td>\n",
              "      <td>Gama</td>\n",
              "      <td>Av.Arquitetura/Av.J.Amaz.</td>\n",
              "      <td>NaN</td>\n",
              "      <td>Colisão</td>\n",
              "      <td>Ocorrência 3772 - colisão entre o Gol  de plac...</td>\n",
              "      <td>Jose Maria D Silva/Amanda Rafaela C.Mesquita</td>\n",
              "      <td>Ñinf</td>\n",
              "    </tr>\n",
              "  </tbody>\n",
              "</table>\n",
              "</div>"
            ],
            "text/plain": [
              "          Data  Quadrante                        Local horário  \\\n",
              "125   01.07.12  Alfa/Beta            Bloqueio de saída   17h30   \n",
              "26   16.03.12        Gama   Av.Arquitetura/Av.J.Amaz.      NaN   \n",
              "\n",
              "               Tipo                                   Descrição Sumária  \\\n",
              "125  Dano Patrimonio  Ocorrência  3986 - os seguranças da TKS quebro...   \n",
              "26           Colisão  Ocorrência 3772 - colisão entre o Gol  de plac...   \n",
              "\n",
              "                                           Partes Medidas  \n",
              "125                                         ñ inf    Ñinf  \n",
              "26   Jose Maria D Silva/Amanda Rafaela C.Mesquita    Ñinf  "
            ]
          },
          "metadata": {
            "tags": []
          }
        },
        {
          "output_type": "display_data",
          "data": {
            "text/plain": [
              "'2013'"
            ]
          },
          "metadata": {
            "tags": []
          }
        },
        {
          "output_type": "display_data",
          "data": {
            "text/html": [
              "<div>\n",
              "<style scoped>\n",
              "    .dataframe tbody tr th:only-of-type {\n",
              "        vertical-align: middle;\n",
              "    }\n",
              "\n",
              "    .dataframe tbody tr th {\n",
              "        vertical-align: top;\n",
              "    }\n",
              "\n",
              "    .dataframe thead th {\n",
              "        text-align: right;\n",
              "    }\n",
              "</style>\n",
              "<table border=\"1\" class=\"dataframe\">\n",
              "  <thead>\n",
              "    <tr style=\"text-align: right;\">\n",
              "      <th></th>\n",
              "      <th>Data</th>\n",
              "      <th>Quadrante</th>\n",
              "      <th>Local</th>\n",
              "      <th>horário</th>\n",
              "      <th>Tipo</th>\n",
              "      <th>Descrição Sumária</th>\n",
              "      <th>Partes</th>\n",
              "      <th>Medidas</th>\n",
              "    </tr>\n",
              "  </thead>\n",
              "  <tbody>\n",
              "    <tr>\n",
              "      <th>472</th>\n",
              "      <td>2013-12-19</td>\n",
              "      <td>Delta</td>\n",
              "      <td>CCS</td>\n",
              "      <td>09h00</td>\n",
              "      <td>Registro de ocorrência</td>\n",
              "      <td>Ocorrência 7154-segundo registro uma árvore ha...</td>\n",
              "      <td>Proprietários dos veículos: Silvério Barbosa D...</td>\n",
              "      <td>O GTO acionou o Srº Sebastião chefe dos serviç...</td>\n",
              "    </tr>\n",
              "    <tr>\n",
              "      <th>214</th>\n",
              "      <td>2013-05-22</td>\n",
              "      <td>Delta</td>\n",
              "      <td>BIOTEC/por traz CCB e LIKA</td>\n",
              "      <td>01h30</td>\n",
              "      <td>Registro de ocorrência</td>\n",
              "      <td>Ocorrência 4935-estavam tentando entra no prédio.</td>\n",
              "      <td>Silverio Marques(informante)</td>\n",
              "      <td>Ñinf</td>\n",
              "    </tr>\n",
              "  </tbody>\n",
              "</table>\n",
              "</div>"
            ],
            "text/plain": [
              "          Data Quadrante                       Local horário  \\\n",
              "472 2013-12-19     Delta                         CCS   09h00   \n",
              "214 2013-05-22     Delta  BIOTEC/por traz CCB e LIKA   01h30   \n",
              "\n",
              "                      Tipo   \\\n",
              "472  Registro de ocorrência   \n",
              "214  Registro de ocorrência   \n",
              "\n",
              "                                     Descrição Sumária  \\\n",
              "472  Ocorrência 7154-segundo registro uma árvore ha...   \n",
              "214  Ocorrência 4935-estavam tentando entra no prédio.   \n",
              "\n",
              "                                                Partes  \\\n",
              "472  Proprietários dos veículos: Silvério Barbosa D...   \n",
              "214                       Silverio Marques(informante)   \n",
              "\n",
              "                                               Medidas  \n",
              "472  O GTO acionou o Srº Sebastião chefe dos serviç...  \n",
              "214                                               Ñinf  "
            ]
          },
          "metadata": {
            "tags": []
          }
        },
        {
          "output_type": "display_data",
          "data": {
            "text/plain": [
              "'2014'"
            ]
          },
          "metadata": {
            "tags": []
          }
        },
        {
          "output_type": "display_data",
          "data": {
            "text/html": [
              "<div>\n",
              "<style scoped>\n",
              "    .dataframe tbody tr th:only-of-type {\n",
              "        vertical-align: middle;\n",
              "    }\n",
              "\n",
              "    .dataframe tbody tr th {\n",
              "        vertical-align: top;\n",
              "    }\n",
              "\n",
              "    .dataframe thead th {\n",
              "        text-align: right;\n",
              "    }\n",
              "</style>\n",
              "<table border=\"1\" class=\"dataframe\">\n",
              "  <thead>\n",
              "    <tr style=\"text-align: right;\">\n",
              "      <th></th>\n",
              "      <th>Data</th>\n",
              "      <th>Quadrante</th>\n",
              "      <th>Local</th>\n",
              "      <th>horário</th>\n",
              "      <th>Tipo</th>\n",
              "      <th>Descrição Sumária</th>\n",
              "      <th>Partes</th>\n",
              "      <th>Medidas</th>\n",
              "    </tr>\n",
              "  </thead>\n",
              "  <tbody>\n",
              "    <tr>\n",
              "      <th>177</th>\n",
              "      <td>2014-05-22 00:00:00</td>\n",
              "      <td>Gama</td>\n",
              "      <td>NaN</td>\n",
              "      <td>08h10</td>\n",
              "      <td>Registro de ocorrência</td>\n",
              "      <td>Ocorrência 7561- segundo registro a foi encont...</td>\n",
              "      <td>Andréa, Lucilene, Bartolomeu.</td>\n",
              "      <td>O jacaré foi resgatado pelo CIPOMA.</td>\n",
              "    </tr>\n",
              "    <tr>\n",
              "      <th>358</th>\n",
              "      <td>2014-11-08 00:00:00</td>\n",
              "      <td>Beta</td>\n",
              "      <td>NTI</td>\n",
              "      <td>Ñ inf</td>\n",
              "      <td>Carro c/ Vulnerabilidade</td>\n",
              "      <td>Ocorrência 7898 - segundo registro havia um ve...</td>\n",
              "      <td>Proprietário: Nivaldo Fernando Santos (Servido...</td>\n",
              "      <td>Os pertences foram guardados pelo segurança Re...</td>\n",
              "    </tr>\n",
              "  </tbody>\n",
              "</table>\n",
              "</div>"
            ],
            "text/plain": [
              "                    Data Quadrante Local horário                     Tipo   \\\n",
              "177  2014-05-22 00:00:00      Gama   NaN   08h10    Registro de ocorrência   \n",
              "358  2014-11-08 00:00:00      Beta   NTI   Ñ inf  Carro c/ Vulnerabilidade   \n",
              "\n",
              "                                     Descrição Sumária  \\\n",
              "177  Ocorrência 7561- segundo registro a foi encont...   \n",
              "358  Ocorrência 7898 - segundo registro havia um ve...   \n",
              "\n",
              "                                                Partes  \\\n",
              "177                      Andréa, Lucilene, Bartolomeu.   \n",
              "358  Proprietário: Nivaldo Fernando Santos (Servido...   \n",
              "\n",
              "                                               Medidas  \n",
              "177                O jacaré foi resgatado pelo CIPOMA.  \n",
              "358  Os pertences foram guardados pelo segurança Re...  "
            ]
          },
          "metadata": {
            "tags": []
          }
        },
        {
          "output_type": "display_data",
          "data": {
            "text/plain": [
              "'2015'"
            ]
          },
          "metadata": {
            "tags": []
          }
        },
        {
          "output_type": "display_data",
          "data": {
            "text/html": [
              "<div>\n",
              "<style scoped>\n",
              "    .dataframe tbody tr th:only-of-type {\n",
              "        vertical-align: middle;\n",
              "    }\n",
              "\n",
              "    .dataframe tbody tr th {\n",
              "        vertical-align: top;\n",
              "    }\n",
              "\n",
              "    .dataframe thead th {\n",
              "        text-align: right;\n",
              "    }\n",
              "</style>\n",
              "<table border=\"1\" class=\"dataframe\">\n",
              "  <thead>\n",
              "    <tr style=\"text-align: right;\">\n",
              "      <th></th>\n",
              "      <th>Data</th>\n",
              "      <th>Quadrante</th>\n",
              "      <th>Local</th>\n",
              "      <th>horário</th>\n",
              "      <th>Tipo</th>\n",
              "      <th>Descrição Sumária</th>\n",
              "      <th>Partes</th>\n",
              "      <th>Medidas</th>\n",
              "      <th>Unnamed: 8</th>\n",
              "      <th>Unnamed: 9</th>\n",
              "      <th>...</th>\n",
              "      <th>Unnamed: 26</th>\n",
              "      <th>Unnamed: 27</th>\n",
              "      <th>Unnamed: 28</th>\n",
              "      <th>Unnamed: 29</th>\n",
              "      <th>Unnamed: 30</th>\n",
              "      <th>Unnamed: 31</th>\n",
              "      <th>Unnamed: 32</th>\n",
              "      <th>Unnamed: 33</th>\n",
              "      <th>Unnamed: 34</th>\n",
              "      <th>Unnamed: 35</th>\n",
              "    </tr>\n",
              "  </thead>\n",
              "  <tbody>\n",
              "    <tr>\n",
              "      <th>330</th>\n",
              "      <td>2015-08-03</td>\n",
              "      <td>Gama</td>\n",
              "      <td>CFCH</td>\n",
              "      <td>20h00</td>\n",
              "      <td>Roubo ZLE</td>\n",
              "      <td>Ocorrência 0434 TURMA \"B\" - segundo registro d...</td>\n",
              "      <td>Senhor: Nivaldo Barbosa dos Santos.</td>\n",
              "      <td>O senhor gostaria de receber as imagens para o...</td>\n",
              "      <td>NaN</td>\n",
              "      <td>NaN</td>\n",
              "      <td>...</td>\n",
              "      <td>NaN</td>\n",
              "      <td>NaN</td>\n",
              "      <td>NaN</td>\n",
              "      <td>NaN</td>\n",
              "      <td>NaN</td>\n",
              "      <td>NaN</td>\n",
              "      <td>NaN</td>\n",
              "      <td>NaN</td>\n",
              "      <td>NaN</td>\n",
              "      <td>NaN</td>\n",
              "    </tr>\n",
              "    <tr>\n",
              "      <th>443</th>\n",
              "      <td>2015-12-05</td>\n",
              "      <td>Alfa</td>\n",
              "      <td>Embaixo do Viaduto</td>\n",
              "      <td>22h10</td>\n",
              "      <td>Registro de Ocorrência</td>\n",
              "      <td>Ocorrência 0697 TURMA \"D\" - segundo registro o...</td>\n",
              "      <td>Rapaz: Luciano Alves.</td>\n",
              "      <td>O rapaz foi conduzido até a delegacia da Várzea.</td>\n",
              "      <td>NaN</td>\n",
              "      <td>NaN</td>\n",
              "      <td>...</td>\n",
              "      <td>NaN</td>\n",
              "      <td>NaN</td>\n",
              "      <td>NaN</td>\n",
              "      <td>NaN</td>\n",
              "      <td>NaN</td>\n",
              "      <td>NaN</td>\n",
              "      <td>NaN</td>\n",
              "      <td>NaN</td>\n",
              "      <td>NaN</td>\n",
              "      <td>NaN</td>\n",
              "    </tr>\n",
              "  </tbody>\n",
              "</table>\n",
              "<p>2 rows × 36 columns</p>\n",
              "</div>"
            ],
            "text/plain": [
              "          Data Quadrante               Local horário                   Tipo   \\\n",
              "330 2015-08-03      Gama                CFCH   20h00               Roubo ZLE   \n",
              "443 2015-12-05      Alfa  Embaixo do Viaduto   22h10  Registro de Ocorrência   \n",
              "\n",
              "                                     Descrição Sumária  \\\n",
              "330  Ocorrência 0434 TURMA \"B\" - segundo registro d...   \n",
              "443  Ocorrência 0697 TURMA \"D\" - segundo registro o...   \n",
              "\n",
              "                                  Partes  \\\n",
              "330  Senhor: Nivaldo Barbosa dos Santos.   \n",
              "443                Rapaz: Luciano Alves.   \n",
              "\n",
              "                                               Medidas  Unnamed: 8  \\\n",
              "330  O senhor gostaria de receber as imagens para o...         NaN   \n",
              "443   O rapaz foi conduzido até a delegacia da Várzea.         NaN   \n",
              "\n",
              "     Unnamed: 9     ...       Unnamed: 26  Unnamed: 27  Unnamed: 28  \\\n",
              "330         NaN     ...               NaN          NaN          NaN   \n",
              "443         NaN     ...               NaN          NaN          NaN   \n",
              "\n",
              "     Unnamed: 29  Unnamed: 30  Unnamed: 31  Unnamed: 32  Unnamed: 33  \\\n",
              "330          NaN          NaN          NaN          NaN          NaN   \n",
              "443          NaN          NaN          NaN          NaN          NaN   \n",
              "\n",
              "     Unnamed: 34  Unnamed: 35  \n",
              "330          NaN          NaN  \n",
              "443          NaN          NaN  \n",
              "\n",
              "[2 rows x 36 columns]"
            ]
          },
          "metadata": {
            "tags": []
          }
        },
        {
          "output_type": "execute_result",
          "data": {
            "text/plain": [
              "[None, None, None, None, None, None, None]"
            ]
          },
          "metadata": {
            "tags": []
          },
          "execution_count": 32
        }
      ]
    },
    {
      "metadata": {
        "id": "NSuGE4qW-Fg1",
        "colab_type": "code",
        "colab": {
          "base_uri": "https://localhost:8080/",
          "height": 1470
        },
        "outputId": "c071b9a3-4fc3-410f-cefb-f4baed3efefb"
      },
      "cell_type": "code",
      "source": [
        "drop_rules = [\n",
        "    lambda c: c == 'descrição sumária',\n",
        "    lambda c: c == 'medidas',\n",
        "    lambda c: c.startswith('unnamed')\n",
        "]\n",
        "\n",
        "dfs = {\n",
        "    y: df.drop([c for c in df.columns if any(r(c.lower()) for r in drop_rules)], axis='columns')\n",
        "    for y, df in dfs.items()\n",
        "}\n",
        "[display(y, df.sample(5)) for y, df in dfs.items()]"
      ],
      "execution_count": 34,
      "outputs": [
        {
          "output_type": "display_data",
          "data": {
            "text/plain": [
              "'2008'"
            ]
          },
          "metadata": {
            "tags": []
          }
        },
        {
          "output_type": "display_data",
          "data": {
            "text/html": [
              "<div>\n",
              "<style scoped>\n",
              "    .dataframe tbody tr th:only-of-type {\n",
              "        vertical-align: middle;\n",
              "    }\n",
              "\n",
              "    .dataframe tbody tr th {\n",
              "        vertical-align: top;\n",
              "    }\n",
              "\n",
              "    .dataframe thead th {\n",
              "        text-align: right;\n",
              "    }\n",
              "</style>\n",
              "<table border=\"1\" class=\"dataframe\">\n",
              "  <thead>\n",
              "    <tr style=\"text-align: right;\">\n",
              "      <th></th>\n",
              "      <th>Data</th>\n",
              "      <th>Quadrante</th>\n",
              "      <th>Local</th>\n",
              "      <th>Horário</th>\n",
              "      <th>Tipo</th>\n",
              "      <th>Partes</th>\n",
              "    </tr>\n",
              "  </thead>\n",
              "  <tbody>\n",
              "    <tr>\n",
              "      <th>116</th>\n",
              "      <td>07.05.08</td>\n",
              "      <td>ZLI</td>\n",
              "      <td>Av. do Arquiteto</td>\n",
              "      <td>13h40</td>\n",
              "      <td>Colisão</td>\n",
              "      <td>Francisco Assis Gomes/Gozalo Henrique</td>\n",
              "    </tr>\n",
              "    <tr>\n",
              "      <th>172</th>\n",
              "      <td>08.10.08</td>\n",
              "      <td>Gama</td>\n",
              "      <td>CCSA</td>\n",
              "      <td>20h00</td>\n",
              "      <td>Registro de ocorrência</td>\n",
              "      <td>Ñinf</td>\n",
              "    </tr>\n",
              "    <tr>\n",
              "      <th>153</th>\n",
              "      <td>11.08.08</td>\n",
              "      <td>Alfa</td>\n",
              "      <td>CT SUDENE</td>\n",
              "      <td>07h48</td>\n",
              "      <td>Arrombamento</td>\n",
              "      <td>Ñinf</td>\n",
              "    </tr>\n",
              "    <tr>\n",
              "      <th>14</th>\n",
              "      <td>15.01.08</td>\n",
              "      <td>Beta</td>\n",
              "      <td>Energia Nuclear</td>\n",
              "      <td>Ñinf</td>\n",
              "      <td>Registro de ocorrência</td>\n",
              "      <td>Ñinf</td>\n",
              "    </tr>\n",
              "    <tr>\n",
              "      <th>75</th>\n",
              "      <td>05.03.08</td>\n",
              "      <td>ZLE</td>\n",
              "      <td>Parada CS BR 101</td>\n",
              "      <td>20h00</td>\n",
              "      <td>Roubo - ZLE</td>\n",
              "      <td>Murilo Severino da Silva</td>\n",
              "    </tr>\n",
              "  </tbody>\n",
              "</table>\n",
              "</div>"
            ],
            "text/plain": [
              "         Data Quadrante             Local Horário                    Tipo  \\\n",
              "116  07.05.08       ZLI  Av. do Arquiteto   13h40                 Colisão   \n",
              "172  08.10.08      Gama              CCSA   20h00  Registro de ocorrência   \n",
              "153  11.08.08      Alfa         CT SUDENE   07h48            Arrombamento   \n",
              "14   15.01.08      Beta   Energia Nuclear    Ñinf  Registro de ocorrência   \n",
              "75   05.03.08       ZLE  Parada CS BR 101   20h00             Roubo - ZLE   \n",
              "\n",
              "                                    Partes  \n",
              "116  Francisco Assis Gomes/Gozalo Henrique  \n",
              "172                                   Ñinf  \n",
              "153                                   Ñinf  \n",
              "14                                    Ñinf  \n",
              "75                Murilo Severino da Silva  "
            ]
          },
          "metadata": {
            "tags": []
          }
        },
        {
          "output_type": "display_data",
          "data": {
            "text/plain": [
              "'2009'"
            ]
          },
          "metadata": {
            "tags": []
          }
        },
        {
          "output_type": "display_data",
          "data": {
            "text/html": [
              "<div>\n",
              "<style scoped>\n",
              "    .dataframe tbody tr th:only-of-type {\n",
              "        vertical-align: middle;\n",
              "    }\n",
              "\n",
              "    .dataframe tbody tr th {\n",
              "        vertical-align: top;\n",
              "    }\n",
              "\n",
              "    .dataframe thead th {\n",
              "        text-align: right;\n",
              "    }\n",
              "</style>\n",
              "<table border=\"1\" class=\"dataframe\">\n",
              "  <thead>\n",
              "    <tr style=\"text-align: right;\">\n",
              "      <th></th>\n",
              "      <th>Data</th>\n",
              "      <th>Quadrante</th>\n",
              "      <th>Local</th>\n",
              "      <th>Horário</th>\n",
              "      <th>Tipo</th>\n",
              "      <th>Partes</th>\n",
              "    </tr>\n",
              "  </thead>\n",
              "  <tbody>\n",
              "    <tr>\n",
              "      <th>9</th>\n",
              "      <td>15.01.09</td>\n",
              "      <td>Gama</td>\n",
              "      <td>Próximo a hotelaria</td>\n",
              "      <td>Ñ inf</td>\n",
              "      <td>Registro de ocorrência</td>\n",
              "      <td>Ñ inf</td>\n",
              "    </tr>\n",
              "    <tr>\n",
              "      <th>70</th>\n",
              "      <td>06.03.09</td>\n",
              "      <td>NaN</td>\n",
              "      <td>Ñ inf</td>\n",
              "      <td>10h25</td>\n",
              "      <td>Prestação de socorro</td>\n",
              "      <td>Tiago André Rodriguez.</td>\n",
              "    </tr>\n",
              "    <tr>\n",
              "      <th>114</th>\n",
              "      <td>06.06.09</td>\n",
              "      <td>Alfa</td>\n",
              "      <td>COS</td>\n",
              "      <td>09h30</td>\n",
              "      <td>Roubo</td>\n",
              "      <td>GTO</td>\n",
              "    </tr>\n",
              "    <tr>\n",
              "      <th>64</th>\n",
              "      <td>03.03.09</td>\n",
              "      <td>Gama</td>\n",
              "      <td>CCSA</td>\n",
              "      <td>23h40</td>\n",
              "      <td>Registro de ocorrência</td>\n",
              "      <td>Aldemir Ausênio Maia.</td>\n",
              "    </tr>\n",
              "    <tr>\n",
              "      <th>131</th>\n",
              "      <td>02.09.09</td>\n",
              "      <td>Gama</td>\n",
              "      <td>CCSA</td>\n",
              "      <td>Ñ inf</td>\n",
              "      <td>Furto</td>\n",
              "      <td>GTO</td>\n",
              "    </tr>\n",
              "  </tbody>\n",
              "</table>\n",
              "</div>"
            ],
            "text/plain": [
              "         Data Quadrante                Local Horário                    Tipo  \\\n",
              "9    15.01.09      Gama  Próximo a hotelaria   Ñ inf  Registro de ocorrência   \n",
              "70   06.03.09       NaN                Ñ inf   10h25    Prestação de socorro   \n",
              "114  06.06.09      Alfa                  COS   09h30                   Roubo   \n",
              "64   03.03.09      Gama                 CCSA   23h40  Registro de ocorrência   \n",
              "131  02.09.09      Gama                 CCSA   Ñ inf                   Furto   \n",
              "\n",
              "                     Partes  \n",
              "9                     Ñ inf  \n",
              "70   Tiago André Rodriguez.  \n",
              "114                     GTO  \n",
              "64    Aldemir Ausênio Maia.  \n",
              "131                     GTO  "
            ]
          },
          "metadata": {
            "tags": []
          }
        },
        {
          "output_type": "display_data",
          "data": {
            "text/plain": [
              "'2011'"
            ]
          },
          "metadata": {
            "tags": []
          }
        },
        {
          "output_type": "display_data",
          "data": {
            "text/html": [
              "<div>\n",
              "<style scoped>\n",
              "    .dataframe tbody tr th:only-of-type {\n",
              "        vertical-align: middle;\n",
              "    }\n",
              "\n",
              "    .dataframe tbody tr th {\n",
              "        vertical-align: top;\n",
              "    }\n",
              "\n",
              "    .dataframe thead th {\n",
              "        text-align: right;\n",
              "    }\n",
              "</style>\n",
              "<table border=\"1\" class=\"dataframe\">\n",
              "  <thead>\n",
              "    <tr style=\"text-align: right;\">\n",
              "      <th></th>\n",
              "      <th>Data</th>\n",
              "      <th>Quadrante</th>\n",
              "      <th>Local</th>\n",
              "      <th>horário</th>\n",
              "      <th>Tipo</th>\n",
              "      <th>Partes</th>\n",
              "    </tr>\n",
              "  </thead>\n",
              "  <tbody>\n",
              "    <tr>\n",
              "      <th>178</th>\n",
              "      <td>09.11.11</td>\n",
              "      <td>NaN</td>\n",
              "      <td>Ñinf</td>\n",
              "      <td>ñ inf.</td>\n",
              "      <td>Registro de Ocorrência</td>\n",
              "      <td>NaN</td>\n",
              "    </tr>\n",
              "    <tr>\n",
              "      <th>137</th>\n",
              "      <td>27.08.11</td>\n",
              "      <td>Delta</td>\n",
              "      <td>CCS</td>\n",
              "      <td>23h</td>\n",
              "      <td>Arrombamento de Instalações</td>\n",
              "      <td>NaN</td>\n",
              "    </tr>\n",
              "    <tr>\n",
              "      <th>113</th>\n",
              "      <td>19.07.11</td>\n",
              "      <td>Delta</td>\n",
              "      <td>CCS</td>\n",
              "      <td>NaN</td>\n",
              "      <td>Carro c/ Vulnerabilidade</td>\n",
              "      <td>NaN</td>\n",
              "    </tr>\n",
              "    <tr>\n",
              "      <th>174</th>\n",
              "      <td>04.11.11</td>\n",
              "      <td>ZLI</td>\n",
              "      <td>Avenida dos Reitores</td>\n",
              "      <td>NaN</td>\n",
              "      <td>Colisão</td>\n",
              "      <td>Luana Gomes Barbosa</td>\n",
              "    </tr>\n",
              "    <tr>\n",
              "      <th>201</th>\n",
              "      <td>19.12.11</td>\n",
              "      <td>Alfa</td>\n",
              "      <td>Clube Universitario</td>\n",
              "      <td>21h35</td>\n",
              "      <td>Arma de fogo</td>\n",
              "      <td>NaN</td>\n",
              "    </tr>\n",
              "  </tbody>\n",
              "</table>\n",
              "</div>"
            ],
            "text/plain": [
              "         Data Quadrante                 Local horário  \\\n",
              "178  09.11.11       NaN                  Ñinf  ñ inf.   \n",
              "137  27.08.11     Delta                   CCS     23h   \n",
              "113  19.07.11     Delta                   CCS     NaN   \n",
              "174  04.11.11       ZLI  Avenida dos Reitores     NaN   \n",
              "201  19.12.11      Alfa   Clube Universitario   21h35   \n",
              "\n",
              "                           Tipo                Partes  \n",
              "178       Registro de Ocorrência                  NaN  \n",
              "137  Arrombamento de Instalações                  NaN  \n",
              "113     Carro c/ Vulnerabilidade                  NaN  \n",
              "174                      Colisão  Luana Gomes Barbosa  \n",
              "201                 Arma de fogo                  NaN  "
            ]
          },
          "metadata": {
            "tags": []
          }
        },
        {
          "output_type": "display_data",
          "data": {
            "text/plain": [
              "'2012'"
            ]
          },
          "metadata": {
            "tags": []
          }
        },
        {
          "output_type": "display_data",
          "data": {
            "text/html": [
              "<div>\n",
              "<style scoped>\n",
              "    .dataframe tbody tr th:only-of-type {\n",
              "        vertical-align: middle;\n",
              "    }\n",
              "\n",
              "    .dataframe tbody tr th {\n",
              "        vertical-align: top;\n",
              "    }\n",
              "\n",
              "    .dataframe thead th {\n",
              "        text-align: right;\n",
              "    }\n",
              "</style>\n",
              "<table border=\"1\" class=\"dataframe\">\n",
              "  <thead>\n",
              "    <tr style=\"text-align: right;\">\n",
              "      <th></th>\n",
              "      <th>Data</th>\n",
              "      <th>Quadrante</th>\n",
              "      <th>Local</th>\n",
              "      <th>horário</th>\n",
              "      <th>Tipo</th>\n",
              "      <th>Partes</th>\n",
              "    </tr>\n",
              "  </thead>\n",
              "  <tbody>\n",
              "    <tr>\n",
              "      <th>198</th>\n",
              "      <td>10.10,12</td>\n",
              "      <td>Delta</td>\n",
              "      <td>Próxmo ao Portão do CCS BR-101</td>\n",
              "      <td>17h50</td>\n",
              "      <td>Roubo(ZLE)</td>\n",
              "      <td>ñ inf</td>\n",
              "    </tr>\n",
              "    <tr>\n",
              "      <th>41</th>\n",
              "      <td>09.04.12</td>\n",
              "      <td>Alfa</td>\n",
              "      <td>Fisioterapia</td>\n",
              "      <td>ñ inf</td>\n",
              "      <td>Animal solto</td>\n",
              "      <td>Ronaldo Carneiro/ Artur e Camila</td>\n",
              "    </tr>\n",
              "    <tr>\n",
              "      <th>38</th>\n",
              "      <td>05.04.12</td>\n",
              "      <td>Alfa</td>\n",
              "      <td>Piscina NEFD</td>\n",
              "      <td>ñ inf</td>\n",
              "      <td>Invasão</td>\n",
              "      <td>Bruno Rafael /Bruno Rafael/ Vinicius Araújo/ J...</td>\n",
              "    </tr>\n",
              "    <tr>\n",
              "      <th>29</th>\n",
              "      <td>17.04.12</td>\n",
              "      <td>Delta</td>\n",
              "      <td>No estacionamento do CCS</td>\n",
              "      <td>15h08</td>\n",
              "      <td>Colisão</td>\n",
              "      <td>Fernando Ribeiro/ Vera pinheiro Ramos</td>\n",
              "    </tr>\n",
              "    <tr>\n",
              "      <th>23</th>\n",
              "      <td>07.03.12</td>\n",
              "      <td>Beta</td>\n",
              "      <td>Estacionamento da área II</td>\n",
              "      <td>11h20</td>\n",
              "      <td>Colisão</td>\n",
              "      <td>Leonardo Luiz F. Santos/Leonardo . Da Silva</td>\n",
              "    </tr>\n",
              "  </tbody>\n",
              "</table>\n",
              "</div>"
            ],
            "text/plain": [
              "          Data Quadrante                            Local horário  \\\n",
              "198   10.10,12     Delta  Próxmo ao Portão do CCS BR-101    17h50   \n",
              "41   09.04.12       Alfa                     Fisioterapia   ñ inf   \n",
              "38   05.04.12       Alfa                     Piscina NEFD   ñ inf   \n",
              "29   17.04.12      Delta         No estacionamento do CCS   15h08   \n",
              "23   07.03.12       Beta        Estacionamento da área II   11h20   \n",
              "\n",
              "            Tipo                                              Partes  \n",
              "198    Roubo(ZLE)                                              ñ inf  \n",
              "41   Animal solto                   Ronaldo Carneiro/ Artur e Camila  \n",
              "38        Invasão  Bruno Rafael /Bruno Rafael/ Vinicius Araújo/ J...  \n",
              "29        Colisão              Fernando Ribeiro/ Vera pinheiro Ramos  \n",
              "23        Colisão        Leonardo Luiz F. Santos/Leonardo . Da Silva  "
            ]
          },
          "metadata": {
            "tags": []
          }
        },
        {
          "output_type": "display_data",
          "data": {
            "text/plain": [
              "'2013'"
            ]
          },
          "metadata": {
            "tags": []
          }
        },
        {
          "output_type": "display_data",
          "data": {
            "text/html": [
              "<div>\n",
              "<style scoped>\n",
              "    .dataframe tbody tr th:only-of-type {\n",
              "        vertical-align: middle;\n",
              "    }\n",
              "\n",
              "    .dataframe tbody tr th {\n",
              "        vertical-align: top;\n",
              "    }\n",
              "\n",
              "    .dataframe thead th {\n",
              "        text-align: right;\n",
              "    }\n",
              "</style>\n",
              "<table border=\"1\" class=\"dataframe\">\n",
              "  <thead>\n",
              "    <tr style=\"text-align: right;\">\n",
              "      <th></th>\n",
              "      <th>Data</th>\n",
              "      <th>Quadrante</th>\n",
              "      <th>Local</th>\n",
              "      <th>horário</th>\n",
              "      <th>Tipo</th>\n",
              "      <th>Partes</th>\n",
              "    </tr>\n",
              "  </thead>\n",
              "  <tbody>\n",
              "    <tr>\n",
              "      <th>42</th>\n",
              "      <td>2013-01-22</td>\n",
              "      <td>NaN</td>\n",
              "      <td>Ñinf</td>\n",
              "      <td>21h00</td>\n",
              "      <td>Furto privado</td>\n",
              "      <td>Samuel Morreira Amaral.</td>\n",
              "    </tr>\n",
              "    <tr>\n",
              "      <th>188</th>\n",
              "      <td>2013-05-10</td>\n",
              "      <td>Beta</td>\n",
              "      <td>CIN (estacionamento)</td>\n",
              "      <td>17h45</td>\n",
              "      <td>Arrombamento de Veículo</td>\n",
              "      <td>Eduardo Jose de Vasconcelos Matos (dono do Veí...</td>\n",
              "    </tr>\n",
              "    <tr>\n",
              "      <th>128</th>\n",
              "      <td>2013-03-26</td>\n",
              "      <td>Delta</td>\n",
              "      <td>CCB</td>\n",
              "      <td>05h30</td>\n",
              "      <td>Registro de ocorrência</td>\n",
              "      <td>Aberto Nery (segurança UFPE) informante</td>\n",
              "    </tr>\n",
              "    <tr>\n",
              "      <th>254</th>\n",
              "      <td>2013-06-15</td>\n",
              "      <td>Delta</td>\n",
              "      <td>Estac. Do CCB</td>\n",
              "      <td>20h00</td>\n",
              "      <td>Registro de ocorrência</td>\n",
              "      <td>Marcelo Pompelli ( proprietário)</td>\n",
              "    </tr>\n",
              "    <tr>\n",
              "      <th>249</th>\n",
              "      <td>2013-06-12</td>\n",
              "      <td>Gama</td>\n",
              "      <td>CAC</td>\n",
              "      <td>16h50</td>\n",
              "      <td>Furto privado</td>\n",
              "      <td>Lucas Eduardo da Silva</td>\n",
              "    </tr>\n",
              "  </tbody>\n",
              "</table>\n",
              "</div>"
            ],
            "text/plain": [
              "          Data Quadrante                 Local horário  \\\n",
              "42  2013-01-22       NaN                  Ñinf   21h00   \n",
              "188 2013-05-10      Beta  CIN (estacionamento)   17h45   \n",
              "128 2013-03-26     Delta                   CCB   05h30   \n",
              "254 2013-06-15     Delta         Estac. Do CCB   20h00   \n",
              "249 2013-06-12      Gama                   CAC   16h50   \n",
              "\n",
              "                       Tipo   \\\n",
              "42             Furto privado   \n",
              "188  Arrombamento de Veículo   \n",
              "128   Registro de ocorrência   \n",
              "254   Registro de ocorrência   \n",
              "249            Furto privado   \n",
              "\n",
              "                                                Partes  \n",
              "42                             Samuel Morreira Amaral.  \n",
              "188  Eduardo Jose de Vasconcelos Matos (dono do Veí...  \n",
              "128            Aberto Nery (segurança UFPE) informante  \n",
              "254                   Marcelo Pompelli ( proprietário)  \n",
              "249                             Lucas Eduardo da Silva  "
            ]
          },
          "metadata": {
            "tags": []
          }
        },
        {
          "output_type": "display_data",
          "data": {
            "text/plain": [
              "'2014'"
            ]
          },
          "metadata": {
            "tags": []
          }
        },
        {
          "output_type": "display_data",
          "data": {
            "text/html": [
              "<div>\n",
              "<style scoped>\n",
              "    .dataframe tbody tr th:only-of-type {\n",
              "        vertical-align: middle;\n",
              "    }\n",
              "\n",
              "    .dataframe tbody tr th {\n",
              "        vertical-align: top;\n",
              "    }\n",
              "\n",
              "    .dataframe thead th {\n",
              "        text-align: right;\n",
              "    }\n",
              "</style>\n",
              "<table border=\"1\" class=\"dataframe\">\n",
              "  <thead>\n",
              "    <tr style=\"text-align: right;\">\n",
              "      <th></th>\n",
              "      <th>Data</th>\n",
              "      <th>Quadrante</th>\n",
              "      <th>Local</th>\n",
              "      <th>horário</th>\n",
              "      <th>Tipo</th>\n",
              "      <th>Partes</th>\n",
              "    </tr>\n",
              "  </thead>\n",
              "  <tbody>\n",
              "    <tr>\n",
              "      <th>226</th>\n",
              "      <td>2014-06-18 00:00:00</td>\n",
              "      <td>Gama</td>\n",
              "      <td>Próximo ao Cecine</td>\n",
              "      <td>13h00</td>\n",
              "      <td>Colisão</td>\n",
              "      <td>Piloto da moto: Wendson Oliveira. Condutor do ...</td>\n",
              "    </tr>\n",
              "    <tr>\n",
              "      <th>376</th>\n",
              "      <td>2014-12-09 00:00:00</td>\n",
              "      <td>Gama</td>\n",
              "      <td>CFCH</td>\n",
              "      <td>15h00</td>\n",
              "      <td>Prestação de socorro</td>\n",
              "      <td>Aluna: Kenia Aguines.</td>\n",
              "    </tr>\n",
              "    <tr>\n",
              "      <th>112</th>\n",
              "      <td>2014-04-08 00:00:00</td>\n",
              "      <td>Delta</td>\n",
              "      <td>Hospital das Clínicas</td>\n",
              "      <td>19h20</td>\n",
              "      <td>Roubo ZLI</td>\n",
              "      <td>Aluno José Eduardo Adelino Silva.</td>\n",
              "    </tr>\n",
              "    <tr>\n",
              "      <th>258</th>\n",
              "      <td>2014-07-17 00:00:00</td>\n",
              "      <td>Delta</td>\n",
              "      <td>Central de Segurança</td>\n",
              "      <td>06h40</td>\n",
              "      <td>Colisão</td>\n",
              "      <td>Condutor do ônibus: José Olimpio de Queiros Ne...</td>\n",
              "    </tr>\n",
              "    <tr>\n",
              "      <th>270</th>\n",
              "      <td>2014-07-30 00:00:00</td>\n",
              "      <td>Alfa</td>\n",
              "      <td>Terapia Ocupacional</td>\n",
              "      <td>20h30</td>\n",
              "      <td>Elemento suspeito</td>\n",
              "      <td>Ñ inf</td>\n",
              "    </tr>\n",
              "  </tbody>\n",
              "</table>\n",
              "</div>"
            ],
            "text/plain": [
              "                    Data Quadrante                  Local horário  \\\n",
              "226  2014-06-18 00:00:00      Gama      Próximo ao Cecine   13h00   \n",
              "376  2014-12-09 00:00:00      Gama                   CFCH   15h00   \n",
              "112  2014-04-08 00:00:00     Delta  Hospital das Clínicas   19h20   \n",
              "258  2014-07-17 00:00:00     Delta   Central de Segurança   06h40   \n",
              "270  2014-07-30 00:00:00      Alfa    Terapia Ocupacional   20h30   \n",
              "\n",
              "                    Tipo                                              Partes  \n",
              "226               Colisão  Piloto da moto: Wendson Oliveira. Condutor do ...  \n",
              "376  Prestação de socorro                              Aluna: Kenia Aguines.  \n",
              "112             Roubo ZLI                  Aluno José Eduardo Adelino Silva.  \n",
              "258               Colisão  Condutor do ônibus: José Olimpio de Queiros Ne...  \n",
              "270     Elemento suspeito                                              Ñ inf  "
            ]
          },
          "metadata": {
            "tags": []
          }
        },
        {
          "output_type": "display_data",
          "data": {
            "text/plain": [
              "'2015'"
            ]
          },
          "metadata": {
            "tags": []
          }
        },
        {
          "output_type": "display_data",
          "data": {
            "text/html": [
              "<div>\n",
              "<style scoped>\n",
              "    .dataframe tbody tr th:only-of-type {\n",
              "        vertical-align: middle;\n",
              "    }\n",
              "\n",
              "    .dataframe tbody tr th {\n",
              "        vertical-align: top;\n",
              "    }\n",
              "\n",
              "    .dataframe thead th {\n",
              "        text-align: right;\n",
              "    }\n",
              "</style>\n",
              "<table border=\"1\" class=\"dataframe\">\n",
              "  <thead>\n",
              "    <tr style=\"text-align: right;\">\n",
              "      <th></th>\n",
              "      <th>Data</th>\n",
              "      <th>Quadrante</th>\n",
              "      <th>Local</th>\n",
              "      <th>horário</th>\n",
              "      <th>Tipo</th>\n",
              "      <th>Partes</th>\n",
              "    </tr>\n",
              "  </thead>\n",
              "  <tbody>\n",
              "    <tr>\n",
              "      <th>141</th>\n",
              "      <td>2015-03-28</td>\n",
              "      <td>Beta</td>\n",
              "      <td>Concha Acústica</td>\n",
              "      <td>14h05</td>\n",
              "      <td>Acidente</td>\n",
              "      <td>Proprietário do veículo: Oscar Henrique da Sil...</td>\n",
              "    </tr>\n",
              "    <tr>\n",
              "      <th>394</th>\n",
              "      <td>2015-10-18</td>\n",
              "      <td>Alfa</td>\n",
              "      <td>Casa da Estudante</td>\n",
              "      <td>19h00</td>\n",
              "      <td>Prestação de Socorro</td>\n",
              "      <td>Estudante: Alexandre Campus da Silva Jr..</td>\n",
              "    </tr>\n",
              "    <tr>\n",
              "      <th>368</th>\n",
              "      <td>2015-09-21</td>\n",
              "      <td>Gama</td>\n",
              "      <td>CFCH</td>\n",
              "      <td>16h00</td>\n",
              "      <td>Prestação de Socorro</td>\n",
              "      <td>Aluna: Rafaela Viana (Curso de Geografia).</td>\n",
              "    </tr>\n",
              "    <tr>\n",
              "      <th>390</th>\n",
              "      <td>2015-10-16</td>\n",
              "      <td>Gama</td>\n",
              "      <td>Estacionamento do CCSA</td>\n",
              "      <td>Ñ inf</td>\n",
              "      <td>Ameaça</td>\n",
              "      <td>Aluna: Stephanie Nogueira de Barros (Curso de ...</td>\n",
              "    </tr>\n",
              "    <tr>\n",
              "      <th>1</th>\n",
              "      <td>2015-01-04</td>\n",
              "      <td>Gama</td>\n",
              "      <td>Laguinho</td>\n",
              "      <td>Ñ inf</td>\n",
              "      <td>Abordagem/ Uso de Entorpecentes/ Bebidas Alcoó...</td>\n",
              "      <td>Ñ inf</td>\n",
              "    </tr>\n",
              "  </tbody>\n",
              "</table>\n",
              "</div>"
            ],
            "text/plain": [
              "          Data Quadrante                   Local horário  \\\n",
              "141 2015-03-28      Beta         Concha Acústica   14h05   \n",
              "394 2015-10-18      Alfa       Casa da Estudante   19h00   \n",
              "368 2015-09-21      Gama                    CFCH   16h00   \n",
              "390 2015-10-16      Gama  Estacionamento do CCSA   Ñ inf   \n",
              "1   2015-01-04      Gama                Laguinho   Ñ inf   \n",
              "\n",
              "                                                 Tipo   \\\n",
              "141                                           Acidente   \n",
              "394                               Prestação de Socorro   \n",
              "368                               Prestação de Socorro   \n",
              "390                                             Ameaça   \n",
              "1    Abordagem/ Uso de Entorpecentes/ Bebidas Alcoó...   \n",
              "\n",
              "                                                Partes  \n",
              "141  Proprietário do veículo: Oscar Henrique da Sil...  \n",
              "394          Estudante: Alexandre Campus da Silva Jr..  \n",
              "368         Aluna: Rafaela Viana (Curso de Geografia).  \n",
              "390  Aluna: Stephanie Nogueira de Barros (Curso de ...  \n",
              "1                                                Ñ inf  "
            ]
          },
          "metadata": {
            "tags": []
          }
        },
        {
          "output_type": "execute_result",
          "data": {
            "text/plain": [
              "[None, None, None, None, None, None, None]"
            ]
          },
          "metadata": {
            "tags": []
          },
          "execution_count": 34
        }
      ]
    }
  ]
}