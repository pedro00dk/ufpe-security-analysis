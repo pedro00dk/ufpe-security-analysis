{
  "nbformat": 4,
  "nbformat_minor": 0,
  "metadata": {
    "colab": {
      "name": "ufpe_sa.ipynb",
      "version": "0.3.2",
      "provenance": [],
      "include_colab_link": true
    },
    "kernelspec": {
      "name": "python3",
      "display_name": "Python 3"
    }
  },
  "cells": [
    {
      "cell_type": "markdown",
      "metadata": {
        "id": "view-in-github",
        "colab_type": "text"
      },
      "source": [
        "<a href=\"https://colab.research.google.com/github/pedro00dk/ufpe-security-analysis/blob/master/ufpe_sa.ipynb\" target=\"_parent\"><img src=\"https://colab.research.google.com/assets/colab-badge.svg\" alt=\"Open In Colab\"/></a>"
      ]
    },
    {
      "metadata": {
        "id": "RtdnypTW1Tqx",
        "colab_type": "text"
      },
      "cell_type": "markdown",
      "source": [
        "# UFPE Security Analysis"
      ]
    },
    {
      "metadata": {
        "id": "AYOC4owg9R48",
        "colab_type": "text"
      },
      "cell_type": "markdown",
      "source": [
        "Fetching github repo to get database file."
      ]
    },
    {
      "metadata": {
        "id": "kQmQq91f0yXH",
        "colab_type": "code",
        "outputId": "aefe0f40-f7b2-4662-9c7c-99960d6369b2",
        "colab": {
          "base_uri": "https://localhost:8080/",
          "height": 143
        }
      },
      "cell_type": "code",
      "source": [
        "!rm --recursive --force -- ./ufpe-security-analysis/\n",
        "!git clone -- https://github.com/pedro00dk/ufpe-security-analysis\n",
        "!ls -- ./ufpe-security-analysis/"
      ],
      "execution_count": 1,
      "outputs": [
        {
          "output_type": "stream",
          "text": [
            "Cloning into 'ufpe-security-analysis'...\n",
            "remote: Enumerating objects: 42, done.\u001b[K\n",
            "remote: Counting objects: 100% (42/42), done.\u001b[K\n",
            "remote: Compressing objects: 100% (40/40), done.\u001b[K\n",
            "remote: Total 42 (delta 20), reused 0 (delta 0), pack-reused 0\u001b[K\n",
            "Unpacking objects: 100% (42/42), done.\n",
            " README.md   ufpe_sa.ipynb  'UFPE SSI.xlsx'\n"
          ],
          "name": "stdout"
        }
      ]
    },
    {
      "metadata": {
        "id": "zCiUq6Z79c10",
        "colab_type": "text"
      },
      "cell_type": "markdown",
      "source": [
        "#### Packages and imports\n",
        "\n",
        "Install necessary packages for loading excel"
      ]
    },
    {
      "metadata": {
        "id": "Y_qiSckS59cO",
        "colab_type": "code",
        "outputId": "c6f74e2b-9024-4b58-c1dc-85b09ca75067",
        "colab": {
          "base_uri": "https://localhost:8080/",
          "height": 107
        }
      },
      "cell_type": "code",
      "source": [
        "!pip install xlrd"
      ],
      "execution_count": 2,
      "outputs": [
        {
          "output_type": "stream",
          "text": [
            "Collecting xlrd\n",
            "\u001b[?25l  Downloading https://files.pythonhosted.org/packages/07/e6/e95c4eec6221bfd8528bcc4ea252a850bffcc4be88ebc367e23a1a84b0bb/xlrd-1.1.0-py2.py3-none-any.whl (108kB)\n",
            "\u001b[K    100% |████████████████████████████████| 112kB 2.6MB/s \n",
            "\u001b[?25hInstalling collected packages: xlrd\n",
            "Successfully installed xlrd-1.1.0\n"
          ],
          "name": "stdout"
        }
      ]
    },
    {
      "metadata": {
        "id": "XXndZFmh4fBi",
        "colab_type": "code",
        "outputId": "a79584ad-013f-4e6a-f4e6-44e42cdabd90",
        "colab": {
          "base_uri": "https://localhost:8080/",
          "height": 89
        }
      },
      "cell_type": "code",
      "source": [
        "import nltk\n",
        "nltk.download('punkt')\n",
        "nltk.download('mac_morpho')\n",
        "import numpy as np\n",
        "import pandas as pd\n",
        "import re"
      ],
      "execution_count": 3,
      "outputs": [
        {
          "output_type": "stream",
          "text": [
            "[nltk_data] Downloading package punkt to /root/nltk_data...\n",
            "[nltk_data]   Unzipping tokenizers/punkt.zip.\n",
            "[nltk_data] Downloading package mac_morpho to /root/nltk_data...\n",
            "[nltk_data]   Unzipping corpora/mac_morpho.zip.\n"
          ],
          "name": "stdout"
        }
      ]
    },
    {
      "metadata": {
        "id": "JiZ8q-Wb9nrf",
        "colab_type": "text"
      },
      "cell_type": "markdown",
      "source": [
        "### Dataframe Columns and Data\n",
        "\n",
        "The database consists of an excel file with sheets per year of information. All of these sheets have to be loaded and merged. I printed only two lines of the dataframes to check the data formats and column names for concatenation."
      ]
    },
    {
      "metadata": {
        "id": "wqMQeUtB4_9P",
        "colab_type": "code",
        "outputId": "9edec5eb-48ee-4adf-857e-cd929d3846ce",
        "colab": {
          "base_uri": "https://localhost:8080/",
          "height": 1038
        }
      },
      "cell_type": "code",
      "source": [
        "xls = pd.ExcelFile('./ufpe-security-analysis/UFPE SSI.xlsx')\n",
        "dfs = xls.parse(sheet_name=xls.sheet_names)\n",
        "\n",
        "[display(y, df.sample(2)) for y, df in dfs.items()]"
      ],
      "execution_count": 4,
      "outputs": [
        {
          "output_type": "display_data",
          "data": {
            "text/plain": [
              "'2008'"
            ]
          },
          "metadata": {
            "tags": []
          }
        },
        {
          "output_type": "display_data",
          "data": {
            "text/html": [
              "<div>\n",
              "<style scoped>\n",
              "    .dataframe tbody tr th:only-of-type {\n",
              "        vertical-align: middle;\n",
              "    }\n",
              "\n",
              "    .dataframe tbody tr th {\n",
              "        vertical-align: top;\n",
              "    }\n",
              "\n",
              "    .dataframe thead th {\n",
              "        text-align: right;\n",
              "    }\n",
              "</style>\n",
              "<table border=\"1\" class=\"dataframe\">\n",
              "  <thead>\n",
              "    <tr style=\"text-align: right;\">\n",
              "      <th></th>\n",
              "      <th>Data</th>\n",
              "      <th>Quadrante</th>\n",
              "      <th>Local</th>\n",
              "      <th>Horário</th>\n",
              "      <th>Tipo</th>\n",
              "      <th>Descrição Sumária</th>\n",
              "      <th>Partes</th>\n",
              "      <th>Medidas</th>\n",
              "    </tr>\n",
              "  </thead>\n",
              "  <tbody>\n",
              "    <tr>\n",
              "      <th>128</th>\n",
              "      <td>16.05.08</td>\n",
              "      <td>NaN</td>\n",
              "      <td>Ñinf</td>\n",
              "      <td>19h30</td>\n",
              "      <td>colisão</td>\n",
              "      <td>Ocorrência 643-um FIAT UNO colidiu com o MONSA...</td>\n",
              "      <td>Jusyane Maria Nascimento de Lima/monsa</td>\n",
              "      <td>Prestou queixa  a uma viatura.</td>\n",
              "    </tr>\n",
              "    <tr>\n",
              "      <th>110</th>\n",
              "      <td>29.04.08</td>\n",
              "      <td>Gama</td>\n",
              "      <td>CCSA</td>\n",
              "      <td>22H30</td>\n",
              "      <td>Registro de ocorrência</td>\n",
              "      <td>Ocorrência 609-gato que estava preso em uma ár...</td>\n",
              "      <td>LELIS/Cabo</td>\n",
              "      <td>Ñinf</td>\n",
              "    </tr>\n",
              "  </tbody>\n",
              "</table>\n",
              "</div>"
            ],
            "text/plain": [
              "         Data Quadrante Local Horário                    Tipo  \\\n",
              "128  16.05.08       NaN  Ñinf   19h30                 colisão   \n",
              "110  29.04.08      Gama  CCSA   22H30  Registro de ocorrência   \n",
              "\n",
              "                                     Descrição Sumária  \\\n",
              "128  Ocorrência 643-um FIAT UNO colidiu com o MONSA...   \n",
              "110  Ocorrência 609-gato que estava preso em uma ár...   \n",
              "\n",
              "                                     Partes                         Medidas  \n",
              "128  Jusyane Maria Nascimento de Lima/monsa  Prestou queixa  a uma viatura.  \n",
              "110                              LELIS/Cabo                            Ñinf  "
            ]
          },
          "metadata": {
            "tags": []
          }
        },
        {
          "output_type": "display_data",
          "data": {
            "text/plain": [
              "'2009'"
            ]
          },
          "metadata": {
            "tags": []
          }
        },
        {
          "output_type": "display_data",
          "data": {
            "text/html": [
              "<div>\n",
              "<style scoped>\n",
              "    .dataframe tbody tr th:only-of-type {\n",
              "        vertical-align: middle;\n",
              "    }\n",
              "\n",
              "    .dataframe tbody tr th {\n",
              "        vertical-align: top;\n",
              "    }\n",
              "\n",
              "    .dataframe thead th {\n",
              "        text-align: right;\n",
              "    }\n",
              "</style>\n",
              "<table border=\"1\" class=\"dataframe\">\n",
              "  <thead>\n",
              "    <tr style=\"text-align: right;\">\n",
              "      <th></th>\n",
              "      <th>Data</th>\n",
              "      <th>Quadrante</th>\n",
              "      <th>Local</th>\n",
              "      <th>Horário</th>\n",
              "      <th>Tipo</th>\n",
              "      <th>Descrição Sumária</th>\n",
              "      <th>Partes</th>\n",
              "      <th>Medidas</th>\n",
              "    </tr>\n",
              "  </thead>\n",
              "  <tbody>\n",
              "    <tr>\n",
              "      <th>25</th>\n",
              "      <td>28.01.09</td>\n",
              "      <td>Beta</td>\n",
              "      <td>Editora universitária</td>\n",
              "      <td>10h15</td>\n",
              "      <td>Prestação de socorro</td>\n",
              "      <td>Ocorrência 1135 - 01 indivíduo  se sentiu mal.</td>\n",
              "      <td>Srº Roberto Virgílio do Nascimento.</td>\n",
              "      <td>O GTO foi acionado.</td>\n",
              "    </tr>\n",
              "    <tr>\n",
              "      <th>78</th>\n",
              "      <td>14.03.09</td>\n",
              "      <td>NaN</td>\n",
              "      <td>Ñ inf</td>\n",
              "      <td>Ñ inf</td>\n",
              "      <td>Roubo</td>\n",
              "      <td>Ocorrência 2024 - 01 estudante foi vítima de u...</td>\n",
              "      <td>Ñ inf</td>\n",
              "      <td>Ñ inf</td>\n",
              "    </tr>\n",
              "  </tbody>\n",
              "</table>\n",
              "</div>"
            ],
            "text/plain": [
              "        Data Quadrante                  Local Horário                  Tipo  \\\n",
              "25  28.01.09      Beta  Editora universitária   10h15  Prestação de socorro   \n",
              "78  14.03.09       NaN                  Ñ inf   Ñ inf                 Roubo   \n",
              "\n",
              "                                    Descrição Sumária  \\\n",
              "25     Ocorrência 1135 - 01 indivíduo  se sentiu mal.   \n",
              "78  Ocorrência 2024 - 01 estudante foi vítima de u...   \n",
              "\n",
              "                                 Partes              Medidas  \n",
              "25  Srº Roberto Virgílio do Nascimento.  O GTO foi acionado.  \n",
              "78                                Ñ inf                Ñ inf  "
            ]
          },
          "metadata": {
            "tags": []
          }
        },
        {
          "output_type": "display_data",
          "data": {
            "text/plain": [
              "'2011'"
            ]
          },
          "metadata": {
            "tags": []
          }
        },
        {
          "output_type": "display_data",
          "data": {
            "text/html": [
              "<div>\n",
              "<style scoped>\n",
              "    .dataframe tbody tr th:only-of-type {\n",
              "        vertical-align: middle;\n",
              "    }\n",
              "\n",
              "    .dataframe tbody tr th {\n",
              "        vertical-align: top;\n",
              "    }\n",
              "\n",
              "    .dataframe thead th {\n",
              "        text-align: right;\n",
              "    }\n",
              "</style>\n",
              "<table border=\"1\" class=\"dataframe\">\n",
              "  <thead>\n",
              "    <tr style=\"text-align: right;\">\n",
              "      <th></th>\n",
              "      <th>Data</th>\n",
              "      <th>Quadrante</th>\n",
              "      <th>Local</th>\n",
              "      <th>horário</th>\n",
              "      <th>Tipo</th>\n",
              "      <th>Descrição Sumária</th>\n",
              "      <th>Partes</th>\n",
              "      <th>Medidas</th>\n",
              "    </tr>\n",
              "  </thead>\n",
              "  <tbody>\n",
              "    <tr>\n",
              "      <th>21</th>\n",
              "      <td>09.02.11</td>\n",
              "      <td>Gama</td>\n",
              "      <td>CCSA</td>\n",
              "      <td>NaN</td>\n",
              "      <td>Furto Patrimonial</td>\n",
              "      <td>Ocorrência-2986-Viviane deixou sua bolsa em ci...</td>\n",
              "      <td>NaN</td>\n",
              "      <td>Ñinf</td>\n",
              "    </tr>\n",
              "    <tr>\n",
              "      <th>27</th>\n",
              "      <td>21.02.11</td>\n",
              "      <td>Beta</td>\n",
              "      <td>Cantina AREA II</td>\n",
              "      <td>NaN</td>\n",
              "      <td>Arrombamento de Instalações</td>\n",
              "      <td>Ocorrência 3010- a cantina foi arrombada segun...</td>\n",
              "      <td>Janete Gomes de Oliveira</td>\n",
              "      <td>NaN</td>\n",
              "    </tr>\n",
              "  </tbody>\n",
              "</table>\n",
              "</div>"
            ],
            "text/plain": [
              "        Data Quadrante            Local horário                        Tipo   \\\n",
              "21  09.02.11      Gama             CCSA     NaN            Furto Patrimonial   \n",
              "27  21.02.11      Beta  Cantina AREA II     NaN  Arrombamento de Instalações   \n",
              "\n",
              "                                    Descrição Sumária  \\\n",
              "21  Ocorrência-2986-Viviane deixou sua bolsa em ci...   \n",
              "27  Ocorrência 3010- a cantina foi arrombada segun...   \n",
              "\n",
              "                      Partes Medidas  \n",
              "21                       NaN    Ñinf  \n",
              "27  Janete Gomes de Oliveira     NaN  "
            ]
          },
          "metadata": {
            "tags": []
          }
        },
        {
          "output_type": "display_data",
          "data": {
            "text/plain": [
              "'2012'"
            ]
          },
          "metadata": {
            "tags": []
          }
        },
        {
          "output_type": "display_data",
          "data": {
            "text/html": [
              "<div>\n",
              "<style scoped>\n",
              "    .dataframe tbody tr th:only-of-type {\n",
              "        vertical-align: middle;\n",
              "    }\n",
              "\n",
              "    .dataframe tbody tr th {\n",
              "        vertical-align: top;\n",
              "    }\n",
              "\n",
              "    .dataframe thead th {\n",
              "        text-align: right;\n",
              "    }\n",
              "</style>\n",
              "<table border=\"1\" class=\"dataframe\">\n",
              "  <thead>\n",
              "    <tr style=\"text-align: right;\">\n",
              "      <th></th>\n",
              "      <th>Data</th>\n",
              "      <th>Quadrante</th>\n",
              "      <th>Local</th>\n",
              "      <th>horário</th>\n",
              "      <th>Tipo</th>\n",
              "      <th>Descrição Sumária</th>\n",
              "      <th>Partes</th>\n",
              "      <th>Medidas</th>\n",
              "    </tr>\n",
              "  </thead>\n",
              "  <tbody>\n",
              "    <tr>\n",
              "      <th>0</th>\n",
              "      <td>04.01.12</td>\n",
              "      <td>NaN</td>\n",
              "      <td>Próximo a tenda do bloqueio</td>\n",
              "      <td>05h30</td>\n",
              "      <td>Prestação de socorro</td>\n",
              "      <td>Ocorrência 3632 - a segurança da TKS Raquel ca...</td>\n",
              "      <td>Raquel - TKS</td>\n",
              "      <td>socorrida - UPA da Caxangá /UPA de São Lourenço.</td>\n",
              "    </tr>\n",
              "    <tr>\n",
              "      <th>7</th>\n",
              "      <td>06.03.12</td>\n",
              "      <td>NaN</td>\n",
              "      <td>Ñinf</td>\n",
              "      <td>ñ inf</td>\n",
              "      <td>Prestação de socorro</td>\n",
              "      <td>Ocorrência 3753 - a estudante Iris Fernanda Go...</td>\n",
              "      <td>Iris Fernanda Gomes</td>\n",
              "      <td>UPA de Torrões</td>\n",
              "    </tr>\n",
              "  </tbody>\n",
              "</table>\n",
              "</div>"
            ],
            "text/plain": [
              "       Data Quadrante                        Local horário  \\\n",
              "0  04.01.12       NaN  Próximo a tenda do bloqueio   05h30   \n",
              "7  06.03.12       NaN                         Ñinf   ñ inf   \n",
              "\n",
              "                   Tipo                                   Descrição Sumária  \\\n",
              "0  Prestação de socorro   Ocorrência 3632 - a segurança da TKS Raquel ca...   \n",
              "7  Prestação de socorro   Ocorrência 3753 - a estudante Iris Fernanda Go...   \n",
              "\n",
              "                Partes                                           Medidas  \n",
              "0         Raquel - TKS  socorrida - UPA da Caxangá /UPA de São Lourenço.  \n",
              "7  Iris Fernanda Gomes                                   UPA de Torrões   "
            ]
          },
          "metadata": {
            "tags": []
          }
        },
        {
          "output_type": "display_data",
          "data": {
            "text/plain": [
              "'2013'"
            ]
          },
          "metadata": {
            "tags": []
          }
        },
        {
          "output_type": "display_data",
          "data": {
            "text/html": [
              "<div>\n",
              "<style scoped>\n",
              "    .dataframe tbody tr th:only-of-type {\n",
              "        vertical-align: middle;\n",
              "    }\n",
              "\n",
              "    .dataframe tbody tr th {\n",
              "        vertical-align: top;\n",
              "    }\n",
              "\n",
              "    .dataframe thead th {\n",
              "        text-align: right;\n",
              "    }\n",
              "</style>\n",
              "<table border=\"1\" class=\"dataframe\">\n",
              "  <thead>\n",
              "    <tr style=\"text-align: right;\">\n",
              "      <th></th>\n",
              "      <th>Data</th>\n",
              "      <th>Quadrante</th>\n",
              "      <th>Local</th>\n",
              "      <th>horário</th>\n",
              "      <th>Tipo</th>\n",
              "      <th>Descrição Sumária</th>\n",
              "      <th>Partes</th>\n",
              "      <th>Medidas</th>\n",
              "    </tr>\n",
              "  </thead>\n",
              "  <tbody>\n",
              "    <tr>\n",
              "      <th>363</th>\n",
              "      <td>2013-08-22</td>\n",
              "      <td>Ñinf</td>\n",
              "      <td>Ñinf</td>\n",
              "      <td>Ñinf</td>\n",
              "      <td>Registro de Ocorrência</td>\n",
              "      <td>Ocorrência 6018-segundo registro dois suspeito...</td>\n",
              "      <td>NaN</td>\n",
              "      <td>O GTO fotografou o caso.</td>\n",
              "    </tr>\n",
              "    <tr>\n",
              "      <th>239</th>\n",
              "      <td>2013-06-06</td>\n",
              "      <td>Delta</td>\n",
              "      <td>HC</td>\n",
              "      <td>20h15</td>\n",
              "      <td>Registro de ocorrência</td>\n",
              "      <td>Ocorrência 4963-segundo registro segurança UFP...</td>\n",
              "      <td>Alberico/Djalma Galvão ambos seguranças UFPE.</td>\n",
              "      <td>As vítimas foram socorridas para o Hospital da...</td>\n",
              "    </tr>\n",
              "  </tbody>\n",
              "</table>\n",
              "</div>"
            ],
            "text/plain": [
              "          Data Quadrante Local horário                   Tipo   \\\n",
              "363 2013-08-22      Ñinf  Ñinf    Ñinf  Registro de Ocorrência   \n",
              "239 2013-06-06     Delta    HC   20h15  Registro de ocorrência   \n",
              "\n",
              "                                     Descrição Sumária  \\\n",
              "363  Ocorrência 6018-segundo registro dois suspeito...   \n",
              "239  Ocorrência 4963-segundo registro segurança UFP...   \n",
              "\n",
              "                                            Partes  \\\n",
              "363                                            NaN   \n",
              "239  Alberico/Djalma Galvão ambos seguranças UFPE.   \n",
              "\n",
              "                                               Medidas  \n",
              "363                           O GTO fotografou o caso.  \n",
              "239  As vítimas foram socorridas para o Hospital da...  "
            ]
          },
          "metadata": {
            "tags": []
          }
        },
        {
          "output_type": "display_data",
          "data": {
            "text/plain": [
              "'2014'"
            ]
          },
          "metadata": {
            "tags": []
          }
        },
        {
          "output_type": "display_data",
          "data": {
            "text/html": [
              "<div>\n",
              "<style scoped>\n",
              "    .dataframe tbody tr th:only-of-type {\n",
              "        vertical-align: middle;\n",
              "    }\n",
              "\n",
              "    .dataframe tbody tr th {\n",
              "        vertical-align: top;\n",
              "    }\n",
              "\n",
              "    .dataframe thead th {\n",
              "        text-align: right;\n",
              "    }\n",
              "</style>\n",
              "<table border=\"1\" class=\"dataframe\">\n",
              "  <thead>\n",
              "    <tr style=\"text-align: right;\">\n",
              "      <th></th>\n",
              "      <th>Data</th>\n",
              "      <th>Quadrante</th>\n",
              "      <th>Local</th>\n",
              "      <th>horário</th>\n",
              "      <th>Tipo</th>\n",
              "      <th>Descrição Sumária</th>\n",
              "      <th>Partes</th>\n",
              "      <th>Medidas</th>\n",
              "    </tr>\n",
              "  </thead>\n",
              "  <tbody>\n",
              "    <tr>\n",
              "      <th>38</th>\n",
              "      <td>2014-02-06 00:00:00</td>\n",
              "      <td>Gama</td>\n",
              "      <td>CFCH</td>\n",
              "      <td>16h40</td>\n",
              "      <td>Registro de ocorrência</td>\n",
              "      <td>Ocorrência 7251-segundo registro um aluna foi ...</td>\n",
              "      <td>Aluna Mariana Cavalcante Albuquerque.</td>\n",
              "      <td>O GTO foi ao local mas os elementos já haviam ...</td>\n",
              "    </tr>\n",
              "    <tr>\n",
              "      <th>164</th>\n",
              "      <td>2014-05-15 00:00:00</td>\n",
              "      <td>Gama</td>\n",
              "      <td>Laguinho próximo a grade do CAP</td>\n",
              "      <td>14h25</td>\n",
              "      <td>Tentativa de assalto</td>\n",
              "      <td>Ocorrência 7547 - segundo registro duas menina...</td>\n",
              "      <td>Ñ inf</td>\n",
              "      <td>O GTO acionou a cirene da moto e os elementos ...</td>\n",
              "    </tr>\n",
              "  </tbody>\n",
              "</table>\n",
              "</div>"
            ],
            "text/plain": [
              "                    Data Quadrante                            Local horário  \\\n",
              "38   2014-02-06 00:00:00      Gama                             CFCH   16h40   \n",
              "164  2014-05-15 00:00:00      Gama  Laguinho próximo a grade do CAP   14h25   \n",
              "\n",
              "                      Tipo   \\\n",
              "38   Registro de ocorrência   \n",
              "164    Tentativa de assalto   \n",
              "\n",
              "                                     Descrição Sumária  \\\n",
              "38   Ocorrência 7251-segundo registro um aluna foi ...   \n",
              "164  Ocorrência 7547 - segundo registro duas menina...   \n",
              "\n",
              "                                    Partes  \\\n",
              "38   Aluna Mariana Cavalcante Albuquerque.   \n",
              "164                                  Ñ inf   \n",
              "\n",
              "                                               Medidas  \n",
              "38   O GTO foi ao local mas os elementos já haviam ...  \n",
              "164  O GTO acionou a cirene da moto e os elementos ...  "
            ]
          },
          "metadata": {
            "tags": []
          }
        },
        {
          "output_type": "display_data",
          "data": {
            "text/plain": [
              "'2015'"
            ]
          },
          "metadata": {
            "tags": []
          }
        },
        {
          "output_type": "display_data",
          "data": {
            "text/html": [
              "<div>\n",
              "<style scoped>\n",
              "    .dataframe tbody tr th:only-of-type {\n",
              "        vertical-align: middle;\n",
              "    }\n",
              "\n",
              "    .dataframe tbody tr th {\n",
              "        vertical-align: top;\n",
              "    }\n",
              "\n",
              "    .dataframe thead th {\n",
              "        text-align: right;\n",
              "    }\n",
              "</style>\n",
              "<table border=\"1\" class=\"dataframe\">\n",
              "  <thead>\n",
              "    <tr style=\"text-align: right;\">\n",
              "      <th></th>\n",
              "      <th>Data</th>\n",
              "      <th>Quadrante</th>\n",
              "      <th>Local</th>\n",
              "      <th>horário</th>\n",
              "      <th>Tipo</th>\n",
              "      <th>Descrição Sumária</th>\n",
              "      <th>Partes</th>\n",
              "      <th>Medidas</th>\n",
              "      <th>Unnamed: 8</th>\n",
              "      <th>Unnamed: 9</th>\n",
              "      <th>...</th>\n",
              "      <th>Unnamed: 26</th>\n",
              "      <th>Unnamed: 27</th>\n",
              "      <th>Unnamed: 28</th>\n",
              "      <th>Unnamed: 29</th>\n",
              "      <th>Unnamed: 30</th>\n",
              "      <th>Unnamed: 31</th>\n",
              "      <th>Unnamed: 32</th>\n",
              "      <th>Unnamed: 33</th>\n",
              "      <th>Unnamed: 34</th>\n",
              "      <th>Unnamed: 35</th>\n",
              "    </tr>\n",
              "  </thead>\n",
              "  <tbody>\n",
              "    <tr>\n",
              "      <th>256</th>\n",
              "      <td>2015-05-30</td>\n",
              "      <td>Delta</td>\n",
              "      <td>Restaurante do HC</td>\n",
              "      <td>09h00</td>\n",
              "      <td>Registro de Ocorrência</td>\n",
              "      <td>Ocorrência 303 TURMA \"C\" - segundo registro os...</td>\n",
              "      <td>Aluna: Ilgiza Iangildina (Curso de Letras).</td>\n",
              "      <td>A aluna foi conduzida até a casa feminina da U...</td>\n",
              "      <td>NaN</td>\n",
              "      <td>NaN</td>\n",
              "      <td>...</td>\n",
              "      <td>NaN</td>\n",
              "      <td>NaN</td>\n",
              "      <td>NaN</td>\n",
              "      <td>NaN</td>\n",
              "      <td>NaN</td>\n",
              "      <td>NaN</td>\n",
              "      <td>NaN</td>\n",
              "      <td>NaN</td>\n",
              "      <td>NaN</td>\n",
              "      <td>NaN</td>\n",
              "    </tr>\n",
              "    <tr>\n",
              "      <th>289</th>\n",
              "      <td>2015-06-19</td>\n",
              "      <td>Gama</td>\n",
              "      <td>Restaurante Universitário</td>\n",
              "      <td>12h40</td>\n",
              "      <td>Prestação de Socorro</td>\n",
              "      <td>Ocorrência 0345 TURMA \"C\" - segundo registro u...</td>\n",
              "      <td>Acompanhante: Jeferson Ramos (Curso de Engenha...</td>\n",
              "      <td>O estudante, juntamente com o seu acompanhante...</td>\n",
              "      <td>NaN</td>\n",
              "      <td>NaN</td>\n",
              "      <td>...</td>\n",
              "      <td>NaN</td>\n",
              "      <td>NaN</td>\n",
              "      <td>NaN</td>\n",
              "      <td>NaN</td>\n",
              "      <td>NaN</td>\n",
              "      <td>NaN</td>\n",
              "      <td>NaN</td>\n",
              "      <td>NaN</td>\n",
              "      <td>NaN</td>\n",
              "      <td>NaN</td>\n",
              "    </tr>\n",
              "  </tbody>\n",
              "</table>\n",
              "<p>2 rows × 36 columns</p>\n",
              "</div>"
            ],
            "text/plain": [
              "          Data Quadrante                      Local horário  \\\n",
              "256 2015-05-30     Delta          Restaurante do HC   09h00   \n",
              "289 2015-06-19      Gama  Restaurante Universitário   12h40   \n",
              "\n",
              "                      Tipo   \\\n",
              "256  Registro de Ocorrência   \n",
              "289    Prestação de Socorro   \n",
              "\n",
              "                                     Descrição Sumária  \\\n",
              "256  Ocorrência 303 TURMA \"C\" - segundo registro os...   \n",
              "289  Ocorrência 0345 TURMA \"C\" - segundo registro u...   \n",
              "\n",
              "                                                Partes  \\\n",
              "256        Aluna: Ilgiza Iangildina (Curso de Letras).   \n",
              "289  Acompanhante: Jeferson Ramos (Curso de Engenha...   \n",
              "\n",
              "                                               Medidas  Unnamed: 8  \\\n",
              "256  A aluna foi conduzida até a casa feminina da U...         NaN   \n",
              "289  O estudante, juntamente com o seu acompanhante...         NaN   \n",
              "\n",
              "     Unnamed: 9     ...       Unnamed: 26  Unnamed: 27  Unnamed: 28  \\\n",
              "256         NaN     ...               NaN          NaN          NaN   \n",
              "289         NaN     ...               NaN          NaN          NaN   \n",
              "\n",
              "     Unnamed: 29  Unnamed: 30  Unnamed: 31  Unnamed: 32  Unnamed: 33  \\\n",
              "256          NaN          NaN          NaN          NaN          NaN   \n",
              "289          NaN          NaN          NaN          NaN          NaN   \n",
              "\n",
              "     Unnamed: 34  Unnamed: 35  \n",
              "256          NaN          NaN  \n",
              "289          NaN          NaN  \n",
              "\n",
              "[2 rows x 36 columns]"
            ]
          },
          "metadata": {
            "tags": []
          }
        },
        {
          "output_type": "execute_result",
          "data": {
            "text/plain": [
              "[None, None, None, None, None, None, None]"
            ]
          },
          "metadata": {
            "tags": []
          },
          "execution_count": 4
        }
      ]
    },
    {
      "metadata": {
        "id": "h8hYp6H61kiT",
        "colab_type": "text"
      },
      "cell_type": "markdown",
      "source": [
        "### Dataframes Concatenation\n",
        "\n",
        "Processing the dates of all dataframes before merging because they have different formats, it will help to maitain the correctness of the processed dates. Some cleaning in the columns names is also necessary to make then match in concatenation."
      ]
    },
    {
      "metadata": {
        "id": "NSuGE4qW-Fg1",
        "colab_type": "code",
        "outputId": "18c962b3-f5f5-420d-9a94-c4d1c6cf089e",
        "colab": {
          "base_uri": "https://localhost:8080/",
          "height": 359
        }
      },
      "cell_type": "code",
      "source": [
        "# lower all columns and remove extra spaces\n",
        "dfs = {y: df.rename(lambda c: c.lower().strip(), axis='columns') for y, df in dfs.items()}\n",
        "\n",
        "# drop columns\n",
        "drop_rule = re.compile(r'(?x) descrição \\s sumária | medidas | unnamed.*')\n",
        "dfs = {y: df.drop([c for c in df.columns if drop_rule.match(c)], axis='columns') for y, df in dfs.items()}\n",
        "\n",
        "# unify null elements\n",
        "na_rule = re.compile(r'(?i)ñ.*')\n",
        "dfs = {y: df.replace(na_rule.pattern, np.nan, regex=True) for y, df in dfs.items()}\n",
        "\n",
        "# unify date columns, date have different formats along all dataframes, so they have to be processed before concat\n",
        "date_format = {\n",
        "    '2008': '%d.%m.%y',\n",
        "    '2009': '%d.%m.%y',\n",
        "    '2011': '%d.%m.%y',\n",
        "    '2012': '%d.%m.%y',\n",
        "    '2013': '%Y-%m-%d',\n",
        "    '2014': '%Y-%m-%d', #'%Y-%m-%d %h:%m:$s'\n",
        "    '2015': '%Y-%m-%d'\n",
        "}\n",
        "dfs = {\n",
        "    y: df.assign(**{'data': lambda df: pd.to_datetime(df['data'], errors='coerce', format=date_format[y], exact=False)})\n",
        "    for y, df in dfs.items()\n",
        "}\n",
        "\n",
        "# merge dataframes\n",
        "df = pd.concat(dfs, ignore_index=True)\n",
        "df.sample(10)"
      ],
      "execution_count": 5,
      "outputs": [
        {
          "output_type": "execute_result",
          "data": {
            "text/html": [
              "<div>\n",
              "<style scoped>\n",
              "    .dataframe tbody tr th:only-of-type {\n",
              "        vertical-align: middle;\n",
              "    }\n",
              "\n",
              "    .dataframe tbody tr th {\n",
              "        vertical-align: top;\n",
              "    }\n",
              "\n",
              "    .dataframe thead th {\n",
              "        text-align: right;\n",
              "    }\n",
              "</style>\n",
              "<table border=\"1\" class=\"dataframe\">\n",
              "  <thead>\n",
              "    <tr style=\"text-align: right;\">\n",
              "      <th></th>\n",
              "      <th>data</th>\n",
              "      <th>quadrante</th>\n",
              "      <th>local</th>\n",
              "      <th>horário</th>\n",
              "      <th>tipo</th>\n",
              "      <th>partes</th>\n",
              "    </tr>\n",
              "  </thead>\n",
              "  <tbody>\n",
              "    <tr>\n",
              "      <th>2026</th>\n",
              "      <td>2015-08-04</td>\n",
              "      <td>NaN</td>\n",
              "      <td>NaN</td>\n",
              "      <td>18h30</td>\n",
              "      <td>Roubo ZLI</td>\n",
              "      <td>Estudante: Ana Paula dos Santos Raimundo.</td>\n",
              "    </tr>\n",
              "    <tr>\n",
              "      <th>1820</th>\n",
              "      <td>2015-03-23</td>\n",
              "      <td>NaN</td>\n",
              "      <td>NaN</td>\n",
              "      <td>11h40</td>\n",
              "      <td>Furto Privado</td>\n",
              "      <td>Srº: Rafael Rodrigues.</td>\n",
              "    </tr>\n",
              "    <tr>\n",
              "      <th>876</th>\n",
              "      <td>2013-01-26</td>\n",
              "      <td>Gama</td>\n",
              "      <td>CFCH</td>\n",
              "      <td>14h10</td>\n",
              "      <td>Prestação de socorro</td>\n",
              "      <td>Davi Filipe</td>\n",
              "    </tr>\n",
              "    <tr>\n",
              "      <th>66</th>\n",
              "      <td>2008-02-27</td>\n",
              "      <td>ZLI</td>\n",
              "      <td>Campus</td>\n",
              "      <td>NaN</td>\n",
              "      <td>Registro de ocorrência</td>\n",
              "      <td>NaN</td>\n",
              "    </tr>\n",
              "    <tr>\n",
              "      <th>1523</th>\n",
              "      <td>2014-06-10</td>\n",
              "      <td>Beta</td>\n",
              "      <td>Departamento de Física</td>\n",
              "      <td>17h00</td>\n",
              "      <td>Registro de ocorrência</td>\n",
              "      <td>NaN</td>\n",
              "    </tr>\n",
              "    <tr>\n",
              "      <th>1788</th>\n",
              "      <td>2015-03-03</td>\n",
              "      <td>Gama</td>\n",
              "      <td>Farmácia</td>\n",
              "      <td>13h30</td>\n",
              "      <td>Prestação de Socorro</td>\n",
              "      <td>Senhora: Cristiane dos Santos.</td>\n",
              "    </tr>\n",
              "    <tr>\n",
              "      <th>1958</th>\n",
              "      <td>2015-06-01</td>\n",
              "      <td>Alfa</td>\n",
              "      <td>Gradil da Reitoria</td>\n",
              "      <td>19h25</td>\n",
              "      <td>Registro de Ocorrência</td>\n",
              "      <td>Senhora: Cristiane Alves do Nascimento (Funcio...</td>\n",
              "    </tr>\n",
              "    <tr>\n",
              "      <th>126</th>\n",
              "      <td>2008-05-14</td>\n",
              "      <td>NaN</td>\n",
              "      <td>NaN</td>\n",
              "      <td>16h30</td>\n",
              "      <td>Tentativa de roubo</td>\n",
              "      <td>NaN</td>\n",
              "    </tr>\n",
              "    <tr>\n",
              "      <th>387</th>\n",
              "      <td>2011-01-29</td>\n",
              "      <td>Delta</td>\n",
              "      <td>Biotério</td>\n",
              "      <td>NaN</td>\n",
              "      <td>Arrombamento de Instalações</td>\n",
              "      <td>Larisse Cardoso</td>\n",
              "    </tr>\n",
              "    <tr>\n",
              "      <th>257</th>\n",
              "      <td>2009-02-17</td>\n",
              "      <td>Beta</td>\n",
              "      <td>Oceanografia</td>\n",
              "      <td>20h00</td>\n",
              "      <td>Registro de ocorrência</td>\n",
              "      <td>Srº Yuri da construtora Aragão.</td>\n",
              "    </tr>\n",
              "  </tbody>\n",
              "</table>\n",
              "</div>"
            ],
            "text/plain": [
              "           data quadrante                   local horário  \\\n",
              "2026 2015-08-04       NaN                     NaN   18h30   \n",
              "1820 2015-03-23       NaN                     NaN   11h40   \n",
              "876  2013-01-26      Gama                    CFCH   14h10   \n",
              "66   2008-02-27       ZLI                  Campus     NaN   \n",
              "1523 2014-06-10      Beta  Departamento de Física   17h00   \n",
              "1788 2015-03-03      Gama                Farmácia   13h30   \n",
              "1958 2015-06-01      Alfa      Gradil da Reitoria   19h25   \n",
              "126  2008-05-14       NaN                     NaN   16h30   \n",
              "387  2011-01-29     Delta               Biotério      NaN   \n",
              "257  2009-02-17      Beta            Oceanografia   20h00   \n",
              "\n",
              "                             tipo  \\\n",
              "2026                    Roubo ZLI   \n",
              "1820                Furto Privado   \n",
              "876          Prestação de socorro   \n",
              "66         Registro de ocorrência   \n",
              "1523       Registro de ocorrência   \n",
              "1788         Prestação de Socorro   \n",
              "1958       Registro de Ocorrência   \n",
              "126            Tentativa de roubo   \n",
              "387   Arrombamento de Instalações   \n",
              "257        Registro de ocorrência   \n",
              "\n",
              "                                                 partes  \n",
              "2026          Estudante: Ana Paula dos Santos Raimundo.  \n",
              "1820                             Srº: Rafael Rodrigues.  \n",
              "876                                         Davi Filipe  \n",
              "66                                                  NaN  \n",
              "1523                                                NaN  \n",
              "1788                     Senhora: Cristiane dos Santos.  \n",
              "1958  Senhora: Cristiane Alves do Nascimento (Funcio...  \n",
              "126                                                 NaN  \n",
              "387                                    Larisse Cardoso   \n",
              "257                     Srº Yuri da construtora Aragão.  "
            ]
          },
          "metadata": {
            "tags": []
          },
          "execution_count": 5
        }
      ]
    },
    {
      "metadata": {
        "id": "gHHoo7Wm2op1",
        "colab_type": "text"
      },
      "cell_type": "markdown",
      "source": [
        "### Process DataFrame columns"
      ]
    },
    {
      "metadata": {
        "id": "tM6vjechC6fm",
        "colab_type": "code",
        "outputId": "e0b9f2b9-66f0-474c-d30b-af0ec82fef69",
        "colab": {
          "base_uri": "https://localhost:8080/",
          "height": 683
        }
      },
      "cell_type": "code",
      "source": [
        "pdf = df.copy()\n",
        "\n",
        "pdf['horário'] = pd.to_datetime(df['horário'], errors='coerce', format='%Hh%M', exact=False)\n",
        "\n",
        "pdf['quadrante'] = df['quadrante']\\\n",
        "    .fillna('')\\\n",
        "    .apply(lambda e: str(e).strip().lower())\\\n",
        "    .apply(lambda e: 'None' if len(e) <= 1 else e)\\\n",
        "    .apply(lambda e: 'externa' if 'externa' in e else e)\\\n",
        "    .apply(lambda e: 'externa' if e.startswith('z') and e.endswith('e') else e)\\\n",
        "    .apply(lambda e: 'interna' if e.startswith('z') else e)\\\n",
        "    .apply(lambda e: e[:e.index('/')] if '/' in e else e)\n",
        "\n",
        "places_rules = [\n",
        "    ('CAC-CFCH', re.compile(r'(?ix) cfch | cac | (a|á)rtes | gere | sintuf')),\n",
        "    ('CE',       re.compile(r'(?ix) ((^|\\s) ce ($|\\s)) | col(é|e)gio | aplica | educaç | ((^|\\s)cap($|\\s))')),\n",
        "    ('CCSA',     re.compile(r'(?ix) ccsa | cssa | adu(e?)fpe | economia | lamsa | ((^|\\s)de(q|c)($|\\s)) | hotel | lac | turism | qu(í|i)mic')),\n",
        "    ('CTG',      re.compile(r'(?ix) ctg | oce(o|a)no | museu | fae | eng. | engenh')),\n",
        "    ('CCEN',     re.compile(r'(?ix) ccen | dep .* físi | matem')),\n",
        "    ('CCB',      re.compile(r'(?ix) ccb')),\n",
        "    ('CCS',      re.compile(r'(?ix) ccs | odonto | dermato | medic | fono | histono | f(á|a)rm(á|a)c | nutri | anato | faci | biot | buco | psico | svo | sa(ú|u)de | antib | nasc')),\n",
        "    ('CIN',      re.compile(r'(?ix) cin | inform')),\n",
        "    ('AREA2',    re.compile(r'(?ix) ((á|a)rea \\s? (2|ii)) | pcu | prefeit | den')),\n",
        "    ('RU',       re.compile(r'(?ix) ru | restaurante')),\n",
        "    ('NTI',      re.compile(r'(?ix) ((^|\\s) nti) | n(ú|u)cleo de tecn')),\n",
        "    ('NEDF',     re.compile(r'(?ix) nedf | nefd | dine | nai | fisio | terapi | (educ .* ica) | arqueo | n(ú|u)cleo | quadra')),\n",
        "    ('LANSA',    re.compile(r'(?ix) lansa')),\n",
        "    ('CECINE',   re.compile(r'(?ix) cecine')),\n",
        "    ('FARMACIA', re.compile(r'(?ix) f(á|a)rm(á|a)cia')),\n",
        "    ('CEU',      re.compile(r'(?ix) ((^|\\s) ceu ($|\\s|-)) | masc | femin')),\n",
        "    ('DGOS',     re.compile(r'(?ix) dgos')),\n",
        "    ('REITORIA', re.compile(r'(?ix) reitoria | proa | caixa | brasi | ((^|\\s)nae($|\\s|\\.)) | proacad')),\n",
        "    ('BR101',    re.compile(r'(?ix) (br .* 101?) | sudene | viadut | girad')),\n",
        "    ('HC',       re.compile(r'(?ix) hc | hospital | cl(í|i)nicas')),\n",
        "    ('ENTRADA',  re.compile(r'(?ix) entrada | sa(í|i)da | editora | (o|ô)nibus | guarita | ((^|\\s)cos($|\\s))')),\n",
        "    ('AVENIDA',  re.compile(r'(?ix) avenida | av\\. | ceco(n|m) | conven | central | arqui | reitore | teatr | ((^|\\s)bc($|\\s))')),\n",
        "    ('CONCHA',   re.compile(r'(?ix) concha')),\n",
        "    ('COOPER',   re.compile(r'(?ix) cooper')),\n",
        "    ('CAST_AGUA',re.compile(r'(?ix) castelo | agua')),\n",
        "    ('CASA-ESTD',re.compile(r'(?ix) casa | mist')),\n",
        "    ('CLUBE',    re.compile(r'(?ix) clube')),\n",
        "    ('LAGO',     re.compile(r'(?ix) lago | lagu | riach | cavouc')),\n",
        "    ('CAMPUS',   re.compile(r'(?ix) campus | ufpe')),\n",
        "    ('TVU',      re.compile(r'(?ix) tvu | ((^|\\s)tv($|\\s)) | tv \\s u | r(a|á)dio')),\n",
        "    ('none',     re.compile(r'(?ix) none')),\n",
        "    ('OUTROS',   re.compile(r'(?ix) .*')),\n",
        "]\n",
        "place_matcher = lambda e: [place for place, rule in places_rules if rule.search(e)][0]\n",
        "pdf['local'] = df['local']\\\n",
        "    .fillna('None')\\\n",
        "    .apply(lambda e: str(e).strip().lower())\\\n",
        "    .apply(place_matcher)\n",
        "\n",
        "type_rules = [\n",
        "    ('HOMICIDIO',re.compile(r'(?ix) homic(í|i)')),\n",
        "    ('SUICIDIO', re.compile(r'(?ix) suic(í|i)')),\n",
        "    ('ESTUPRO',  re.compile(r'(?ix) estupr | estrup')),\n",
        "    ('AGRESSÃO', re.compile(r'(?ix) agress')),\n",
        "    ('ROUBO',    re.compile(r'(?ix) assal | arrast |roub')),\n",
        "    ('FURTO',    re.compile(r'(?ix) furt')),\n",
        "    ('BRIGA',    re.compile(r'(?ix) brig')),\n",
        "    ('ARROMBAM.',re.compile(r'(?ix) arromb | inva(s|d)')),\n",
        "    ('APREENCAO',re.compile(r'(?ix) apreen | arma')),\n",
        "    ('DROGAS',   re.compile(r'(?ix) Drog | entorp')),\n",
        "    ('SUSPEITOS',re.compile(r'(?ix) suspeit | abordag')),\n",
        "    ('COLISÃO',  re.compile(r'(?ix) colis | aciden')),\n",
        "    ('SOCORRO',  re.compile(r'(?ix) presta | socorr')),\n",
        "    ('INCENDIO', re.compile(r'(?ix) inc(ê|e)nd')),\n",
        "    ('CARRO VUL',re.compile(r'(?ix) carr | veic')),\n",
        "    ('DANO_PATR',re.compile(r'(?ix) patrim | dano')),\n",
        "    ('ANIMAL',   re.compile(r'(?ix) anima')),\n",
        "    ('BO',       re.compile(r'(?ix) regist | ocorr | bolet')),\n",
        "    ('none',     re.compile(r'(?ix) none')),\n",
        "    ('OUTROS',   re.compile(r'(?ix) .*')),\n",
        "]\n",
        "type_matcher = lambda e: [type for type, rule in type_rules if rule.search(e)][0]\n",
        "\n",
        "pdf['tipo'] = df['tipo']\\\n",
        "    .fillna('None')\\\n",
        "    .apply(lambda e: str(e).strip().lower())\\\n",
        "    .apply(type_matcher)\n",
        "\n",
        "display(\n",
        "    pdf['local'].value_counts().head(8),\n",
        "    pdf['tipo'].value_counts().head(8),\n",
        ")\n",
        "\n",
        "pdf.sample(10)"
      ],
      "execution_count": 6,
      "outputs": [
        {
          "output_type": "display_data",
          "data": {
            "text/plain": [
              "none        239\n",
              "CCS         211\n",
              "CAC-CFCH    209\n",
              "NEDF        155\n",
              "CCSA        140\n",
              "CTG         111\n",
              "AVENIDA     111\n",
              "REITORIA    108\n",
              "Name: local, dtype: int64"
            ]
          },
          "metadata": {
            "tags": []
          }
        },
        {
          "output_type": "display_data",
          "data": {
            "text/plain": [
              "BO           751\n",
              "ROUBO        335\n",
              "SOCORRO      224\n",
              "FURTO        194\n",
              "COLISÃO      163\n",
              "ARROMBAM.    131\n",
              "CARRO VUL     92\n",
              "APREENCAO     54\n",
              "Name: tipo, dtype: int64"
            ]
          },
          "metadata": {
            "tags": []
          }
        },
        {
          "output_type": "execute_result",
          "data": {
            "text/html": [
              "<div>\n",
              "<style scoped>\n",
              "    .dataframe tbody tr th:only-of-type {\n",
              "        vertical-align: middle;\n",
              "    }\n",
              "\n",
              "    .dataframe tbody tr th {\n",
              "        vertical-align: top;\n",
              "    }\n",
              "\n",
              "    .dataframe thead th {\n",
              "        text-align: right;\n",
              "    }\n",
              "</style>\n",
              "<table border=\"1\" class=\"dataframe\">\n",
              "  <thead>\n",
              "    <tr style=\"text-align: right;\">\n",
              "      <th></th>\n",
              "      <th>data</th>\n",
              "      <th>quadrante</th>\n",
              "      <th>local</th>\n",
              "      <th>horário</th>\n",
              "      <th>tipo</th>\n",
              "      <th>partes</th>\n",
              "    </tr>\n",
              "  </thead>\n",
              "  <tbody>\n",
              "    <tr>\n",
              "      <th>832</th>\n",
              "      <td>2013-01-06</td>\n",
              "      <td>delta</td>\n",
              "      <td>COOPER</td>\n",
              "      <td>1900-01-01 08:20:00</td>\n",
              "      <td>ARROMBAM.</td>\n",
              "      <td>Elias Pereira (informante)</td>\n",
              "    </tr>\n",
              "    <tr>\n",
              "      <th>1355</th>\n",
              "      <td>2014-02-11</td>\n",
              "      <td>delta</td>\n",
              "      <td>CCS</td>\n",
              "      <td>1900-01-01 13:15:00</td>\n",
              "      <td>BO</td>\n",
              "      <td>Aluna Iane Silveira Melo e Orientador Gilberto...</td>\n",
              "    </tr>\n",
              "    <tr>\n",
              "      <th>586</th>\n",
              "      <td>2012-01-18</td>\n",
              "      <td>delta</td>\n",
              "      <td>HC</td>\n",
              "      <td>NaT</td>\n",
              "      <td>SOCORRO</td>\n",
              "      <td>Hugo paciente</td>\n",
              "    </tr>\n",
              "    <tr>\n",
              "      <th>1606</th>\n",
              "      <td>2014-08-17</td>\n",
              "      <td>beta</td>\n",
              "      <td>CIN</td>\n",
              "      <td>1900-01-01 21:30:00</td>\n",
              "      <td>INCENDIO</td>\n",
              "      <td>Aluno: Diogo Medeiro de Almeida / Gerente de i...</td>\n",
              "    </tr>\n",
              "    <tr>\n",
              "      <th>855</th>\n",
              "      <td>2013-01-19</td>\n",
              "      <td>None</td>\n",
              "      <td>none</td>\n",
              "      <td>1900-01-01 19:15:00</td>\n",
              "      <td>SOCORRO</td>\n",
              "      <td>Rubens Augusto da Silva</td>\n",
              "    </tr>\n",
              "    <tr>\n",
              "      <th>1247</th>\n",
              "      <td>2013-10-21</td>\n",
              "      <td>alfa</td>\n",
              "      <td>CLUBE</td>\n",
              "      <td>1900-01-01 18:10:00</td>\n",
              "      <td>BO</td>\n",
              "      <td>Jose Roberto(segurança UFPE)</td>\n",
              "    </tr>\n",
              "    <tr>\n",
              "      <th>899</th>\n",
              "      <td>2013-02-07</td>\n",
              "      <td>gama</td>\n",
              "      <td>CE</td>\n",
              "      <td>NaT</td>\n",
              "      <td>BO</td>\n",
              "      <td>NaN</td>\n",
              "    </tr>\n",
              "    <tr>\n",
              "      <th>1143</th>\n",
              "      <td>2013-07-08</td>\n",
              "      <td>delta</td>\n",
              "      <td>HC</td>\n",
              "      <td>1900-01-01 11:25:00</td>\n",
              "      <td>BO</td>\n",
              "      <td>NaN</td>\n",
              "    </tr>\n",
              "    <tr>\n",
              "      <th>1517</th>\n",
              "      <td>2014-06-08</td>\n",
              "      <td>alfa</td>\n",
              "      <td>NEDF</td>\n",
              "      <td>1900-01-01 11:48:00</td>\n",
              "      <td>SUSPEITOS</td>\n",
              "      <td>NaN</td>\n",
              "    </tr>\n",
              "    <tr>\n",
              "      <th>1715</th>\n",
              "      <td>2015-01-17</td>\n",
              "      <td>gama</td>\n",
              "      <td>CE</td>\n",
              "      <td>1900-01-01 00:20:00</td>\n",
              "      <td>ARROMBAM.</td>\n",
              "      <td>Informante: vigilante da TKS lotado no CFCH.</td>\n",
              "    </tr>\n",
              "  </tbody>\n",
              "</table>\n",
              "</div>"
            ],
            "text/plain": [
              "           data quadrante   local             horário       tipo  \\\n",
              "832  2013-01-06     delta  COOPER 1900-01-01 08:20:00  ARROMBAM.   \n",
              "1355 2014-02-11     delta     CCS 1900-01-01 13:15:00         BO   \n",
              "586  2012-01-18     delta      HC                 NaT    SOCORRO   \n",
              "1606 2014-08-17      beta     CIN 1900-01-01 21:30:00   INCENDIO   \n",
              "855  2013-01-19      None    none 1900-01-01 19:15:00    SOCORRO   \n",
              "1247 2013-10-21      alfa   CLUBE 1900-01-01 18:10:00         BO   \n",
              "899  2013-02-07      gama      CE                 NaT         BO   \n",
              "1143 2013-07-08     delta      HC 1900-01-01 11:25:00         BO   \n",
              "1517 2014-06-08      alfa    NEDF 1900-01-01 11:48:00  SUSPEITOS   \n",
              "1715 2015-01-17      gama      CE 1900-01-01 00:20:00  ARROMBAM.   \n",
              "\n",
              "                                                 partes  \n",
              "832                          Elias Pereira (informante)  \n",
              "1355  Aluna Iane Silveira Melo e Orientador Gilberto...  \n",
              "586                                       Hugo paciente  \n",
              "1606  Aluno: Diogo Medeiro de Almeida / Gerente de i...  \n",
              "855                             Rubens Augusto da Silva  \n",
              "1247                       Jose Roberto(segurança UFPE)  \n",
              "899                                                 NaN  \n",
              "1143                                                NaN  \n",
              "1517                                                NaN  \n",
              "1715       Informante: vigilante da TKS lotado no CFCH.  "
            ]
          },
          "metadata": {
            "tags": []
          },
          "execution_count": 6
        }
      ]
    },
    {
      "metadata": {
        "id": "XKyzyc764JC2",
        "colab_type": "text"
      },
      "cell_type": "markdown",
      "source": [
        "### Create a POS-Tagger\n",
        "\n",
        "FOR TEST PURPOSES, I DONT KNOW IF IT WILL WORK!\n",
        "This tagger will be used to get personal names from 'partes' column."
      ]
    },
    {
      "metadata": {
        "id": "veLwxQdh4IMM",
        "colab_type": "code",
        "outputId": "f5177438-deae-4236-ef69-5ca59ace130c",
        "colab": {
          "base_uri": "https://localhost:8080/",
          "height": 71
        }
      },
      "cell_type": "code",
      "source": [
        "from nltk.corpus import mac_morpho\n",
        "\n",
        "tsents = mac_morpho.tagged_sents()\n",
        "simplify_tag = lambda t: t[t.index(\"+\")+1:] if '+' in t else t\n",
        "tsents = [[(w.lower(), simplify_tag(t)) for (w,t) in sent] for sent in tsents if sent]\n",
        "\n",
        "train = tsents[:int(len(tsents) * (2 / 3))]\n",
        "test = tsents[int(len(tsents) * (2 / 3)) + 1:]\n",
        "\n",
        "default_tagger = nltk.DefaultTagger('n') # noums have higher frequency\n",
        "print('default tagger accuracy:', default_tagger.evaluate(test))\n",
        "\n",
        "unigram_tagger = nltk.UnigramTagger(train, backoff=default_tagger)\n",
        "print('unigram tagger accuracy:', unigram_tagger.evaluate(test))\n",
        "\n",
        "bigram_tagger = nltk.BigramTagger(train, backoff=unigram_tagger)\n",
        "print('bigram tagger accuracy:', bigram_tagger.evaluate(test))"
      ],
      "execution_count": 7,
      "outputs": [
        {
          "output_type": "stream",
          "text": [
            "default tagger accuracy: 0.0\n",
            "unigram tagger accuracy: 0.7690193016457291\n",
            "bigram tagger accuracy: 0.7848793705237425\n"
          ],
          "name": "stdout"
        }
      ]
    },
    {
      "metadata": {
        "id": "-6VI1JDao2VM",
        "colab_type": "code",
        "outputId": "ac989ea3-ddbe-405e-fa41-6aa335822987",
        "colab": {
          "base_uri": "https://localhost:8080/",
          "height": 161
        }
      },
      "cell_type": "code",
      "source": [
        "bigram_tagger.tag(nltk.word_tokenize('Proprietária do Kia: Adriana Maria de Abreu'))"
      ],
      "execution_count": 8,
      "outputs": [
        {
          "output_type": "execute_result",
          "data": {
            "text/plain": [
              "[('Proprietária', 'n'),\n",
              " ('do', 'NPROP'),\n",
              " ('Kia', 'n'),\n",
              " (':', ':'),\n",
              " ('Adriana', 'n'),\n",
              " ('Maria', 'n'),\n",
              " ('de', 'PREP'),\n",
              " ('Abreu', 'n')]"
            ]
          },
          "metadata": {
            "tags": []
          },
          "execution_count": 8
        }
      ]
    },
    {
      "metadata": {
        "id": "cyCg0C6cI_FQ",
        "colab_type": "code",
        "colab": {
          "base_uri": "https://localhost:8080/",
          "height": 341
        },
        "outputId": "0854ed3d-60d9-4487-df4c-af4ebe5718c5"
      },
      "cell_type": "code",
      "source": [
        "pdf['tipo'][pdf['quadrante'] == 'alfa'].value_counts()"
      ],
      "execution_count": 18,
      "outputs": [
        {
          "output_type": "execute_result",
          "data": {
            "text/plain": [
              "BO           186\n",
              "ROUBO         82\n",
              "SOCORRO       45\n",
              "COLISÃO       41\n",
              "ARROMBAM.     38\n",
              "FURTO         37\n",
              "APREENCAO     16\n",
              "SUSPEITOS     11\n",
              "DANO_PATR     11\n",
              "CARRO VUL     10\n",
              "INCENDIO       8\n",
              "AGRESSÃO       6\n",
              "DROGAS         4\n",
              "ANIMAL         2\n",
              "OUTROS         2\n",
              "BRIGA          2\n",
              "HOMICIDIO      1\n",
              "Name: tipo, dtype: int64"
            ]
          },
          "metadata": {
            "tags": []
          },
          "execution_count": 18
        }
      ]
    },
    {
      "metadata": {
        "id": "0xuB-pQLQyVs",
        "colab_type": "text"
      },
      "cell_type": "markdown",
      "source": [
        "### Testas a serem usados\n",
        "\n",
        "* Teste de confiaça para as médias de ROUBOS por quadrante por ano\n",
        "* Teste de Freeman\n",
        "* Teste de Nemenyi\n",
        "* Series tempoorais (talvez?)"
      ]
    }
  ]
}