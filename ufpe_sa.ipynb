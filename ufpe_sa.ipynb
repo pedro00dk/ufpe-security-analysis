{
  "nbformat": 4,
  "nbformat_minor": 0,
  "metadata": {
    "colab": {
      "name": "ufpe_sa.ipynb",
      "version": "0.3.2",
      "provenance": [],
      "include_colab_link": true
    },
    "kernelspec": {
      "name": "python3",
      "display_name": "Python 3"
    }
  },
  "cells": [
    {
      "cell_type": "markdown",
      "metadata": {
        "id": "view-in-github",
        "colab_type": "text"
      },
      "source": [
        "<a href=\"https://colab.research.google.com/github/pedro00dk/ufpe-security-analysis/blob/master/ufpe_sa.ipynb\" target=\"_parent\"><img src=\"https://colab.research.google.com/assets/colab-badge.svg\" alt=\"Open In Colab\"/></a>"
      ]
    },
    {
      "metadata": {
        "id": "RtdnypTW1Tqx",
        "colab_type": "text"
      },
      "cell_type": "markdown",
      "source": [
        "# UFPE Security Analysis"
      ]
    },
    {
      "metadata": {
        "id": "AYOC4owg9R48",
        "colab_type": "text"
      },
      "cell_type": "markdown",
      "source": [
        "Fetching github repo to get database file."
      ]
    },
    {
      "metadata": {
        "id": "kQmQq91f0yXH",
        "colab_type": "code",
        "outputId": "660811c2-a7fa-43d9-a722-cf484cbbb864",
        "colab": {
          "base_uri": "https://localhost:8080/",
          "height": 143
        }
      },
      "cell_type": "code",
      "source": [
        "!rm --recursive --force -- ./ufpe-security-analysis/\n",
        "!git clone -- https://github.com/pedro00dk/ufpe-security-analysis\n",
        "!ls -- ./ufpe-security-analysis/"
      ],
      "execution_count": 1,
      "outputs": [
        {
          "output_type": "stream",
          "text": [
            "Cloning into 'ufpe-security-analysis'...\n",
            "remote: Enumerating objects: 36, done.\u001b[K\n",
            "remote: Counting objects:   2% (1/36)   \u001b[K\rremote: Counting objects:   5% (2/36)   \u001b[K\rremote: Counting objects:   8% (3/36)   \u001b[K\rremote: Counting objects:  11% (4/36)   \u001b[K\rremote: Counting objects:  13% (5/36)   \u001b[K\rremote: Counting objects:  16% (6/36)   \u001b[K\rremote: Counting objects:  19% (7/36)   \u001b[K\rremote: Counting objects:  22% (8/36)   \u001b[K\rremote: Counting objects:  25% (9/36)   \u001b[K\rremote: Counting objects:  27% (10/36)   \u001b[K\rremote: Counting objects:  30% (11/36)   \u001b[K\rremote: Counting objects:  33% (12/36)   \u001b[K\rremote: Counting objects:  36% (13/36)   \u001b[K\rremote: Counting objects:  38% (14/36)   \u001b[K\rremote: Counting objects:  41% (15/36)   \u001b[K\rremote: Counting objects:  44% (16/36)   \u001b[K\rremote: Counting objects:  47% (17/36)   \u001b[K\rremote: Counting objects:  50% (18/36)   \u001b[K\rremote: Counting objects:  52% (19/36)   \u001b[K\rremote: Counting objects:  55% (20/36)   \u001b[K\rremote: Counting objects:  58% (21/36)   \u001b[K\rremote: Counting objects:  61% (22/36)   \u001b[K\rremote: Counting objects:  63% (23/36)   \u001b[K\rremote: Counting objects:  66% (24/36)   \u001b[K\rremote: Counting objects:  69% (25/36)   \u001b[K\rremote: Counting objects:  72% (26/36)   \u001b[K\rremote: Counting objects:  75% (27/36)   \u001b[K\rremote: Counting objects:  77% (28/36)   \u001b[K\rremote: Counting objects:  80% (29/36)   \u001b[K\rremote: Counting objects:  83% (30/36)   \u001b[K\rremote: Counting objects:  86% (31/36)   \u001b[K\rremote: Counting objects:  88% (32/36)   \u001b[K\rremote: Counting objects:  91% (33/36)   \u001b[K\rremote: Counting objects:  94% (34/36)   \u001b[K\rremote: Counting objects:  97% (35/36)   \u001b[K\rremote: Counting objects: 100% (36/36)   \u001b[K\rremote: Counting objects: 100% (36/36), done.\u001b[K\n",
            "remote: Compressing objects: 100% (34/34), done.\u001b[K\n",
            "remote: Total 36 (delta 16), reused 0 (delta 0), pack-reused 0\u001b[K\n",
            "Unpacking objects: 100% (36/36), done.\n",
            " README.md   ufpe_sa.ipynb  'UFPE SSI.xlsx'\n"
          ],
          "name": "stdout"
        }
      ]
    },
    {
      "metadata": {
        "id": "zCiUq6Z79c10",
        "colab_type": "text"
      },
      "cell_type": "markdown",
      "source": [
        "#### Packages and imports\n",
        "\n",
        "Install necessary packages for loading excel"
      ]
    },
    {
      "metadata": {
        "id": "Y_qiSckS59cO",
        "colab_type": "code",
        "outputId": "f5e9ce85-4bd0-4aa0-bd1c-4ccd3806f8c8",
        "colab": {
          "base_uri": "https://localhost:8080/",
          "height": 35
        }
      },
      "cell_type": "code",
      "source": [
        "!pip install xlrd"
      ],
      "execution_count": 2,
      "outputs": [
        {
          "output_type": "stream",
          "text": [
            "Requirement already satisfied: xlrd in /usr/local/lib/python3.6/dist-packages (1.1.0)\n"
          ],
          "name": "stdout"
        }
      ]
    },
    {
      "metadata": {
        "id": "XXndZFmh4fBi",
        "colab_type": "code",
        "colab": {}
      },
      "cell_type": "code",
      "source": [
        "import numpy as np\n",
        "import pandas as pd\n",
        "import re"
      ],
      "execution_count": 0,
      "outputs": []
    },
    {
      "metadata": {
        "id": "JiZ8q-Wb9nrf",
        "colab_type": "text"
      },
      "cell_type": "markdown",
      "source": [
        "### Dataframe Columns and Data\n",
        "\n",
        "The database consists of an excel file with sheets per year of information. All of these sheets have to be loaded and merged. I printed only two lines of the dataframes to check the data formats and column names for concatenation."
      ]
    },
    {
      "metadata": {
        "id": "wqMQeUtB4_9P",
        "colab_type": "code",
        "outputId": "70711322-6f3a-4926-c989-a8b33590b163",
        "colab": {
          "base_uri": "https://localhost:8080/",
          "height": 1001
        }
      },
      "cell_type": "code",
      "source": [
        "xls = pd.ExcelFile('./ufpe-security-analysis/UFPE SSI.xlsx')\n",
        "dfs = xls.parse(sheet_name=xls.sheet_names)\n",
        "\n",
        "[display(y, df.sample(2)) for y, df in dfs.items()]"
      ],
      "execution_count": 4,
      "outputs": [
        {
          "output_type": "display_data",
          "data": {
            "text/plain": [
              "'2008'"
            ]
          },
          "metadata": {
            "tags": []
          }
        },
        {
          "output_type": "display_data",
          "data": {
            "text/html": [
              "<div>\n",
              "<style scoped>\n",
              "    .dataframe tbody tr th:only-of-type {\n",
              "        vertical-align: middle;\n",
              "    }\n",
              "\n",
              "    .dataframe tbody tr th {\n",
              "        vertical-align: top;\n",
              "    }\n",
              "\n",
              "    .dataframe thead th {\n",
              "        text-align: right;\n",
              "    }\n",
              "</style>\n",
              "<table border=\"1\" class=\"dataframe\">\n",
              "  <thead>\n",
              "    <tr style=\"text-align: right;\">\n",
              "      <th></th>\n",
              "      <th>Data</th>\n",
              "      <th>Quadrante</th>\n",
              "      <th>Local</th>\n",
              "      <th>Horário</th>\n",
              "      <th>Tipo</th>\n",
              "      <th>Descrição Sumária</th>\n",
              "      <th>Partes</th>\n",
              "      <th>Medidas</th>\n",
              "    </tr>\n",
              "  </thead>\n",
              "  <tbody>\n",
              "    <tr>\n",
              "      <th>39</th>\n",
              "      <td>09.02.08</td>\n",
              "      <td>Beta</td>\n",
              "      <td>FAE</td>\n",
              "      <td>08h00</td>\n",
              "      <td>Registro de ocorrência</td>\n",
              "      <td>Ocorrência  452 - dois elementos dentro da áre...</td>\n",
              "      <td>Ñinf</td>\n",
              "      <td>Foram convidados a deixar o local.</td>\n",
              "    </tr>\n",
              "    <tr>\n",
              "      <th>26</th>\n",
              "      <td>24.01.08</td>\n",
              "      <td>Gama</td>\n",
              "      <td>CECINE</td>\n",
              "      <td>11h00</td>\n",
              "      <td>Registro de ocorrência</td>\n",
              "      <td>Ocorrência  420 - homem que apresentava proble...</td>\n",
              "      <td>Ñinf</td>\n",
              "      <td>Foi conduzido para fora do Campus.</td>\n",
              "    </tr>\n",
              "  </tbody>\n",
              "</table>\n",
              "</div>"
            ],
            "text/plain": [
              "        Data Quadrante   Local Horário                    Tipo  \\\n",
              "39  09.02.08      Beta     FAE   08h00  Registro de ocorrência   \n",
              "26  24.01.08      Gama  CECINE   11h00  Registro de ocorrência   \n",
              "\n",
              "                                    Descrição Sumária Partes  \\\n",
              "39  Ocorrência  452 - dois elementos dentro da áre...   Ñinf   \n",
              "26  Ocorrência  420 - homem que apresentava proble...   Ñinf   \n",
              "\n",
              "                               Medidas  \n",
              "39  Foram convidados a deixar o local.  \n",
              "26  Foi conduzido para fora do Campus.  "
            ]
          },
          "metadata": {
            "tags": []
          }
        },
        {
          "output_type": "display_data",
          "data": {
            "text/plain": [
              "'2009'"
            ]
          },
          "metadata": {
            "tags": []
          }
        },
        {
          "output_type": "display_data",
          "data": {
            "text/html": [
              "<div>\n",
              "<style scoped>\n",
              "    .dataframe tbody tr th:only-of-type {\n",
              "        vertical-align: middle;\n",
              "    }\n",
              "\n",
              "    .dataframe tbody tr th {\n",
              "        vertical-align: top;\n",
              "    }\n",
              "\n",
              "    .dataframe thead th {\n",
              "        text-align: right;\n",
              "    }\n",
              "</style>\n",
              "<table border=\"1\" class=\"dataframe\">\n",
              "  <thead>\n",
              "    <tr style=\"text-align: right;\">\n",
              "      <th></th>\n",
              "      <th>Data</th>\n",
              "      <th>Quadrante</th>\n",
              "      <th>Local</th>\n",
              "      <th>Horário</th>\n",
              "      <th>Tipo</th>\n",
              "      <th>Descrição Sumária</th>\n",
              "      <th>Partes</th>\n",
              "      <th>Medidas</th>\n",
              "    </tr>\n",
              "  </thead>\n",
              "  <tbody>\n",
              "    <tr>\n",
              "      <th>12</th>\n",
              "      <td>20.01.09</td>\n",
              "      <td>NaN</td>\n",
              "      <td>Ñ inf</td>\n",
              "      <td>Ñ inf</td>\n",
              "      <td>Animal solto</td>\n",
              "      <td>Ocorrência 1118 - Animal de grande porte preju...</td>\n",
              "      <td>Ñ inf</td>\n",
              "      <td>Ñ inf</td>\n",
              "    </tr>\n",
              "    <tr>\n",
              "      <th>85</th>\n",
              "      <td>19.03.09</td>\n",
              "      <td>Gama</td>\n",
              "      <td>CCSA</td>\n",
              "      <td>08h30</td>\n",
              "      <td>Registro de ocorrência</td>\n",
              "      <td>Ocorrência 2031 - O dono de um veículo corola,...</td>\n",
              "      <td>Ñ inf</td>\n",
              "      <td>Ñ inf</td>\n",
              "    </tr>\n",
              "  </tbody>\n",
              "</table>\n",
              "</div>"
            ],
            "text/plain": [
              "        Data Quadrante  Local Horário                    Tipo  \\\n",
              "12  20.01.09       NaN  Ñ inf   Ñ inf            Animal solto   \n",
              "85  19.03.09      Gama   CCSA   08h30  Registro de ocorrência   \n",
              "\n",
              "                                    Descrição Sumária Partes Medidas  \n",
              "12  Ocorrência 1118 - Animal de grande porte preju...  Ñ inf   Ñ inf  \n",
              "85  Ocorrência 2031 - O dono de um veículo corola,...  Ñ inf   Ñ inf  "
            ]
          },
          "metadata": {
            "tags": []
          }
        },
        {
          "output_type": "display_data",
          "data": {
            "text/plain": [
              "'2011'"
            ]
          },
          "metadata": {
            "tags": []
          }
        },
        {
          "output_type": "display_data",
          "data": {
            "text/html": [
              "<div>\n",
              "<style scoped>\n",
              "    .dataframe tbody tr th:only-of-type {\n",
              "        vertical-align: middle;\n",
              "    }\n",
              "\n",
              "    .dataframe tbody tr th {\n",
              "        vertical-align: top;\n",
              "    }\n",
              "\n",
              "    .dataframe thead th {\n",
              "        text-align: right;\n",
              "    }\n",
              "</style>\n",
              "<table border=\"1\" class=\"dataframe\">\n",
              "  <thead>\n",
              "    <tr style=\"text-align: right;\">\n",
              "      <th></th>\n",
              "      <th>Data</th>\n",
              "      <th>Quadrante</th>\n",
              "      <th>Local</th>\n",
              "      <th>horário</th>\n",
              "      <th>Tipo</th>\n",
              "      <th>Descrição Sumária</th>\n",
              "      <th>Partes</th>\n",
              "      <th>Medidas</th>\n",
              "    </tr>\n",
              "  </thead>\n",
              "  <tbody>\n",
              "    <tr>\n",
              "      <th>5</th>\n",
              "      <td>25.01.11</td>\n",
              "      <td>Alfa</td>\n",
              "      <td>NEFD</td>\n",
              "      <td>NaN</td>\n",
              "      <td>Apreensão de Drogas</td>\n",
              "      <td>Ocorrência 2955- no campo de futebol três elem...</td>\n",
              "      <td>NaN</td>\n",
              "      <td>NaN</td>\n",
              "    </tr>\n",
              "    <tr>\n",
              "      <th>190</th>\n",
              "      <td>29.11.11</td>\n",
              "      <td>Delta</td>\n",
              "      <td>Odontologia</td>\n",
              "      <td>NaN</td>\n",
              "      <td>Roubo (ZLI)</td>\n",
              "      <td>Ocorrência 3560- uma alunda foi assaltada ao a...</td>\n",
              "      <td>Maria Angela Farias</td>\n",
              "      <td>NaN</td>\n",
              "    </tr>\n",
              "  </tbody>\n",
              "</table>\n",
              "</div>"
            ],
            "text/plain": [
              "         Data Quadrante        Local horário                Tipo   \\\n",
              "5    25.01.11      Alfa         NEFD     NaN  Apreensão de Drogas   \n",
              "190  29.11.11     Delta  Odontologia     NaN          Roubo (ZLI)   \n",
              "\n",
              "                                     Descrição Sumária                Partes  \\\n",
              "5    Ocorrência 2955- no campo de futebol três elem...                   NaN   \n",
              "190  Ocorrência 3560- uma alunda foi assaltada ao a...  Maria Angela Farias    \n",
              "\n",
              "    Medidas  \n",
              "5       NaN  \n",
              "190     NaN  "
            ]
          },
          "metadata": {
            "tags": []
          }
        },
        {
          "output_type": "display_data",
          "data": {
            "text/plain": [
              "'2012'"
            ]
          },
          "metadata": {
            "tags": []
          }
        },
        {
          "output_type": "display_data",
          "data": {
            "text/html": [
              "<div>\n",
              "<style scoped>\n",
              "    .dataframe tbody tr th:only-of-type {\n",
              "        vertical-align: middle;\n",
              "    }\n",
              "\n",
              "    .dataframe tbody tr th {\n",
              "        vertical-align: top;\n",
              "    }\n",
              "\n",
              "    .dataframe thead th {\n",
              "        text-align: right;\n",
              "    }\n",
              "</style>\n",
              "<table border=\"1\" class=\"dataframe\">\n",
              "  <thead>\n",
              "    <tr style=\"text-align: right;\">\n",
              "      <th></th>\n",
              "      <th>Data</th>\n",
              "      <th>Quadrante</th>\n",
              "      <th>Local</th>\n",
              "      <th>horário</th>\n",
              "      <th>Tipo</th>\n",
              "      <th>Descrição Sumária</th>\n",
              "      <th>Partes</th>\n",
              "      <th>Medidas</th>\n",
              "    </tr>\n",
              "  </thead>\n",
              "  <tbody>\n",
              "    <tr>\n",
              "      <th>173</th>\n",
              "      <td>18.09.12</td>\n",
              "      <td>Gama</td>\n",
              "      <td>Pox.Colégio de Aplicação</td>\n",
              "      <td>19h10</td>\n",
              "      <td>Prestação de socorro</td>\n",
              "      <td>Ocorrência   4142 - um aluno de Economia passa...</td>\n",
              "      <td>Pedro Henrique  S.</td>\n",
              "      <td>Foi conduzido  até a UPA da Caxangá</td>\n",
              "    </tr>\n",
              "    <tr>\n",
              "      <th>178</th>\n",
              "      <td>20.09.12</td>\n",
              "      <td>Beta</td>\n",
              "      <td>Estacionamento CCEN</td>\n",
              "      <td>19h30</td>\n",
              "      <td>Registro de Ocorrência</td>\n",
              "      <td>Ocorrência    41     - uma professora assustou...</td>\n",
              "      <td>Ñinf</td>\n",
              "      <td>Ñinf</td>\n",
              "    </tr>\n",
              "  </tbody>\n",
              "</table>\n",
              "</div>"
            ],
            "text/plain": [
              "         Data Quadrante                     Local horário  \\\n",
              "173  18.09.12      Gama  Pox.Colégio de Aplicação   19h10   \n",
              "178  20.09.12      Beta       Estacionamento CCEN   19h30   \n",
              "\n",
              "                      Tipo   \\\n",
              "173   Prestação de socorro    \n",
              "178  Registro de Ocorrência   \n",
              "\n",
              "                                     Descrição Sumária              Partes  \\\n",
              "173  Ocorrência   4142 - um aluno de Economia passa...  Pedro Henrique  S.   \n",
              "178  Ocorrência    41     - uma professora assustou...                Ñinf   \n",
              "\n",
              "                                 Medidas  \n",
              "173  Foi conduzido  até a UPA da Caxangá  \n",
              "178                                 Ñinf  "
            ]
          },
          "metadata": {
            "tags": []
          }
        },
        {
          "output_type": "display_data",
          "data": {
            "text/plain": [
              "'2013'"
            ]
          },
          "metadata": {
            "tags": []
          }
        },
        {
          "output_type": "display_data",
          "data": {
            "text/html": [
              "<div>\n",
              "<style scoped>\n",
              "    .dataframe tbody tr th:only-of-type {\n",
              "        vertical-align: middle;\n",
              "    }\n",
              "\n",
              "    .dataframe tbody tr th {\n",
              "        vertical-align: top;\n",
              "    }\n",
              "\n",
              "    .dataframe thead th {\n",
              "        text-align: right;\n",
              "    }\n",
              "</style>\n",
              "<table border=\"1\" class=\"dataframe\">\n",
              "  <thead>\n",
              "    <tr style=\"text-align: right;\">\n",
              "      <th></th>\n",
              "      <th>Data</th>\n",
              "      <th>Quadrante</th>\n",
              "      <th>Local</th>\n",
              "      <th>horário</th>\n",
              "      <th>Tipo</th>\n",
              "      <th>Descrição Sumária</th>\n",
              "      <th>Partes</th>\n",
              "      <th>Medidas</th>\n",
              "    </tr>\n",
              "  </thead>\n",
              "  <tbody>\n",
              "    <tr>\n",
              "      <th>355</th>\n",
              "      <td>2013-08-08</td>\n",
              "      <td>Ñinf</td>\n",
              "      <td>Av. da Arquitetura</td>\n",
              "      <td>08h25</td>\n",
              "      <td>Colisão</td>\n",
              "      <td>Ocorrência 5091-segundo registro houve uma col...</td>\n",
              "      <td>NaN</td>\n",
              "      <td>NaN</td>\n",
              "    </tr>\n",
              "    <tr>\n",
              "      <th>416</th>\n",
              "      <td>2013-10-19</td>\n",
              "      <td>ZLE</td>\n",
              "      <td>Parada CMR</td>\n",
              "      <td>20h30</td>\n",
              "      <td>Roubo ZLE</td>\n",
              "      <td>Ocorrência 7036-segundo registro três estudant...</td>\n",
              "      <td>Heitor(vítima)/Laísa  Nadja, Raisa algusta,Mar...</td>\n",
              "      <td>A viatura da PM, a vítima, o menor infrator e ...</td>\n",
              "    </tr>\n",
              "  </tbody>\n",
              "</table>\n",
              "</div>"
            ],
            "text/plain": [
              "          Data Quadrante               Local horário      Tipo   \\\n",
              "355 2013-08-08      Ñinf  Av. da Arquitetura   08h25    Colisão   \n",
              "416 2013-10-19       ZLE          Parada CMR   20h30  Roubo ZLE   \n",
              "\n",
              "                                     Descrição Sumária  \\\n",
              "355  Ocorrência 5091-segundo registro houve uma col...   \n",
              "416  Ocorrência 7036-segundo registro três estudant...   \n",
              "\n",
              "                                                Partes  \\\n",
              "355                                                NaN   \n",
              "416  Heitor(vítima)/Laísa  Nadja, Raisa algusta,Mar...   \n",
              "\n",
              "                                               Medidas  \n",
              "355                                                NaN  \n",
              "416  A viatura da PM, a vítima, o menor infrator e ...  "
            ]
          },
          "metadata": {
            "tags": []
          }
        },
        {
          "output_type": "display_data",
          "data": {
            "text/plain": [
              "'2014'"
            ]
          },
          "metadata": {
            "tags": []
          }
        },
        {
          "output_type": "display_data",
          "data": {
            "text/html": [
              "<div>\n",
              "<style scoped>\n",
              "    .dataframe tbody tr th:only-of-type {\n",
              "        vertical-align: middle;\n",
              "    }\n",
              "\n",
              "    .dataframe tbody tr th {\n",
              "        vertical-align: top;\n",
              "    }\n",
              "\n",
              "    .dataframe thead th {\n",
              "        text-align: right;\n",
              "    }\n",
              "</style>\n",
              "<table border=\"1\" class=\"dataframe\">\n",
              "  <thead>\n",
              "    <tr style=\"text-align: right;\">\n",
              "      <th></th>\n",
              "      <th>Data</th>\n",
              "      <th>Quadrante</th>\n",
              "      <th>Local</th>\n",
              "      <th>horário</th>\n",
              "      <th>Tipo</th>\n",
              "      <th>Descrição Sumária</th>\n",
              "      <th>Partes</th>\n",
              "      <th>Medidas</th>\n",
              "    </tr>\n",
              "  </thead>\n",
              "  <tbody>\n",
              "    <tr>\n",
              "      <th>237</th>\n",
              "      <td>2014-06-27 00:00:00</td>\n",
              "      <td>Ñ inf</td>\n",
              "      <td>Alojamento Multidisciplinar</td>\n",
              "      <td>23h00</td>\n",
              "      <td>Furto privado</td>\n",
              "      <td>Ocorrência 7633 - segundo registro a enfermeir...</td>\n",
              "      <td>Vítima: Adélia Karla Falcão Soares (Enfermeira).</td>\n",
              "      <td>Foi solicitado acesso a câmera de vídeo do loc...</td>\n",
              "    </tr>\n",
              "    <tr>\n",
              "      <th>314</th>\n",
              "      <td>2014-09-03 00:00:00</td>\n",
              "      <td>Gama</td>\n",
              "      <td>CAC</td>\n",
              "      <td>09h20</td>\n",
              "      <td>Prestação de socorro</td>\n",
              "      <td>Ocorrência 7767 - segundo registro uma aluna p...</td>\n",
              "      <td>Aluna: Luiza Gomes.</td>\n",
              "      <td>A aluna foi levada ao Hospital das Clínicas.</td>\n",
              "    </tr>\n",
              "  </tbody>\n",
              "</table>\n",
              "</div>"
            ],
            "text/plain": [
              "                    Data Quadrante                        Local horário  \\\n",
              "237  2014-06-27 00:00:00     Ñ inf  Alojamento Multidisciplinar   23h00   \n",
              "314  2014-09-03 00:00:00      Gama                          CAC   09h20   \n",
              "\n",
              "                    Tipo                                   Descrição Sumária  \\\n",
              "237         Furto privado  Ocorrência 7633 - segundo registro a enfermeir...   \n",
              "314  Prestação de socorro  Ocorrência 7767 - segundo registro uma aluna p...   \n",
              "\n",
              "                                               Partes  \\\n",
              "237  Vítima: Adélia Karla Falcão Soares (Enfermeira).   \n",
              "314                               Aluna: Luiza Gomes.   \n",
              "\n",
              "                                               Medidas  \n",
              "237  Foi solicitado acesso a câmera de vídeo do loc...  \n",
              "314       A aluna foi levada ao Hospital das Clínicas.  "
            ]
          },
          "metadata": {
            "tags": []
          }
        },
        {
          "output_type": "display_data",
          "data": {
            "text/plain": [
              "'2015'"
            ]
          },
          "metadata": {
            "tags": []
          }
        },
        {
          "output_type": "display_data",
          "data": {
            "text/html": [
              "<div>\n",
              "<style scoped>\n",
              "    .dataframe tbody tr th:only-of-type {\n",
              "        vertical-align: middle;\n",
              "    }\n",
              "\n",
              "    .dataframe tbody tr th {\n",
              "        vertical-align: top;\n",
              "    }\n",
              "\n",
              "    .dataframe thead th {\n",
              "        text-align: right;\n",
              "    }\n",
              "</style>\n",
              "<table border=\"1\" class=\"dataframe\">\n",
              "  <thead>\n",
              "    <tr style=\"text-align: right;\">\n",
              "      <th></th>\n",
              "      <th>Data</th>\n",
              "      <th>Quadrante</th>\n",
              "      <th>Local</th>\n",
              "      <th>horário</th>\n",
              "      <th>Tipo</th>\n",
              "      <th>Descrição Sumária</th>\n",
              "      <th>Partes</th>\n",
              "      <th>Medidas</th>\n",
              "      <th>Unnamed: 8</th>\n",
              "      <th>Unnamed: 9</th>\n",
              "      <th>...</th>\n",
              "      <th>Unnamed: 26</th>\n",
              "      <th>Unnamed: 27</th>\n",
              "      <th>Unnamed: 28</th>\n",
              "      <th>Unnamed: 29</th>\n",
              "      <th>Unnamed: 30</th>\n",
              "      <th>Unnamed: 31</th>\n",
              "      <th>Unnamed: 32</th>\n",
              "      <th>Unnamed: 33</th>\n",
              "      <th>Unnamed: 34</th>\n",
              "      <th>Unnamed: 35</th>\n",
              "    </tr>\n",
              "  </thead>\n",
              "  <tbody>\n",
              "    <tr>\n",
              "      <th>116</th>\n",
              "      <td>2015-03-19</td>\n",
              "      <td>Beta</td>\n",
              "      <td>Estacionamento da PCU</td>\n",
              "      <td>16h00</td>\n",
              "      <td>Agressão e Ameaça</td>\n",
              "      <td>Ocorrência 0155 TURMA \"C\" - segundo registro o...</td>\n",
              "      <td>Funcionário: Ivanildo Francisco de Mendonça / ...</td>\n",
              "      <td>O ciclista evadiu-se do local.</td>\n",
              "      <td>NaN</td>\n",
              "      <td>NaN</td>\n",
              "      <td>...</td>\n",
              "      <td>NaN</td>\n",
              "      <td>NaN</td>\n",
              "      <td>NaN</td>\n",
              "      <td>NaN</td>\n",
              "      <td>NaN</td>\n",
              "      <td>NaN</td>\n",
              "      <td>NaN</td>\n",
              "      <td>NaN</td>\n",
              "      <td>NaN</td>\n",
              "      <td>NaN</td>\n",
              "    </tr>\n",
              "    <tr>\n",
              "      <th>167</th>\n",
              "      <td>2015-04-08</td>\n",
              "      <td>Beta</td>\n",
              "      <td>Estacionamento do NTI</td>\n",
              "      <td>15h00</td>\n",
              "      <td>Carro c/ Vulnerabilidade</td>\n",
              "      <td>Ocorrência 0197 TURMA \"A\" - segundo registro o...</td>\n",
              "      <td>Proprietário do Veículo: Alefy Matheus.</td>\n",
              "      <td>Ñ inf</td>\n",
              "      <td>NaN</td>\n",
              "      <td>NaN</td>\n",
              "      <td>...</td>\n",
              "      <td>NaN</td>\n",
              "      <td>NaN</td>\n",
              "      <td>NaN</td>\n",
              "      <td>NaN</td>\n",
              "      <td>NaN</td>\n",
              "      <td>NaN</td>\n",
              "      <td>NaN</td>\n",
              "      <td>NaN</td>\n",
              "      <td>NaN</td>\n",
              "      <td>NaN</td>\n",
              "    </tr>\n",
              "  </tbody>\n",
              "</table>\n",
              "<p>2 rows × 36 columns</p>\n",
              "</div>"
            ],
            "text/plain": [
              "          Data Quadrante                  Local horário  \\\n",
              "116 2015-03-19      Beta  Estacionamento da PCU   16h00   \n",
              "167 2015-04-08      Beta  Estacionamento do NTI   15h00   \n",
              "\n",
              "                        Tipo   \\\n",
              "116         Agressão e Ameaça   \n",
              "167  Carro c/ Vulnerabilidade   \n",
              "\n",
              "                                     Descrição Sumária  \\\n",
              "116  Ocorrência 0155 TURMA \"C\" - segundo registro o...   \n",
              "167  Ocorrência 0197 TURMA \"A\" - segundo registro o...   \n",
              "\n",
              "                                                Partes  \\\n",
              "116  Funcionário: Ivanildo Francisco de Mendonça / ...   \n",
              "167            Proprietário do Veículo: Alefy Matheus.   \n",
              "\n",
              "                            Medidas  Unnamed: 8  Unnamed: 9     ...       \\\n",
              "116  O ciclista evadiu-se do local.         NaN         NaN     ...        \n",
              "167                           Ñ inf         NaN         NaN     ...        \n",
              "\n",
              "     Unnamed: 26  Unnamed: 27  Unnamed: 28  Unnamed: 29  Unnamed: 30  \\\n",
              "116          NaN          NaN          NaN          NaN          NaN   \n",
              "167          NaN          NaN          NaN          NaN          NaN   \n",
              "\n",
              "     Unnamed: 31  Unnamed: 32  Unnamed: 33  Unnamed: 34  Unnamed: 35  \n",
              "116          NaN          NaN          NaN          NaN          NaN  \n",
              "167          NaN          NaN          NaN          NaN          NaN  \n",
              "\n",
              "[2 rows x 36 columns]"
            ]
          },
          "metadata": {
            "tags": []
          }
        },
        {
          "output_type": "execute_result",
          "data": {
            "text/plain": [
              "[None, None, None, None, None, None, None]"
            ]
          },
          "metadata": {
            "tags": []
          },
          "execution_count": 4
        }
      ]
    },
    {
      "metadata": {
        "id": "h8hYp6H61kiT",
        "colab_type": "text"
      },
      "cell_type": "markdown",
      "source": [
        "### Dataframes Concatenation\n",
        "\n",
        "Processing the dates of all dataframes before merging because they have different formats, it will help to maitain the correctness of the processed dates. Some cleaning in the columns names is also necessary to make then match in concatenation."
      ]
    },
    {
      "metadata": {
        "id": "NSuGE4qW-Fg1",
        "colab_type": "code",
        "outputId": "2f387321-5c8e-409c-cb5f-ee3285202837",
        "colab": {
          "base_uri": "https://localhost:8080/",
          "height": 359
        }
      },
      "cell_type": "code",
      "source": [
        "# lower all columns and remove extra spaces\n",
        "dfs = {y: df.rename(lambda c: c.lower().strip(), axis='columns') for y, df in dfs.items()}\n",
        "\n",
        "# drop columns\n",
        "drop_rule = re.compile(r'(?x) descrição \\s sumária | medidas | unnamed.*')\n",
        "dfs = {y: df.drop([c for c in df.columns if drop_rule.match(c)], axis='columns') for y, df in dfs.items()}\n",
        "\n",
        "# unify null elements\n",
        "na_rule = re.compile(r'(?i)ñ.*')\n",
        "dfs = {y: df.replace(na_rule.pattern, np.nan, regex=True) for y, df in dfs.items()}\n",
        "\n",
        "# unify date columns, date have different formats along all dataframes, so they have to be processed before concat\n",
        "date_format = {\n",
        "    '2008': '%d.%m.%y',\n",
        "    '2009': '%d.%m.%y',\n",
        "    '2011': '%d.%m.%y',\n",
        "    '2012': '%d.%m.%y',\n",
        "    '2013': '%Y-%m-%d',\n",
        "    '2014': '%Y-%m-%d', #'%Y-%m-%d %h:%m:$s'\n",
        "    '2015': '%Y-%m-%d'\n",
        "}\n",
        "dfs = {\n",
        "    y: df.assign(**{'data': lambda df: pd.to_datetime(df['data'], errors='coerce', format=date_format[y], exact=False)})\n",
        "    for y, df in dfs.items()\n",
        "}\n",
        "\n",
        "# merge dataframes\n",
        "df = pd.concat(dfs, ignore_index=True)\n",
        "df.sample(10)"
      ],
      "execution_count": 5,
      "outputs": [
        {
          "output_type": "execute_result",
          "data": {
            "text/html": [
              "<div>\n",
              "<style scoped>\n",
              "    .dataframe tbody tr th:only-of-type {\n",
              "        vertical-align: middle;\n",
              "    }\n",
              "\n",
              "    .dataframe tbody tr th {\n",
              "        vertical-align: top;\n",
              "    }\n",
              "\n",
              "    .dataframe thead th {\n",
              "        text-align: right;\n",
              "    }\n",
              "</style>\n",
              "<table border=\"1\" class=\"dataframe\">\n",
              "  <thead>\n",
              "    <tr style=\"text-align: right;\">\n",
              "      <th></th>\n",
              "      <th>data</th>\n",
              "      <th>quadrante</th>\n",
              "      <th>local</th>\n",
              "      <th>horário</th>\n",
              "      <th>tipo</th>\n",
              "      <th>partes</th>\n",
              "    </tr>\n",
              "  </thead>\n",
              "  <tbody>\n",
              "    <tr>\n",
              "      <th>1857</th>\n",
              "      <td>2015-04-06</td>\n",
              "      <td>Gama</td>\n",
              "      <td>CFCH</td>\n",
              "      <td>14h40</td>\n",
              "      <td>Prestação de Socorro</td>\n",
              "      <td>Aluno: Jeferson Rodrigo (Curso de Licenciatura...</td>\n",
              "    </tr>\n",
              "    <tr>\n",
              "      <th>1951</th>\n",
              "      <td>2015-05-30</td>\n",
              "      <td>Delta</td>\n",
              "      <td>Restaurante do HC</td>\n",
              "      <td>09h00</td>\n",
              "      <td>Registro de Ocorrência</td>\n",
              "      <td>Aluna: Ilgiza Iangildina (Curso de Letras).</td>\n",
              "    </tr>\n",
              "    <tr>\n",
              "      <th>1486</th>\n",
              "      <td>2014-05-22</td>\n",
              "      <td>Alfa</td>\n",
              "      <td>Reitoria</td>\n",
              "      <td>06h00</td>\n",
              "      <td>Registro de ocorrência</td>\n",
              "      <td>NaN</td>\n",
              "    </tr>\n",
              "    <tr>\n",
              "      <th>337</th>\n",
              "      <td>2009-09-02</td>\n",
              "      <td>Gama</td>\n",
              "      <td>Estacionamento de Economia</td>\n",
              "      <td>21h30</td>\n",
              "      <td>Furto</td>\n",
              "      <td>GTO</td>\n",
              "    </tr>\n",
              "    <tr>\n",
              "      <th>272</th>\n",
              "      <td>2009-03-03</td>\n",
              "      <td>Gama</td>\n",
              "      <td>CCSA</td>\n",
              "      <td>23h40</td>\n",
              "      <td>Registro de ocorrência</td>\n",
              "      <td>Aldemir Ausênio Maia.</td>\n",
              "    </tr>\n",
              "    <tr>\n",
              "      <th>1085</th>\n",
              "      <td>2013-06-15</td>\n",
              "      <td>Alfa</td>\n",
              "      <td>BR 101 em frente a Reitoria</td>\n",
              "      <td>NaN</td>\n",
              "      <td>Registro de ocorrência</td>\n",
              "      <td>Amada Grazielly (dona da Bolsa)</td>\n",
              "    </tr>\n",
              "    <tr>\n",
              "      <th>1513</th>\n",
              "      <td>2014-06-06</td>\n",
              "      <td>Alfa</td>\n",
              "      <td>Casa da estudante</td>\n",
              "      <td>12h30</td>\n",
              "      <td>Registro de ocorrência</td>\n",
              "      <td>Informante: Gabriela de Lima Oliveira que mora...</td>\n",
              "    </tr>\n",
              "    <tr>\n",
              "      <th>1010</th>\n",
              "      <td>2013-05-04</td>\n",
              "      <td>Delta</td>\n",
              "      <td>traz do CCB(prédio contruç)</td>\n",
              "      <td>17h25</td>\n",
              "      <td>Registro de ocorrência</td>\n",
              "      <td>NaN</td>\n",
              "    </tr>\n",
              "    <tr>\n",
              "      <th>1018</th>\n",
              "      <td>2013-05-10</td>\n",
              "      <td>Beta</td>\n",
              "      <td>CIN (estacionamento)</td>\n",
              "      <td>17h45</td>\n",
              "      <td>Arrombamento de Veículo</td>\n",
              "      <td>Eduardo Jose de Vasconcelos Matos (dono do Veí...</td>\n",
              "    </tr>\n",
              "    <tr>\n",
              "      <th>1771</th>\n",
              "      <td>2015-02-22</td>\n",
              "      <td>NaN</td>\n",
              "      <td>NaN</td>\n",
              "      <td>16h30</td>\n",
              "      <td>Prestação de Socorro</td>\n",
              "      <td>Agente: Roberto fernando (Fernandão).</td>\n",
              "    </tr>\n",
              "  </tbody>\n",
              "</table>\n",
              "</div>"
            ],
            "text/plain": [
              "           data quadrante                        local horário  \\\n",
              "1857 2015-04-06      Gama                         CFCH   14h40   \n",
              "1951 2015-05-30     Delta            Restaurante do HC   09h00   \n",
              "1486 2014-05-22      Alfa                     Reitoria   06h00   \n",
              "337  2009-09-02      Gama   Estacionamento de Economia   21h30   \n",
              "272  2009-03-03      Gama                         CCSA   23h40   \n",
              "1085 2013-06-15      Alfa  BR 101 em frente a Reitoria     NaN   \n",
              "1513 2014-06-06      Alfa            Casa da estudante   12h30   \n",
              "1010 2013-05-04     Delta  traz do CCB(prédio contruç)   17h25   \n",
              "1018 2013-05-10      Beta         CIN (estacionamento)   17h45   \n",
              "1771 2015-02-22       NaN                          NaN   16h30   \n",
              "\n",
              "                         tipo  \\\n",
              "1857     Prestação de Socorro   \n",
              "1951   Registro de Ocorrência   \n",
              "1486  Registro de ocorrência    \n",
              "337                     Furto   \n",
              "272    Registro de ocorrência   \n",
              "1085   Registro de ocorrência   \n",
              "1513   Registro de ocorrência   \n",
              "1010   Registro de ocorrência   \n",
              "1018  Arrombamento de Veículo   \n",
              "1771     Prestação de Socorro   \n",
              "\n",
              "                                                 partes  \n",
              "1857  Aluno: Jeferson Rodrigo (Curso de Licenciatura...  \n",
              "1951        Aluna: Ilgiza Iangildina (Curso de Letras).  \n",
              "1486                                                NaN  \n",
              "337                                                 GTO  \n",
              "272                               Aldemir Ausênio Maia.  \n",
              "1085                    Amada Grazielly (dona da Bolsa)  \n",
              "1513  Informante: Gabriela de Lima Oliveira que mora...  \n",
              "1010                                                NaN  \n",
              "1018  Eduardo Jose de Vasconcelos Matos (dono do Veí...  \n",
              "1771              Agente: Roberto fernando (Fernandão).  "
            ]
          },
          "metadata": {
            "tags": []
          },
          "execution_count": 5
        }
      ]
    },
    {
      "metadata": {
        "id": "gHHoo7Wm2op1",
        "colab_type": "text"
      },
      "cell_type": "markdown",
      "source": [
        "### Process DataFrame columns"
      ]
    },
    {
      "metadata": {
        "id": "tM6vjechC6fm",
        "colab_type": "code",
        "outputId": "841df568-c8e0-41f5-95a8-0ba02cb65357",
        "colab": {
          "base_uri": "https://localhost:8080/",
          "height": 683
        }
      },
      "cell_type": "code",
      "source": [
        "pdf = df.copy()\n",
        "\n",
        "pdf['horário'] = pd.to_datetime(df['horário'], errors='coerce', format='%Hh%M', exact=False)\n",
        "\n",
        "pdf['quadrante'] = df['quadrante']\\\n",
        "    .fillna('')\\\n",
        "    .apply(lambda e: str(e).strip().lower())\\\n",
        "    .apply(lambda e: 'None' if len(e) <= 1 else e)\\\n",
        "    .apply(lambda e: 'externa' if 'externa' in e else e)\\\n",
        "    .apply(lambda e: 'externa' if e.startswith('z') and e.endswith('e') else e)\\\n",
        "    .apply(lambda e: 'interna' if e.startswith('z') else e)\\\n",
        "    .apply(lambda e: e[:e.index('/')] if '/' in e else e)\n",
        "\n",
        "places_rules = [\n",
        "    ('CAC-CFCH', re.compile(r'(?ix) cfch | cac | (a|á)rtes | gere | sintuf')),\n",
        "    ('CE',       re.compile(r'(?ix) ((^|\\s) ce ($|\\s)) | col(é|e)gio | aplica | educaç | ((^|\\s)cap($|\\s))')),\n",
        "    ('CCSA',     re.compile(r'(?ix) ccsa | cssa | adu(e?)fpe | economia | lamsa | ((^|\\s)de(q|c)($|\\s)) | hotel | lac | turism | qu(í|i)mic')),\n",
        "    ('CTG',      re.compile(r'(?ix) ctg | oce(o|a)no | museu | fae | eng. | engenh')),\n",
        "    ('CCEN',     re.compile(r'(?ix) ccen | dep .* físi | matem')),\n",
        "    ('CCB',      re.compile(r'(?ix) ccb')),\n",
        "    ('CCS',      re.compile(r'(?ix) ccs | odonto | dermato | medic | fono | histono | f(á|a)rm(á|a)c | nutri | anato | faci | biot | buco | psico | svo | sa(ú|u)de | antib | nasc')),\n",
        "    ('CIN',      re.compile(r'(?ix) cin | inform')),\n",
        "    ('AREA2',    re.compile(r'(?ix) ((á|a)rea \\s? (2|ii)) | pcu | prefeit | den')),\n",
        "    ('RU',       re.compile(r'(?ix) ru | restaurante')),\n",
        "    ('NTI',      re.compile(r'(?ix) ((^|\\s) nti) | n(ú|u)cleo de tecn')),\n",
        "    ('NEDF',     re.compile(r'(?ix) nedf | nefd | dine | nai | fisio | terapi | (educ .* ica) | arqueo | n(ú|u)cleo | quadra')),\n",
        "    ('LANSA',    re.compile(r'(?ix) lansa')),\n",
        "    ('CECINE',   re.compile(r'(?ix) cecine')),\n",
        "    ('FARMACIA', re.compile(r'(?ix) f(á|a)rm(á|a)cia')),\n",
        "    ('CEU',      re.compile(r'(?ix) ((^|\\s) ceu ($|\\s|-)) | masc | femin')),\n",
        "    ('DGOS',     re.compile(r'(?ix) dgos')),\n",
        "    ('REITORIA', re.compile(r'(?ix) reitoria | proa | caixa | brasi | ((^|\\s)nae($|\\s|\\.)) | proacad')),\n",
        "    ('BR101',    re.compile(r'(?ix) (br .* 101?) | sudene | viadut | girad')),\n",
        "    ('HC',       re.compile(r'(?ix) hc | hospital | cl(í|i)nicas')),\n",
        "    ('ENTRADA',  re.compile(r'(?ix) entrada | sa(í|i)da | editora | (o|ô)nibus | guarita | ((^|\\s)cos($|\\s))')),\n",
        "    ('AVENIDA',  re.compile(r'(?ix) avenida | av\\. | ceco(n|m) | conven | central | arqui | reitore | teatr | ((^|\\s)bc($|\\s))')),\n",
        "    ('CONCHA',   re.compile(r'(?ix) concha')),\n",
        "    ('COOPER',   re.compile(r'(?ix) cooper')),\n",
        "    ('CAST_AGUA',re.compile(r'(?ix) castelo | agua')),\n",
        "    ('CASA-ESTD',re.compile(r'(?ix) casa | mist')),\n",
        "    ('CLUBE',    re.compile(r'(?ix) clube')),\n",
        "    ('LAGO',     re.compile(r'(?ix) lago | lagu | riach | cavouc')),\n",
        "    ('CAMPUS',   re.compile(r'(?ix) campus | ufpe')),\n",
        "    ('TVU',      re.compile(r'(?ix) tvu | ((^|\\s)tv($|\\s)) | tv \\s u | r(a|á)dio')),\n",
        "    ('none',     re.compile(r'(?ix) none')),\n",
        "    ('OUTROS',   re.compile(r'(?ix) .*')),\n",
        "]\n",
        "place_matcher = lambda e: [place for place, rule in places_rules if rule.search(e)][0]\n",
        "pdf['local'] = df['local']\\\n",
        "    .fillna('None')\\\n",
        "    .apply(lambda e: str(e).strip().lower())\\\n",
        "    .apply(place_matcher)\n",
        "\n",
        "type_rules = [\n",
        "    ('HOMICIDIO',re.compile(r'(?ix) homic(í|i)')),\n",
        "    ('SUICIDIO', re.compile(r'(?ix) suic(í|i)')),\n",
        "    ('ESTUPRO',  re.compile(r'(?ix) estupr | estrup')),\n",
        "    ('AGRESSÃO', re.compile(r'(?ix) agress')),\n",
        "    ('ROUBO',    re.compile(r'(?ix) assal | arrast |roub')),\n",
        "    ('FURTO',    re.compile(r'(?ix) furt')),\n",
        "    ('BRIGA',    re.compile(r'(?ix) brig')),\n",
        "    ('ARROMBAM.',re.compile(r'(?ix) arromb | inva(s|d)')),\n",
        "    ('APREENCAO',re.compile(r'(?ix) apreen | arma')),\n",
        "    ('DROGAS',   re.compile(r'(?ix) Drog | entorp')),\n",
        "    ('SUSPEITOS',re.compile(r'(?ix) suspeit | abordag')),\n",
        "    ('COLISÃO',  re.compile(r'(?ix) colis | aciden')),\n",
        "    ('SOCORRO',  re.compile(r'(?ix) presta | socorr')),\n",
        "    ('INCENDIO', re.compile(r'(?ix) inc(ê|e)nd')),\n",
        "    ('CARRO VUL',re.compile(r'(?ix) carr | veic')),\n",
        "    ('DANO_PATR',re.compile(r'(?ix) patrim | dano')),\n",
        "    ('ANIMAL',   re.compile(r'(?ix) anima')),\n",
        "    ('BO',       re.compile(r'(?ix) regist | ocorr | bolet')),\n",
        "    ('none',     re.compile(r'(?ix) none')),\n",
        "    ('OUTROS',   re.compile(r'(?ix) .*')),\n",
        "]\n",
        "type_matcher = lambda e: [type for type, rule in type_rules if rule.search(e)][0]\n",
        "\n",
        "pdf['tipo'] = df['tipo']\\\n",
        "    .fillna('None')\\\n",
        "    .apply(lambda e: str(e).strip().lower())\\\n",
        "    .apply(type_matcher)\n",
        "\n",
        "display(\n",
        "    pdf['local'].value_counts().head(8),\n",
        "    pdf['tipo'].value_counts().head(8),\n",
        ")\n",
        "\n",
        "pdf.sample(10)"
      ],
      "execution_count": 10,
      "outputs": [
        {
          "output_type": "display_data",
          "data": {
            "text/plain": [
              "none        239\n",
              "CCS         211\n",
              "CAC-CFCH    209\n",
              "NEDF        155\n",
              "CCSA        140\n",
              "AVENIDA     111\n",
              "CTG         111\n",
              "REITORIA    108\n",
              "Name: local, dtype: int64"
            ]
          },
          "metadata": {
            "tags": []
          }
        },
        {
          "output_type": "display_data",
          "data": {
            "text/plain": [
              "BO           751\n",
              "ROUBO        335\n",
              "SOCORRO      224\n",
              "FURTO        194\n",
              "COLISÃO      163\n",
              "ARROMBAM.    131\n",
              "CARRO VUL     92\n",
              "APREENCAO     54\n",
              "Name: tipo, dtype: int64"
            ]
          },
          "metadata": {
            "tags": []
          }
        },
        {
          "output_type": "execute_result",
          "data": {
            "text/html": [
              "<div>\n",
              "<style scoped>\n",
              "    .dataframe tbody tr th:only-of-type {\n",
              "        vertical-align: middle;\n",
              "    }\n",
              "\n",
              "    .dataframe tbody tr th {\n",
              "        vertical-align: top;\n",
              "    }\n",
              "\n",
              "    .dataframe thead th {\n",
              "        text-align: right;\n",
              "    }\n",
              "</style>\n",
              "<table border=\"1\" class=\"dataframe\">\n",
              "  <thead>\n",
              "    <tr style=\"text-align: right;\">\n",
              "      <th></th>\n",
              "      <th>data</th>\n",
              "      <th>quadrante</th>\n",
              "      <th>local</th>\n",
              "      <th>horário</th>\n",
              "      <th>tipo</th>\n",
              "      <th>partes</th>\n",
              "    </tr>\n",
              "  </thead>\n",
              "  <tbody>\n",
              "    <tr>\n",
              "      <th>1761</th>\n",
              "      <td>2015-02-12</td>\n",
              "      <td>gama</td>\n",
              "      <td>CAC-CFCH</td>\n",
              "      <td>1900-01-01 01:30:00</td>\n",
              "      <td>BO</td>\n",
              "      <td>Os alunos estavam sem documentos / Segurança: ...</td>\n",
              "    </tr>\n",
              "    <tr>\n",
              "      <th>1062</th>\n",
              "      <td>2013-05-31</td>\n",
              "      <td>None</td>\n",
              "      <td>none</td>\n",
              "      <td>NaT</td>\n",
              "      <td>BO</td>\n",
              "      <td>Ariana Catunda de Vasconcelos (vítima)</td>\n",
              "    </tr>\n",
              "    <tr>\n",
              "      <th>2138</th>\n",
              "      <td>2015-12-05</td>\n",
              "      <td>alfa</td>\n",
              "      <td>BR101</td>\n",
              "      <td>1900-01-01 22:10:00</td>\n",
              "      <td>BO</td>\n",
              "      <td>Rapaz: Luciano Alves.</td>\n",
              "    </tr>\n",
              "    <tr>\n",
              "      <th>1794</th>\n",
              "      <td>2015-03-08</td>\n",
              "      <td>alfa</td>\n",
              "      <td>REITORIA</td>\n",
              "      <td>1900-01-01 15:20:00</td>\n",
              "      <td>APREENCAO</td>\n",
              "      <td>Aluno: Felipe Gonsalves Barbosa. Coordenadores...</td>\n",
              "    </tr>\n",
              "    <tr>\n",
              "      <th>2100</th>\n",
              "      <td>2015-10-27</td>\n",
              "      <td>gama</td>\n",
              "      <td>CAC-CFCH</td>\n",
              "      <td>1900-01-01 09:00:00</td>\n",
              "      <td>COLISÃO</td>\n",
              "      <td>Proprietária do Kia: Adriana Maria de Abreu Ba...</td>\n",
              "    </tr>\n",
              "    <tr>\n",
              "      <th>1560</th>\n",
              "      <td>2014-07-11</td>\n",
              "      <td>delta</td>\n",
              "      <td>CCS</td>\n",
              "      <td>1900-01-01 14:20:00</td>\n",
              "      <td>CARRO VUL</td>\n",
              "      <td>NaN</td>\n",
              "    </tr>\n",
              "    <tr>\n",
              "      <th>517</th>\n",
              "      <td>2011-08-29</td>\n",
              "      <td>gama</td>\n",
              "      <td>CAC-CFCH</td>\n",
              "      <td>NaT</td>\n",
              "      <td>FURTO</td>\n",
              "      <td>Cecília Araújo de Azevedo/vítima</td>\n",
              "    </tr>\n",
              "    <tr>\n",
              "      <th>1767</th>\n",
              "      <td>2015-02-18</td>\n",
              "      <td>delta</td>\n",
              "      <td>CCB</td>\n",
              "      <td>NaT</td>\n",
              "      <td>BO</td>\n",
              "      <td>Informante: vigilante Arlindo.</td>\n",
              "    </tr>\n",
              "    <tr>\n",
              "      <th>433</th>\n",
              "      <td>2011-04-12</td>\n",
              "      <td>alfa</td>\n",
              "      <td>CEU</td>\n",
              "      <td>NaT</td>\n",
              "      <td>ROUBO</td>\n",
              "      <td>Mayara Natália de Lima</td>\n",
              "    </tr>\n",
              "    <tr>\n",
              "      <th>2005</th>\n",
              "      <td>2015-07-09</td>\n",
              "      <td>beta</td>\n",
              "      <td>CTG</td>\n",
              "      <td>1900-01-01 18:00:00</td>\n",
              "      <td>BO</td>\n",
              "      <td>Aluna: Gersica Moraes da Silva (Curso de Engen...</td>\n",
              "    </tr>\n",
              "  </tbody>\n",
              "</table>\n",
              "</div>"
            ],
            "text/plain": [
              "           data quadrante     local             horário       tipo  \\\n",
              "1761 2015-02-12      gama  CAC-CFCH 1900-01-01 01:30:00         BO   \n",
              "1062 2013-05-31      None      none                 NaT         BO   \n",
              "2138 2015-12-05      alfa     BR101 1900-01-01 22:10:00         BO   \n",
              "1794 2015-03-08      alfa  REITORIA 1900-01-01 15:20:00  APREENCAO   \n",
              "2100 2015-10-27      gama  CAC-CFCH 1900-01-01 09:00:00    COLISÃO   \n",
              "1560 2014-07-11     delta       CCS 1900-01-01 14:20:00  CARRO VUL   \n",
              "517  2011-08-29      gama  CAC-CFCH                 NaT      FURTO   \n",
              "1767 2015-02-18     delta       CCB                 NaT         BO   \n",
              "433  2011-04-12      alfa       CEU                 NaT      ROUBO   \n",
              "2005 2015-07-09      beta       CTG 1900-01-01 18:00:00         BO   \n",
              "\n",
              "                                                 partes  \n",
              "1761  Os alunos estavam sem documentos / Segurança: ...  \n",
              "1062             Ariana Catunda de Vasconcelos (vítima)  \n",
              "2138                              Rapaz: Luciano Alves.  \n",
              "1794  Aluno: Felipe Gonsalves Barbosa. Coordenadores...  \n",
              "2100  Proprietária do Kia: Adriana Maria de Abreu Ba...  \n",
              "1560                                                NaN  \n",
              "517                    Cecília Araújo de Azevedo/vítima  \n",
              "1767                     Informante: vigilante Arlindo.  \n",
              "433                              Mayara Natália de Lima  \n",
              "2005  Aluna: Gersica Moraes da Silva (Curso de Engen...  "
            ]
          },
          "metadata": {
            "tags": []
          },
          "execution_count": 10
        }
      ]
    },
    {
      "metadata": {
        "id": "XKyzyc764JC2",
        "colab_type": "text"
      },
      "cell_type": "markdown",
      "source": [
        ""
      ]
    },
    {
      "metadata": {
        "id": "veLwxQdh4IMM",
        "colab_type": "code",
        "colab": {}
      },
      "cell_type": "code",
      "source": [
        ""
      ],
      "execution_count": 0,
      "outputs": []
    }
  ]
}