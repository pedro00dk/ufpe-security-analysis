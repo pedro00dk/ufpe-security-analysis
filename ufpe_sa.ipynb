{
  "nbformat": 4,
  "nbformat_minor": 0,
  "metadata": {
    "colab": {
      "name": "ufpe_sa.ipynb",
      "version": "0.3.2",
      "provenance": [],
      "include_colab_link": true
    },
    "kernelspec": {
      "name": "python3",
      "display_name": "Python 3"
    }
  },
  "cells": [
    {
      "cell_type": "markdown",
      "metadata": {
        "id": "view-in-github",
        "colab_type": "text"
      },
      "source": [
        "<a href=\"https://colab.research.google.com/github/pedro00dk/ufpe-security-analysis/blob/master/ufpe_sa.ipynb\" target=\"_parent\"><img src=\"https://colab.research.google.com/assets/colab-badge.svg\" alt=\"Open In Colab\"/></a>"
      ]
    },
    {
      "metadata": {
        "id": "RtdnypTW1Tqx",
        "colab_type": "text"
      },
      "cell_type": "markdown",
      "source": [
        "# UFPE Security Analysis"
      ]
    },
    {
      "metadata": {
        "id": "AYOC4owg9R48",
        "colab_type": "text"
      },
      "cell_type": "markdown",
      "source": [
        "Fetching github repo to get database file."
      ]
    },
    {
      "metadata": {
        "id": "kQmQq91f0yXH",
        "colab_type": "code",
        "outputId": "36137e72-27cc-469f-8980-d8cbbbdc1feb",
        "colab": {
          "base_uri": "https://localhost:8080/",
          "height": 143
        }
      },
      "cell_type": "code",
      "source": [
        "!rm --recursive --force -- ./ufpe-security-analysis/\n",
        "!git clone -- https://github.com/pedro00dk/ufpe-security-analysis\n",
        "!ls -- ./ufpe-security-analysis/"
      ],
      "execution_count": 1,
      "outputs": [
        {
          "output_type": "stream",
          "text": [
            "Cloning into 'ufpe-security-analysis'...\n",
            "remote: Enumerating objects: 27, done.\u001b[K\n",
            "remote: Counting objects: 100% (27/27), done.\u001b[K\n",
            "remote: Compressing objects: 100% (25/25), done.\u001b[K\n",
            "remote: Total 27 (delta 10), reused 0 (delta 0), pack-reused 0\u001b[K\n",
            "Unpacking objects: 100% (27/27), done.\n",
            " README.md   ufpe_sa.ipynb  'UFPE SSI.xlsx'\n"
          ],
          "name": "stdout"
        }
      ]
    },
    {
      "metadata": {
        "id": "zCiUq6Z79c10",
        "colab_type": "text"
      },
      "cell_type": "markdown",
      "source": [
        "#### Packages and imports\n",
        "\n",
        "Install necessary packages for loading excel"
      ]
    },
    {
      "metadata": {
        "id": "Y_qiSckS59cO",
        "colab_type": "code",
        "outputId": "f9542d94-73f4-416c-a257-b3af4de70575",
        "colab": {
          "base_uri": "https://localhost:8080/",
          "height": 107
        }
      },
      "cell_type": "code",
      "source": [
        "!pip install xlrd"
      ],
      "execution_count": 2,
      "outputs": [
        {
          "output_type": "stream",
          "text": [
            "Collecting xlrd\n",
            "\u001b[?25l  Downloading https://files.pythonhosted.org/packages/07/e6/e95c4eec6221bfd8528bcc4ea252a850bffcc4be88ebc367e23a1a84b0bb/xlrd-1.1.0-py2.py3-none-any.whl (108kB)\n",
            "\u001b[K    100% |████████████████████████████████| 112kB 4.1MB/s \n",
            "\u001b[?25hInstalling collected packages: xlrd\n",
            "Successfully installed xlrd-1.1.0\n"
          ],
          "name": "stdout"
        }
      ]
    },
    {
      "metadata": {
        "id": "XXndZFmh4fBi",
        "colab_type": "code",
        "colab": {}
      },
      "cell_type": "code",
      "source": [
        "import numpy as np\n",
        "import pandas as pd\n",
        "import re"
      ],
      "execution_count": 0,
      "outputs": []
    },
    {
      "metadata": {
        "id": "JiZ8q-Wb9nrf",
        "colab_type": "text"
      },
      "cell_type": "markdown",
      "source": [
        "### Dataframe Columns and Data\n",
        "\n",
        "The database consists of an excel file with sheets per year of information. All of these sheets have to be loaded and merged. I printed only two lines of the dataframes to check the data formats and column names for concatenation."
      ]
    },
    {
      "metadata": {
        "id": "wqMQeUtB4_9P",
        "colab_type": "code",
        "outputId": "056b8537-2102-4f36-fc49-dbda93c81ca8",
        "colab": {
          "base_uri": "https://localhost:8080/",
          "height": 967
        }
      },
      "cell_type": "code",
      "source": [
        "xls = pd.ExcelFile('./ufpe-security-analysis/UFPE SSI.xlsx')\n",
        "dfs = xls.parse(sheet_name=xls.sheet_names)\n",
        "\n",
        "[display(y, df.sample(2)) for y, df in dfs.items()]"
      ],
      "execution_count": 4,
      "outputs": [
        {
          "output_type": "display_data",
          "data": {
            "text/plain": [
              "'2008'"
            ]
          },
          "metadata": {
            "tags": []
          }
        },
        {
          "output_type": "display_data",
          "data": {
            "text/html": [
              "<div>\n",
              "<style scoped>\n",
              "    .dataframe tbody tr th:only-of-type {\n",
              "        vertical-align: middle;\n",
              "    }\n",
              "\n",
              "    .dataframe tbody tr th {\n",
              "        vertical-align: top;\n",
              "    }\n",
              "\n",
              "    .dataframe thead th {\n",
              "        text-align: right;\n",
              "    }\n",
              "</style>\n",
              "<table border=\"1\" class=\"dataframe\">\n",
              "  <thead>\n",
              "    <tr style=\"text-align: right;\">\n",
              "      <th></th>\n",
              "      <th>Data</th>\n",
              "      <th>Quadrante</th>\n",
              "      <th>Local</th>\n",
              "      <th>Horário</th>\n",
              "      <th>Tipo</th>\n",
              "      <th>Descrição Sumária</th>\n",
              "      <th>Partes</th>\n",
              "      <th>Medidas</th>\n",
              "    </tr>\n",
              "  </thead>\n",
              "  <tbody>\n",
              "    <tr>\n",
              "      <th>119</th>\n",
              "      <td>07.05.08</td>\n",
              "      <td>Gama</td>\n",
              "      <td>CECINE</td>\n",
              "      <td>21h00</td>\n",
              "      <td>Roubo - ZLI</td>\n",
              "      <td>Ocorrência 627- estudante é assaltado</td>\n",
              "      <td>Ñinf</td>\n",
              "      <td>Ñinf</td>\n",
              "    </tr>\n",
              "    <tr>\n",
              "      <th>156</th>\n",
              "      <td>15.08.08</td>\n",
              "      <td>Beta</td>\n",
              "      <td>Prox.parada.Editora</td>\n",
              "      <td>20h10</td>\n",
              "      <td>Roubo - ZLE</td>\n",
              "      <td>Ocorrência 823-estudante é assaltado.</td>\n",
              "      <td>Rafael Alberto Gomes Pereiera Lima</td>\n",
              "      <td>Ñinf</td>\n",
              "    </tr>\n",
              "  </tbody>\n",
              "</table>\n",
              "</div>"
            ],
            "text/plain": [
              "         Data Quadrante                Local Horário         Tipo  \\\n",
              "119  07.05.08      Gama               CECINE   21h00  Roubo - ZLI   \n",
              "156  15.08.08      Beta  Prox.parada.Editora   20h10  Roubo - ZLE   \n",
              "\n",
              "                         Descrição Sumária  \\\n",
              "119  Ocorrência 627- estudante é assaltado   \n",
              "156  Ocorrência 823-estudante é assaltado.   \n",
              "\n",
              "                                 Partes Medidas  \n",
              "119                                Ñinf    Ñinf  \n",
              "156  Rafael Alberto Gomes Pereiera Lima    Ñinf  "
            ]
          },
          "metadata": {
            "tags": []
          }
        },
        {
          "output_type": "display_data",
          "data": {
            "text/plain": [
              "'2009'"
            ]
          },
          "metadata": {
            "tags": []
          }
        },
        {
          "output_type": "display_data",
          "data": {
            "text/html": [
              "<div>\n",
              "<style scoped>\n",
              "    .dataframe tbody tr th:only-of-type {\n",
              "        vertical-align: middle;\n",
              "    }\n",
              "\n",
              "    .dataframe tbody tr th {\n",
              "        vertical-align: top;\n",
              "    }\n",
              "\n",
              "    .dataframe thead th {\n",
              "        text-align: right;\n",
              "    }\n",
              "</style>\n",
              "<table border=\"1\" class=\"dataframe\">\n",
              "  <thead>\n",
              "    <tr style=\"text-align: right;\">\n",
              "      <th></th>\n",
              "      <th>Data</th>\n",
              "      <th>Quadrante</th>\n",
              "      <th>Local</th>\n",
              "      <th>Horário</th>\n",
              "      <th>Tipo</th>\n",
              "      <th>Descrição Sumária</th>\n",
              "      <th>Partes</th>\n",
              "      <th>Medidas</th>\n",
              "    </tr>\n",
              "  </thead>\n",
              "  <tbody>\n",
              "    <tr>\n",
              "      <th>99</th>\n",
              "      <td>27.03.09</td>\n",
              "      <td>Alfa</td>\n",
              "      <td>NAI</td>\n",
              "      <td>10h10</td>\n",
              "      <td>Registro de ocorrência</td>\n",
              "      <td>Ocorrência 2047 - 01 funcionário que estava re...</td>\n",
              "      <td>Natália Maria Moura Vieira de Souza / Amanda M...</td>\n",
              "      <td>O GTO foi ao local.</td>\n",
              "    </tr>\n",
              "    <tr>\n",
              "      <th>79</th>\n",
              "      <td>14.03.09</td>\n",
              "      <td>ZLE</td>\n",
              "      <td>Próximo ao banco do brasil</td>\n",
              "      <td>Ñ inf</td>\n",
              "      <td>Roubo</td>\n",
              "      <td>Ocorrência 2024 - 01 estudante que reside na C...</td>\n",
              "      <td>Segurança José Maria</td>\n",
              "      <td>O segurança fez uma ocorrência mais detalhada.</td>\n",
              "    </tr>\n",
              "  </tbody>\n",
              "</table>\n",
              "</div>"
            ],
            "text/plain": [
              "        Data Quadrante                       Local Horário  \\\n",
              "99  27.03.09      Alfa                         NAI   10h10   \n",
              "79  14.03.09       ZLE  Próximo ao banco do brasil   Ñ inf   \n",
              "\n",
              "                      Tipo                                  Descrição Sumária  \\\n",
              "99  Registro de ocorrência  Ocorrência 2047 - 01 funcionário que estava re...   \n",
              "79                   Roubo  Ocorrência 2024 - 01 estudante que reside na C...   \n",
              "\n",
              "                                               Partes  \\\n",
              "99  Natália Maria Moura Vieira de Souza / Amanda M...   \n",
              "79                               Segurança José Maria   \n",
              "\n",
              "                                           Medidas  \n",
              "99                             O GTO foi ao local.  \n",
              "79  O segurança fez uma ocorrência mais detalhada.  "
            ]
          },
          "metadata": {
            "tags": []
          }
        },
        {
          "output_type": "display_data",
          "data": {
            "text/plain": [
              "'2011'"
            ]
          },
          "metadata": {
            "tags": []
          }
        },
        {
          "output_type": "display_data",
          "data": {
            "text/html": [
              "<div>\n",
              "<style scoped>\n",
              "    .dataframe tbody tr th:only-of-type {\n",
              "        vertical-align: middle;\n",
              "    }\n",
              "\n",
              "    .dataframe tbody tr th {\n",
              "        vertical-align: top;\n",
              "    }\n",
              "\n",
              "    .dataframe thead th {\n",
              "        text-align: right;\n",
              "    }\n",
              "</style>\n",
              "<table border=\"1\" class=\"dataframe\">\n",
              "  <thead>\n",
              "    <tr style=\"text-align: right;\">\n",
              "      <th></th>\n",
              "      <th>Data</th>\n",
              "      <th>Quadrante</th>\n",
              "      <th>Local</th>\n",
              "      <th>horário</th>\n",
              "      <th>Tipo</th>\n",
              "      <th>Descrição Sumária</th>\n",
              "      <th>Partes</th>\n",
              "      <th>Medidas</th>\n",
              "    </tr>\n",
              "  </thead>\n",
              "  <tbody>\n",
              "    <tr>\n",
              "      <th>189</th>\n",
              "      <td>28.11.11</td>\n",
              "      <td>NaN</td>\n",
              "      <td>Ñinf</td>\n",
              "      <td>Ñinf</td>\n",
              "      <td>Registro de Ocorrência</td>\n",
              "      <td>Instrução para autos do Inquerito sobre os ben...</td>\n",
              "      <td>NaN</td>\n",
              "      <td>Ñinf</td>\n",
              "    </tr>\n",
              "    <tr>\n",
              "      <th>55</th>\n",
              "      <td>13.04.11</td>\n",
              "      <td>Alfa</td>\n",
              "      <td>COS</td>\n",
              "      <td>NaN</td>\n",
              "      <td>Carro c/ Vulnerabilidade</td>\n",
              "      <td>Ocorrência 3108- foi deixado um veiculo com vi...</td>\n",
              "      <td>Antonio Severino de Araujo Neto</td>\n",
              "      <td>NaN</td>\n",
              "    </tr>\n",
              "  </tbody>\n",
              "</table>\n",
              "</div>"
            ],
            "text/plain": [
              "         Data Quadrante Local horário                     Tipo   \\\n",
              "189  28.11.11       NaN  Ñinf    Ñinf    Registro de Ocorrência   \n",
              "55   13.04.11      Alfa   COS     NaN  Carro c/ Vulnerabilidade   \n",
              "\n",
              "                                     Descrição Sumária  \\\n",
              "189  Instrução para autos do Inquerito sobre os ben...   \n",
              "55   Ocorrência 3108- foi deixado um veiculo com vi...   \n",
              "\n",
              "                              Partes Medidas  \n",
              "189                              NaN    Ñinf  \n",
              "55   Antonio Severino de Araujo Neto     NaN  "
            ]
          },
          "metadata": {
            "tags": []
          }
        },
        {
          "output_type": "display_data",
          "data": {
            "text/plain": [
              "'2012'"
            ]
          },
          "metadata": {
            "tags": []
          }
        },
        {
          "output_type": "display_data",
          "data": {
            "text/html": [
              "<div>\n",
              "<style scoped>\n",
              "    .dataframe tbody tr th:only-of-type {\n",
              "        vertical-align: middle;\n",
              "    }\n",
              "\n",
              "    .dataframe tbody tr th {\n",
              "        vertical-align: top;\n",
              "    }\n",
              "\n",
              "    .dataframe thead th {\n",
              "        text-align: right;\n",
              "    }\n",
              "</style>\n",
              "<table border=\"1\" class=\"dataframe\">\n",
              "  <thead>\n",
              "    <tr style=\"text-align: right;\">\n",
              "      <th></th>\n",
              "      <th>Data</th>\n",
              "      <th>Quadrante</th>\n",
              "      <th>Local</th>\n",
              "      <th>horário</th>\n",
              "      <th>Tipo</th>\n",
              "      <th>Descrição Sumária</th>\n",
              "      <th>Partes</th>\n",
              "      <th>Medidas</th>\n",
              "    </tr>\n",
              "  </thead>\n",
              "  <tbody>\n",
              "    <tr>\n",
              "      <th>43</th>\n",
              "      <td>07.02.12</td>\n",
              "      <td>Alfa</td>\n",
              "      <td>Guarita do NEFD</td>\n",
              "      <td>07h30</td>\n",
              "      <td>Dano Patrimonio</td>\n",
              "      <td>Ocorrência 3697 –estudante alterado e com sint...</td>\n",
              "      <td>Carlos Regis</td>\n",
              "      <td>Ñinf</td>\n",
              "    </tr>\n",
              "    <tr>\n",
              "      <th>177</th>\n",
              "      <td>19.09.12</td>\n",
              "      <td>Gama</td>\n",
              "      <td>DGOS</td>\n",
              "      <td>13h30</td>\n",
              "      <td>Registro de ocorrência</td>\n",
              "      <td>Ocorrência    41    - o  estudante de Filosofi...</td>\n",
              "      <td>Ñinf</td>\n",
              "      <td>Ñinf</td>\n",
              "    </tr>\n",
              "  </tbody>\n",
              "</table>\n",
              "</div>"
            ],
            "text/plain": [
              "          Data Quadrante             Local horário                   Tipo   \\\n",
              "43   07.02.12       Alfa  Guarita do NEFD    07h30         Dano Patrimonio   \n",
              "177   19.09.12      Gama              DGOS   13h30  Registro de ocorrência   \n",
              "\n",
              "                                     Descrição Sumária        Partes Medidas  \n",
              "43   Ocorrência 3697 –estudante alterado e com sint...  Carlos Regis    Ñinf  \n",
              "177  Ocorrência    41    - o  estudante de Filosofi...          Ñinf    Ñinf  "
            ]
          },
          "metadata": {
            "tags": []
          }
        },
        {
          "output_type": "display_data",
          "data": {
            "text/plain": [
              "'2013'"
            ]
          },
          "metadata": {
            "tags": []
          }
        },
        {
          "output_type": "display_data",
          "data": {
            "text/html": [
              "<div>\n",
              "<style scoped>\n",
              "    .dataframe tbody tr th:only-of-type {\n",
              "        vertical-align: middle;\n",
              "    }\n",
              "\n",
              "    .dataframe tbody tr th {\n",
              "        vertical-align: top;\n",
              "    }\n",
              "\n",
              "    .dataframe thead th {\n",
              "        text-align: right;\n",
              "    }\n",
              "</style>\n",
              "<table border=\"1\" class=\"dataframe\">\n",
              "  <thead>\n",
              "    <tr style=\"text-align: right;\">\n",
              "      <th></th>\n",
              "      <th>Data</th>\n",
              "      <th>Quadrante</th>\n",
              "      <th>Local</th>\n",
              "      <th>horário</th>\n",
              "      <th>Tipo</th>\n",
              "      <th>Descrição Sumária</th>\n",
              "      <th>Partes</th>\n",
              "      <th>Medidas</th>\n",
              "    </tr>\n",
              "  </thead>\n",
              "  <tbody>\n",
              "    <tr>\n",
              "      <th>275</th>\n",
              "      <td>2013-06-23</td>\n",
              "      <td>Gama</td>\n",
              "      <td>LANSA</td>\n",
              "      <td>23h00</td>\n",
              "      <td>Arrombamento de instalações</td>\n",
              "      <td>Ocorrência 4998-segundo registro a grade que d...</td>\n",
              "      <td>Ñinf</td>\n",
              "      <td>A abertura foi fotografada.</td>\n",
              "    </tr>\n",
              "    <tr>\n",
              "      <th>173</th>\n",
              "      <td>2013-04-29</td>\n",
              "      <td>Gama</td>\n",
              "      <td>LANSA(Eng. Química)</td>\n",
              "      <td>08h00</td>\n",
              "      <td>Arrombamento de instalações</td>\n",
              "      <td>Ocorrência4886-o cadeado da grade foi arrombado.</td>\n",
              "      <td>Dora</td>\n",
              "      <td>Foi acionada a Polícia Federal</td>\n",
              "    </tr>\n",
              "  </tbody>\n",
              "</table>\n",
              "</div>"
            ],
            "text/plain": [
              "          Data Quadrante                Local horário  \\\n",
              "275 2013-06-23      Gama                LANSA   23h00   \n",
              "173 2013-04-29      Gama  LANSA(Eng. Química)   08h00   \n",
              "\n",
              "                           Tipo   \\\n",
              "275  Arrombamento de instalações   \n",
              "173  Arrombamento de instalações   \n",
              "\n",
              "                                     Descrição Sumária Partes  \\\n",
              "275  Ocorrência 4998-segundo registro a grade que d...   Ñinf   \n",
              "173   Ocorrência4886-o cadeado da grade foi arrombado.   Dora   \n",
              "\n",
              "                            Medidas  \n",
              "275     A abertura foi fotografada.  \n",
              "173  Foi acionada a Polícia Federal  "
            ]
          },
          "metadata": {
            "tags": []
          }
        },
        {
          "output_type": "display_data",
          "data": {
            "text/plain": [
              "'2014'"
            ]
          },
          "metadata": {
            "tags": []
          }
        },
        {
          "output_type": "display_data",
          "data": {
            "text/html": [
              "<div>\n",
              "<style scoped>\n",
              "    .dataframe tbody tr th:only-of-type {\n",
              "        vertical-align: middle;\n",
              "    }\n",
              "\n",
              "    .dataframe tbody tr th {\n",
              "        vertical-align: top;\n",
              "    }\n",
              "\n",
              "    .dataframe thead th {\n",
              "        text-align: right;\n",
              "    }\n",
              "</style>\n",
              "<table border=\"1\" class=\"dataframe\">\n",
              "  <thead>\n",
              "    <tr style=\"text-align: right;\">\n",
              "      <th></th>\n",
              "      <th>Data</th>\n",
              "      <th>Quadrante</th>\n",
              "      <th>Local</th>\n",
              "      <th>horário</th>\n",
              "      <th>Tipo</th>\n",
              "      <th>Descrição Sumária</th>\n",
              "      <th>Partes</th>\n",
              "      <th>Medidas</th>\n",
              "    </tr>\n",
              "  </thead>\n",
              "  <tbody>\n",
              "    <tr>\n",
              "      <th>54</th>\n",
              "      <td>2014-02-15 00:00:00</td>\n",
              "      <td>Gama</td>\n",
              "      <td>Pista de Cooper</td>\n",
              "      <td>07h50</td>\n",
              "      <td>Registro de ocorrência</td>\n",
              "      <td>Ocorrência 7269-segundo registro o GTO foi aci...</td>\n",
              "      <td>Ñ inf</td>\n",
              "      <td>O pessoal da elétrica foi comunicado.</td>\n",
              "    </tr>\n",
              "    <tr>\n",
              "      <th>311</th>\n",
              "      <td>2014-08-30 00:00:00</td>\n",
              "      <td>Gama</td>\n",
              "      <td>CE</td>\n",
              "      <td>20h20</td>\n",
              "      <td>Prestação de socorro</td>\n",
              "      <td>Ocorrência 7759 - segundo registro a aluna pas...</td>\n",
              "      <td>Aluna: Antonia Queiliane Costa / Acompanhante:...</td>\n",
              "      <td>A aluna foi levada a UPA da Caxangá.</td>\n",
              "    </tr>\n",
              "  </tbody>\n",
              "</table>\n",
              "</div>"
            ],
            "text/plain": [
              "                    Data Quadrante            Local horário  \\\n",
              "54   2014-02-15 00:00:00      Gama  Pista de Cooper   07h50   \n",
              "311  2014-08-30 00:00:00      Gama               CE   20h20   \n",
              "\n",
              "                      Tipo   \\\n",
              "54   Registro de ocorrência   \n",
              "311    Prestação de socorro   \n",
              "\n",
              "                                     Descrição Sumária  \\\n",
              "54   Ocorrência 7269-segundo registro o GTO foi aci...   \n",
              "311  Ocorrência 7759 - segundo registro a aluna pas...   \n",
              "\n",
              "                                                Partes  \\\n",
              "54                                               Ñ inf   \n",
              "311  Aluna: Antonia Queiliane Costa / Acompanhante:...   \n",
              "\n",
              "                                   Medidas  \n",
              "54   O pessoal da elétrica foi comunicado.  \n",
              "311   A aluna foi levada a UPA da Caxangá.  "
            ]
          },
          "metadata": {
            "tags": []
          }
        },
        {
          "output_type": "display_data",
          "data": {
            "text/plain": [
              "'2015'"
            ]
          },
          "metadata": {
            "tags": []
          }
        },
        {
          "output_type": "display_data",
          "data": {
            "text/html": [
              "<div>\n",
              "<style scoped>\n",
              "    .dataframe tbody tr th:only-of-type {\n",
              "        vertical-align: middle;\n",
              "    }\n",
              "\n",
              "    .dataframe tbody tr th {\n",
              "        vertical-align: top;\n",
              "    }\n",
              "\n",
              "    .dataframe thead th {\n",
              "        text-align: right;\n",
              "    }\n",
              "</style>\n",
              "<table border=\"1\" class=\"dataframe\">\n",
              "  <thead>\n",
              "    <tr style=\"text-align: right;\">\n",
              "      <th></th>\n",
              "      <th>Data</th>\n",
              "      <th>Quadrante</th>\n",
              "      <th>Local</th>\n",
              "      <th>horário</th>\n",
              "      <th>Tipo</th>\n",
              "      <th>Descrição Sumária</th>\n",
              "      <th>Partes</th>\n",
              "      <th>Medidas</th>\n",
              "      <th>Unnamed: 8</th>\n",
              "      <th>Unnamed: 9</th>\n",
              "      <th>...</th>\n",
              "      <th>Unnamed: 26</th>\n",
              "      <th>Unnamed: 27</th>\n",
              "      <th>Unnamed: 28</th>\n",
              "      <th>Unnamed: 29</th>\n",
              "      <th>Unnamed: 30</th>\n",
              "      <th>Unnamed: 31</th>\n",
              "      <th>Unnamed: 32</th>\n",
              "      <th>Unnamed: 33</th>\n",
              "      <th>Unnamed: 34</th>\n",
              "      <th>Unnamed: 35</th>\n",
              "    </tr>\n",
              "  </thead>\n",
              "  <tbody>\n",
              "    <tr>\n",
              "      <th>119</th>\n",
              "      <td>2015-03-20</td>\n",
              "      <td>Ñ inf</td>\n",
              "      <td>Ñ inf</td>\n",
              "      <td>13h30</td>\n",
              "      <td>Colisão</td>\n",
              "      <td>Ocorrência 0157 TURMA \"A\" - segundo registro h...</td>\n",
              "      <td>Proprietária do Fox: Marília de Deus Holanda V...</td>\n",
              "      <td>Ñ inf</td>\n",
              "      <td>NaN</td>\n",
              "      <td>NaN</td>\n",
              "      <td>...</td>\n",
              "      <td>NaN</td>\n",
              "      <td>NaN</td>\n",
              "      <td>NaN</td>\n",
              "      <td>NaN</td>\n",
              "      <td>NaN</td>\n",
              "      <td>NaN</td>\n",
              "      <td>NaN</td>\n",
              "      <td>NaN</td>\n",
              "      <td>NaN</td>\n",
              "      <td>NaN</td>\n",
              "    </tr>\n",
              "    <tr>\n",
              "      <th>284</th>\n",
              "      <td>2015-06-15</td>\n",
              "      <td>Gama</td>\n",
              "      <td>Pista de Cooper</td>\n",
              "      <td>05h40</td>\n",
              "      <td>Furto Privado</td>\n",
              "      <td>Ocorrência 0337 TURMA \"C\" - segundo registro o...</td>\n",
              "      <td>Funcionário: Sérgio Ferreira de Amorim.</td>\n",
              "      <td>A ocorrência foi registrada.</td>\n",
              "      <td>NaN</td>\n",
              "      <td>NaN</td>\n",
              "      <td>...</td>\n",
              "      <td>NaN</td>\n",
              "      <td>NaN</td>\n",
              "      <td>NaN</td>\n",
              "      <td>NaN</td>\n",
              "      <td>NaN</td>\n",
              "      <td>NaN</td>\n",
              "      <td>NaN</td>\n",
              "      <td>NaN</td>\n",
              "      <td>NaN</td>\n",
              "      <td>NaN</td>\n",
              "    </tr>\n",
              "  </tbody>\n",
              "</table>\n",
              "<p>2 rows × 36 columns</p>\n",
              "</div>"
            ],
            "text/plain": [
              "          Data Quadrante            Local horário          Tipo   \\\n",
              "119 2015-03-20     Ñ inf            Ñ inf   13h30        Colisão   \n",
              "284 2015-06-15      Gama  Pista de Cooper   05h40  Furto Privado   \n",
              "\n",
              "                                     Descrição Sumária  \\\n",
              "119  Ocorrência 0157 TURMA \"A\" - segundo registro h...   \n",
              "284  Ocorrência 0337 TURMA \"C\" - segundo registro o...   \n",
              "\n",
              "                                                Partes  \\\n",
              "119  Proprietária do Fox: Marília de Deus Holanda V...   \n",
              "284            Funcionário: Sérgio Ferreira de Amorim.   \n",
              "\n",
              "                          Medidas  Unnamed: 8  Unnamed: 9     ...       \\\n",
              "119                         Ñ inf         NaN         NaN     ...        \n",
              "284  A ocorrência foi registrada.         NaN         NaN     ...        \n",
              "\n",
              "     Unnamed: 26  Unnamed: 27  Unnamed: 28  Unnamed: 29  Unnamed: 30  \\\n",
              "119          NaN          NaN          NaN          NaN          NaN   \n",
              "284          NaN          NaN          NaN          NaN          NaN   \n",
              "\n",
              "     Unnamed: 31  Unnamed: 32  Unnamed: 33  Unnamed: 34  Unnamed: 35  \n",
              "119          NaN          NaN          NaN          NaN          NaN  \n",
              "284          NaN          NaN          NaN          NaN          NaN  \n",
              "\n",
              "[2 rows x 36 columns]"
            ]
          },
          "metadata": {
            "tags": []
          }
        },
        {
          "output_type": "execute_result",
          "data": {
            "text/plain": [
              "[None, None, None, None, None, None, None]"
            ]
          },
          "metadata": {
            "tags": []
          },
          "execution_count": 4
        }
      ]
    },
    {
      "metadata": {
        "id": "h8hYp6H61kiT",
        "colab_type": "text"
      },
      "cell_type": "markdown",
      "source": [
        "### Dataframes Concatenation\n",
        "\n",
        "Processing the dates of all dataframes before merging because they have different formats, it will help to maitain the correctness of the processed dates. Some cleaning in the columns names is also necessary to make then match in concatenation."
      ]
    },
    {
      "metadata": {
        "id": "NSuGE4qW-Fg1",
        "colab_type": "code",
        "outputId": "70b62a46-b9d1-49e5-a30a-4191919bca09",
        "colab": {
          "base_uri": "https://localhost:8080/",
          "height": 359
        }
      },
      "cell_type": "code",
      "source": [
        "# lower all columns and remove extra spaces\n",
        "dfs = {y: df.rename(lambda c: c.lower().strip(), axis='columns') for y, df in dfs.items()}\n",
        "\n",
        "# drop columns\n",
        "drop_rule = re.compile(r'(?x) descrição \\s sumária | medidas | unnamed.*')\n",
        "dfs = {y: df.drop([c for c in df.columns if drop_rule.match(c)], axis='columns') for y, df in dfs.items()}\n",
        "\n",
        "# unify null elements\n",
        "na_rule = re.compile(r'(?i)ñ.*')\n",
        "dfs = {y: df.replace(na_rule.pattern, np.nan, regex=True) for y, df in dfs.items()}\n",
        "\n",
        "# unify date columns, date have different formats along all dataframes, so they have to be processed before concat\n",
        "date_format = {\n",
        "    '2008': '%d.%m.%y',\n",
        "    '2009': '%d.%m.%y',\n",
        "    '2011': '%d.%m.%y',\n",
        "    '2012': '%d.%m.%y',\n",
        "    '2013': '%Y-%m-%d',\n",
        "    '2014': '%Y-%m-%d', #'%Y-%m-%d %h:%m:$s'\n",
        "    '2015': '%Y-%m-%d'\n",
        "}\n",
        "dfs = {\n",
        "    y: df.assign(**{'data': lambda df: pd.to_datetime(df['data'], errors='coerce', format=date_format[y], exact=False)})\n",
        "    for y, df in dfs.items()\n",
        "}\n",
        "\n",
        "# merge dataframes\n",
        "df = pd.concat(dfs, ignore_index=True)\n",
        "df.sample(10)"
      ],
      "execution_count": 5,
      "outputs": [
        {
          "output_type": "execute_result",
          "data": {
            "text/html": [
              "<div>\n",
              "<style scoped>\n",
              "    .dataframe tbody tr th:only-of-type {\n",
              "        vertical-align: middle;\n",
              "    }\n",
              "\n",
              "    .dataframe tbody tr th {\n",
              "        vertical-align: top;\n",
              "    }\n",
              "\n",
              "    .dataframe thead th {\n",
              "        text-align: right;\n",
              "    }\n",
              "</style>\n",
              "<table border=\"1\" class=\"dataframe\">\n",
              "  <thead>\n",
              "    <tr style=\"text-align: right;\">\n",
              "      <th></th>\n",
              "      <th>data</th>\n",
              "      <th>quadrante</th>\n",
              "      <th>local</th>\n",
              "      <th>horário</th>\n",
              "      <th>tipo</th>\n",
              "      <th>partes</th>\n",
              "    </tr>\n",
              "  </thead>\n",
              "  <tbody>\n",
              "    <tr>\n",
              "      <th>144</th>\n",
              "      <td>2008-06-19</td>\n",
              "      <td>NaN</td>\n",
              "      <td>NaN</td>\n",
              "      <td>22h30</td>\n",
              "      <td>Roubo -</td>\n",
              "      <td>Aline Cesaré Matoso</td>\n",
              "    </tr>\n",
              "    <tr>\n",
              "      <th>372</th>\n",
              "      <td>2009-12-13</td>\n",
              "      <td>NaN</td>\n",
              "      <td>Externa</td>\n",
              "      <td>14h25</td>\n",
              "      <td>Roubo</td>\n",
              "      <td>GTO</td>\n",
              "    </tr>\n",
              "    <tr>\n",
              "      <th>1584</th>\n",
              "      <td>2014-07-31</td>\n",
              "      <td>Alfa</td>\n",
              "      <td>NEFD</td>\n",
              "      <td>14h00</td>\n",
              "      <td>Roubo ZLI</td>\n",
              "      <td>NaN</td>\n",
              "    </tr>\n",
              "    <tr>\n",
              "      <th>1812</th>\n",
              "      <td>2015-03-19</td>\n",
              "      <td>Delta</td>\n",
              "      <td>Parada de ônibus BR - 101 próximo ao HC</td>\n",
              "      <td>16h50</td>\n",
              "      <td>Roubo ZLE</td>\n",
              "      <td>NaN</td>\n",
              "    </tr>\n",
              "    <tr>\n",
              "      <th>1667</th>\n",
              "      <td>2014-11-08</td>\n",
              "      <td>Beta</td>\n",
              "      <td>Em frente ao NIATE da Área II</td>\n",
              "      <td>18h05</td>\n",
              "      <td>Colisão</td>\n",
              "      <td>Proprietário do Polo: Antônio Otávio de Santan...</td>\n",
              "    </tr>\n",
              "    <tr>\n",
              "      <th>568</th>\n",
              "      <td>2011-11-28</td>\n",
              "      <td>NaN</td>\n",
              "      <td>NaN</td>\n",
              "      <td>NaN</td>\n",
              "      <td>Registro de Ocorrência</td>\n",
              "      <td>NaN</td>\n",
              "    </tr>\n",
              "    <tr>\n",
              "      <th>5</th>\n",
              "      <td>2008-01-08</td>\n",
              "      <td>NaN</td>\n",
              "      <td>NaN</td>\n",
              "      <td>10h40</td>\n",
              "      <td>Registro de ocorrência</td>\n",
              "      <td>Flávia</td>\n",
              "    </tr>\n",
              "    <tr>\n",
              "      <th>1070</th>\n",
              "      <td>2013-06-06</td>\n",
              "      <td>Delta</td>\n",
              "      <td>Estac.CCS- 14 BIS</td>\n",
              "      <td>19h15</td>\n",
              "      <td>Registro de ocorrência</td>\n",
              "      <td>Tiagro Breno (proprietário do veículo)</td>\n",
              "    </tr>\n",
              "    <tr>\n",
              "      <th>1046</th>\n",
              "      <td>2013-05-23</td>\n",
              "      <td>NaN</td>\n",
              "      <td>NaN</td>\n",
              "      <td>09h10</td>\n",
              "      <td>Colisão</td>\n",
              "      <td>Jose Elias dos Santos (taxista)/Antonio de Oli...</td>\n",
              "    </tr>\n",
              "    <tr>\n",
              "      <th>166</th>\n",
              "      <td>2008-09-28</td>\n",
              "      <td>Alfa</td>\n",
              "      <td>NEFD</td>\n",
              "      <td>17h00</td>\n",
              "      <td>Registro de ocorrência</td>\n",
              "      <td>NaN</td>\n",
              "    </tr>\n",
              "  </tbody>\n",
              "</table>\n",
              "</div>"
            ],
            "text/plain": [
              "           data quadrante                                    local horário  \\\n",
              "144  2008-06-19       NaN                                      NaN   22h30   \n",
              "372  2009-12-13       NaN                                  Externa   14h25   \n",
              "1584 2014-07-31      Alfa                                     NEFD   14h00   \n",
              "1812 2015-03-19     Delta  Parada de ônibus BR - 101 próximo ao HC   16h50   \n",
              "1667 2014-11-08      Beta            Em frente ao NIATE da Área II   18h05   \n",
              "568  2011-11-28       NaN                                      NaN     NaN   \n",
              "5    2008-01-08       NaN                                      NaN   10h40   \n",
              "1070 2013-06-06     Delta                        Estac.CCS- 14 BIS   19h15   \n",
              "1046 2013-05-23       NaN                                      NaN   09h10   \n",
              "166  2008-09-28      Alfa                                     NEFD   17h00   \n",
              "\n",
              "                        tipo  \\\n",
              "144                 Roubo -    \n",
              "372                    Roubo   \n",
              "1584               Roubo ZLI   \n",
              "1812               Roubo ZLE   \n",
              "1667                 Colisão   \n",
              "568   Registro de Ocorrência   \n",
              "5     Registro de ocorrência   \n",
              "1070  Registro de ocorrência   \n",
              "1046                 Colisão   \n",
              "166   Registro de ocorrência   \n",
              "\n",
              "                                                 partes  \n",
              "144                                 Aline Cesaré Matoso  \n",
              "372                                                 GTO  \n",
              "1584                                                NaN  \n",
              "1812                                                NaN  \n",
              "1667  Proprietário do Polo: Antônio Otávio de Santan...  \n",
              "568                                                 NaN  \n",
              "5                                                Flávia  \n",
              "1070             Tiagro Breno (proprietário do veículo)  \n",
              "1046  Jose Elias dos Santos (taxista)/Antonio de Oli...  \n",
              "166                                                 NaN  "
            ]
          },
          "metadata": {
            "tags": []
          },
          "execution_count": 5
        }
      ]
    },
    {
      "metadata": {
        "id": "gHHoo7Wm2op1",
        "colab_type": "text"
      },
      "cell_type": "markdown",
      "source": [
        "### Transform Location Data (quadrant and place)"
      ]
    },
    {
      "metadata": {
        "id": "tM6vjechC6fm",
        "colab_type": "code",
        "colab": {
          "base_uri": "https://localhost:8080/",
          "height": 359
        },
        "outputId": "80415d36-5169-476d-9345-f7896139e1ef"
      },
      "cell_type": "code",
      "source": [
        "df['quadrante'] = df['quadrante']\\\n",
        "    .fillna('')\\\n",
        "    .apply(lambda e: str(e).strip().lower())\\\n",
        "    .apply(lambda e: 'None' if len(e) <= 1 else e)\\\n",
        "    .apply(lambda e: 'externa' if 'externa' in e else e)\\\n",
        "    .apply(lambda e: 'externa' if e.startswith('z') and e.endswith('e') else e)\\\n",
        "    .apply(lambda e: 'interna' if e.startswith('z') else e)\\\n",
        "    .apply(lambda e: e[:e.index('/')] if '/' in e else e)\n",
        "\n",
        "places_rules = [\n",
        "    ('CAC-CFCH', re.compile(r'(?ix) cfch | cac | (a|á)rtes | gere | sintuf')),\n",
        "    ('CE',       re.compile(r'(?ix) ((^|\\s) ce ($|\\s)) | col(é|e)gio | aplica | educaç | ((^|\\s)cap($|\\s))')),\n",
        "    ('CCSA',     re.compile(r'(?ix) ccsa | cssa | adu(e?)fpe | economia | lamsa | ((^|\\s)de(q|c)($|\\s)) | hotel | lac | turism | qu(í|i)mic')),\n",
        "    ('CTG',      re.compile(r'(?ix) ctg | oce(o|a)no | museu | fae | eng. | engenh')),\n",
        "    ('CCEN',     re.compile(r'(?ix) ccen | dep .* físi | matem')),\n",
        "    ('CCB',      re.compile(r'(?ix) ccb')),\n",
        "    ('CCS',      re.compile(r'(?ix) ccs | odonto | dermato | medic | fono | histono | f(á|a)rm(á|a)c | nutri | anato | faci | biot | buco | psico | svo | sa(ú|u)de | antib | nasc')),\n",
        "    ('CIN',      re.compile(r'(?ix) cin | inform')),\n",
        "    ('AREA2',    re.compile(r'(?ix) ((á|a)rea \\s? (2|ii)) | pcu | prefeit | den')),\n",
        "    ('RU',       re.compile(r'(?ix) ru | restaurante')),\n",
        "    ('NTI',      re.compile(r'(?ix) ((^|\\s) nti) | n(ú|u)cleo de tecn')),\n",
        "    ('NEDF',     re.compile(r'(?ix) nedf | nefd | dine | nai | fisio | terapi | (educ .* ica) | arqueo | n(ú|u)cleo | quadra')),\n",
        "    ('LANSA',    re.compile(r'(?ix) lansa')),\n",
        "    ('CECINE',   re.compile(r'(?ix) cecine')),\n",
        "    ('FARMACIA', re.compile(r'(?ix) ')),\n",
        "    ('CEU',      re.compile(r'(?ix) ((^|\\s) ceu ($|\\s|-)) | masc | femin')),\n",
        "    ('DGOS',     re.compile(r'(?ix) dgos')),\n",
        "    ('REITORIA', re.compile(r'(?ix) reitoria | proa | caixa | brasi | ((^|\\s)nae($|\\s|\\.)) | proacad')),\n",
        "    ('BR101',    re.compile(r'(?ix) (br .* 101?) | sudene | viadut | girad')),\n",
        "    ('HC',       re.compile(r'(?ix) hc | hospital | cl(í|i)nicas')),\n",
        "    ('ENTRADA',  re.compile(r'(?ix) entrada | sa(í|i)da | editora | (o|ô)nibus | guarita | ((^|\\s)cos($|\\s))')),\n",
        "    ('AVENIDA',  re.compile(r'(?ix) avenida | av\\. | ceco(n|m) | conven | central | arqui | reitore | teatr | ((^|\\s)bc($|\\s))')),\n",
        "    ('CONCHA',   re.compile(r'(?ix) concha')),\n",
        "    ('COOPER',   re.compile(r'(?ix) cooper')),\n",
        "    ('CAST_AGUA',re.compile(r'(?ix) castelo | agua')),\n",
        "    ('CASA-ESTD',re.compile(r'(?ix) casa | mist')),\n",
        "    ('CLUBE',    re.compile(r'(?ix) clube')),\n",
        "    ('LAKE',     re.compile(r'(?ix) lago | lagu | riach | cavouc')),\n",
        "    ('CAMPUS',   re.compile(r'(?ix) campus | ufpe')),\n",
        "    ('TVU',      re.compile(r'(?ix) tvu | ((^|\\s)tv($|\\s)) | tv \\s u | r(a|á)dio')),\n",
        "    ('none',     re.compile(r'(?ix) none')),\n",
        "    ('OUTROS',   re.compile(r'(?ix) .*')),\n",
        "]\n",
        "place_matcher = lambda e: [place for place, rule in places_rules if rule.search(e)][0]\n",
        "df['local'] = df['local']\\\n",
        "    .fillna('None')\\\n",
        "    .apply(lambda e: str(e).strip().lower())\\\n",
        "    .apply(place_matcher)\n",
        "df.sample(10)"
      ],
      "execution_count": 6,
      "outputs": [
        {
          "output_type": "execute_result",
          "data": {
            "text/html": [
              "<div>\n",
              "<style scoped>\n",
              "    .dataframe tbody tr th:only-of-type {\n",
              "        vertical-align: middle;\n",
              "    }\n",
              "\n",
              "    .dataframe tbody tr th {\n",
              "        vertical-align: top;\n",
              "    }\n",
              "\n",
              "    .dataframe thead th {\n",
              "        text-align: right;\n",
              "    }\n",
              "</style>\n",
              "<table border=\"1\" class=\"dataframe\">\n",
              "  <thead>\n",
              "    <tr style=\"text-align: right;\">\n",
              "      <th></th>\n",
              "      <th>data</th>\n",
              "      <th>quadrante</th>\n",
              "      <th>local</th>\n",
              "      <th>horário</th>\n",
              "      <th>tipo</th>\n",
              "      <th>partes</th>\n",
              "    </tr>\n",
              "  </thead>\n",
              "  <tbody>\n",
              "    <tr>\n",
              "      <th>232</th>\n",
              "      <td>2009-01-26</td>\n",
              "      <td>gama</td>\n",
              "      <td>FARMACIA</td>\n",
              "      <td>18h05</td>\n",
              "      <td>Registro de ocorrência</td>\n",
              "      <td>Estudante de Filosofia Raphael Soares Lucas do...</td>\n",
              "    </tr>\n",
              "    <tr>\n",
              "      <th>437</th>\n",
              "      <td>2011-04-15</td>\n",
              "      <td>delta</td>\n",
              "      <td>CCS</td>\n",
              "      <td>NaN</td>\n",
              "      <td>Carro c/ Vulnerabilidade</td>\n",
              "      <td>NaN</td>\n",
              "    </tr>\n",
              "    <tr>\n",
              "      <th>526</th>\n",
              "      <td>2011-09-14</td>\n",
              "      <td>delta</td>\n",
              "      <td>CCS</td>\n",
              "      <td>NaN</td>\n",
              "      <td>Furto Patrimonial</td>\n",
              "      <td>NaN</td>\n",
              "    </tr>\n",
              "    <tr>\n",
              "      <th>1692</th>\n",
              "      <td>2014-12-21</td>\n",
              "      <td>delta</td>\n",
              "      <td>FARMACIA</td>\n",
              "      <td>09h45</td>\n",
              "      <td>Arrombamento de instalações</td>\n",
              "      <td>NaN</td>\n",
              "    </tr>\n",
              "    <tr>\n",
              "      <th>496</th>\n",
              "      <td>2011-07-25</td>\n",
              "      <td>delta</td>\n",
              "      <td>FARMACIA</td>\n",
              "      <td>10h30</td>\n",
              "      <td>Roubo (ZLE)</td>\n",
              "      <td>NaN</td>\n",
              "    </tr>\n",
              "    <tr>\n",
              "      <th>1721</th>\n",
              "      <td>2015-01-20</td>\n",
              "      <td>delta</td>\n",
              "      <td>LANSA</td>\n",
              "      <td>18h40</td>\n",
              "      <td>Apreensão de Animais</td>\n",
              "      <td>Informantes: vigilantes da TKS lotados no local.</td>\n",
              "    </tr>\n",
              "    <tr>\n",
              "      <th>959</th>\n",
              "      <td>2013-03-27</td>\n",
              "      <td>delta</td>\n",
              "      <td>CCS</td>\n",
              "      <td>NaN</td>\n",
              "      <td>Registro de ocorrência</td>\n",
              "      <td>Aurenice (secretária)</td>\n",
              "    </tr>\n",
              "    <tr>\n",
              "      <th>1265</th>\n",
              "      <td>2013-11-18</td>\n",
              "      <td>gama</td>\n",
              "      <td>CCSA</td>\n",
              "      <td>NaN</td>\n",
              "      <td>Registro de ocorrência</td>\n",
              "      <td>Nelson Medreiros (informante)</td>\n",
              "    </tr>\n",
              "    <tr>\n",
              "      <th>2086</th>\n",
              "      <td>2015-10-17</td>\n",
              "      <td>None</td>\n",
              "      <td>FARMACIA</td>\n",
              "      <td>11h40</td>\n",
              "      <td>Prestação de Socorro</td>\n",
              "      <td>Aluna: Sheyla Lilian dos Santos Barros (Pós Gr...</td>\n",
              "    </tr>\n",
              "    <tr>\n",
              "      <th>1619</th>\n",
              "      <td>2014-08-29</td>\n",
              "      <td>alfa</td>\n",
              "      <td>FARMACIA</td>\n",
              "      <td>00h30</td>\n",
              "      <td>Registro de ocorrência</td>\n",
              "      <td>Aluna: Patrícia Aparecida da Silva Veríssimo /...</td>\n",
              "    </tr>\n",
              "  </tbody>\n",
              "</table>\n",
              "</div>"
            ],
            "text/plain": [
              "           data quadrante     local horário                         tipo  \\\n",
              "232  2009-01-26      gama  FARMACIA   18h05       Registro de ocorrência   \n",
              "437  2011-04-15     delta       CCS     NaN     Carro c/ Vulnerabilidade   \n",
              "526  2011-09-14     delta       CCS     NaN            Furto Patrimonial   \n",
              "1692 2014-12-21     delta  FARMACIA   09h45  Arrombamento de instalações   \n",
              "496  2011-07-25     delta  FARMACIA   10h30                  Roubo (ZLE)   \n",
              "1721 2015-01-20     delta     LANSA   18h40         Apreensão de Animais   \n",
              "959  2013-03-27     delta       CCS     NaN       Registro de ocorrência   \n",
              "1265 2013-11-18      gama      CCSA     NaN       Registro de ocorrência   \n",
              "2086 2015-10-17      None  FARMACIA   11h40         Prestação de Socorro   \n",
              "1619 2014-08-29      alfa  FARMACIA   00h30       Registro de ocorrência   \n",
              "\n",
              "                                                 partes  \n",
              "232   Estudante de Filosofia Raphael Soares Lucas do...  \n",
              "437                                                 NaN  \n",
              "526                                                 NaN  \n",
              "1692                                                NaN  \n",
              "496                                                 NaN  \n",
              "1721   Informantes: vigilantes da TKS lotados no local.  \n",
              "959                               Aurenice (secretária)  \n",
              "1265                      Nelson Medreiros (informante)  \n",
              "2086  Aluna: Sheyla Lilian dos Santos Barros (Pós Gr...  \n",
              "1619  Aluna: Patrícia Aparecida da Silva Veríssimo /...  "
            ]
          },
          "metadata": {
            "tags": []
          },
          "execution_count": 6
        }
      ]
    }
  ]
}